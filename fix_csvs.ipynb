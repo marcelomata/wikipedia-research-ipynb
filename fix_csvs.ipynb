{
 "cells": [
  {
   "cell_type": "code",
   "execution_count": 1,
   "metadata": {
    "collapsed": false
   },
   "outputs": [
    {
     "data": {
      "text/plain": [
       "131072"
      ]
     },
     "execution_count": 1,
     "metadata": {},
     "output_type": "execute_result"
    }
   ],
   "source": [
    "import csv\n",
    "import os\n",
    "import shutil\n",
    "import sys\n",
    "\n",
    "csv.field_size_limit(sys.maxsize)"
   ]
  },
  {
   "cell_type": "code",
   "execution_count": 4,
   "metadata": {
    "collapsed": true
   },
   "outputs": [],
   "source": [
    "datadir = '/home/michael/school/cprose_research/wp/wikipedia/data/'"
   ]
  },
  {
   "cell_type": "code",
   "execution_count": 6,
   "metadata": {
    "collapsed": false
   },
   "outputs": [
    {
     "name": "stdout",
     "output_type": "stream",
     "text": [
      "['All-Palestine Government', '2014-05-07 14:22:30', 'Smitty008', '/* Legal status of governmArticle', 'Timestamp', 'Editor', 'Tag', 'Siding israeli (on palestinian-israeli scale)', 'Total weight of words', 'Amount of weight for palestinian (on israeli-palestinian scale)', 'Total weight of palestinian-leaning words', 'Tag indicates revert', 'Version identical to previous revision']\n"
     ]
    }
   ],
   "source": [
    "# Remove header rows from ipc_article_biases.csv\n",
    "art = os.path.join(datadir, 'ipc_article_biases.csv')\n",
    "new_lines = []\n",
    "\n",
    "header = ['Article', 'Timestamp']\n",
    "\n",
    "old_csvpath = art + '_old'\n",
    "shutil.copy(art, old_csvpath)\n",
    "\n",
    "with open(art, 'r') as old:\n",
    "    reader = csv.reader(old)\n",
    "    for row in reader:\n",
    "        if not row[0] == 'Article' and not row[1] == 'Timestamp':\n",
    "            new_lines.append(row)\n",
    "        if len(row) > 10:\n",
    "            print(row)\n",
    "\n",
    "with open(art, 'w') as new:\n",
    "    writer = csv.writer(new)\n",
    "    for row in new_lines:\n",
    "        writer.writerow(row)"
   ]
  }
 ],
 "metadata": {
  "kernelspec": {
   "display_name": "Python 3",
   "language": "python",
   "name": "python3"
  },
  "language_info": {
   "codemirror_mode": {
    "name": "ipython",
    "version": 3
   },
   "file_extension": ".py",
   "mimetype": "text/x-python",
   "name": "python",
   "nbconvert_exporter": "python",
   "pygments_lexer": "ipython3",
   "version": "3.4.3+"
  }
 },
 "nbformat": 4,
 "nbformat_minor": 0
}
