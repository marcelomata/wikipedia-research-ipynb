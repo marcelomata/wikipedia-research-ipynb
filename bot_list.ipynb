{
 "cells": [
  {
   "cell_type": "code",
   "execution_count": 4,
   "metadata": {
    "collapsed": true
   },
   "outputs": [],
   "source": [
    "import urllib.request\n",
    "import re"
   ]
  },
  {
   "cell_type": "code",
   "execution_count": 5,
   "metadata": {
    "collapsed": false
   },
   "outputs": [
    {
     "data": {
      "text/plain": [
       "1482"
      ]
     },
     "execution_count": 5,
     "metadata": {},
     "output_type": "execute_result"
    }
   ],
   "source": [
    "# Get bot list\n",
    "bots = []\n",
    "cnum = \"\"\n",
    "done = False\n",
    "\n",
    "# Get bot category page\n",
    "category_base_url = \"https://en.wikipedia.org/w/api.php?\" + \\\n",
    "    \"action=query&\" +  \\\n",
    "    \"list=categorymembers&\" + \\\n",
    "    \"format=json&\" + \\\n",
    "    \"cmtitle=Category%3A{:s}&\" +  \\\n",
    "    \"cmprop=title&\" + \\\n",
    "    \"cmlimit=500\" + \\\n",
    "    \"&cmcontinue={:s}\"\n",
    "    \n",
    "while not done:\n",
    "    category_url = category_base_url.format(urllib.parse.quote(\"All_Wikipedia_bots\"), cnum)\n",
    "    #print(category_url)\n",
    "\n",
    "    page =  urllib.request.urlopen(category_url).read().decode('utf-8')\n",
    "    #print(page)\n",
    "\n",
    "    # Extract bot names\n",
    "    botsp = re.findall(r'\"User\\:(?P<username>[\\w\\ /\\.]*)\"\\}', page)\n",
    "    botsp = [re.sub(r'/.*', '', ed) for ed in botsp]\n",
    "    #print(botsp[:10])\n",
    "    bots += botsp\n",
    "#     print(len(bots))\n",
    "\n",
    "    # Get continue number\n",
    "    #cnum = re.search(r'cmcontinue\":\"(?P<cnum>[^\"]*)\"', page)\n",
    "    cnum = re.search(r'cmcontinue\":\"([^\"]*)\"', page)\n",
    "    if cnum:\n",
    "        cnum = cnum.group(1)\n",
    "#         print(cnum)\n",
    "    else:\n",
    "        done = True\n",
    "\n",
    "# Add other bots\n",
    "other_bots = ['SmackBot']\n",
    "bots += other_bots\n",
    "len(bots)"
   ]
  }
 ],
 "metadata": {
  "kernelspec": {
   "display_name": "Python 3",
   "language": "python",
   "name": "python3"
  },
  "language_info": {
   "codemirror_mode": {
    "name": "ipython",
    "version": 3
   },
   "file_extension": ".py",
   "mimetype": "text/x-python",
   "name": "python",
   "nbconvert_exporter": "python",
   "pygments_lexer": "ipython3",
   "version": "3.5.1+"
  }
 },
 "nbformat": 4,
 "nbformat_minor": 0
}
