{
 "cells": [
  {
   "cell_type": "code",
   "execution_count": 6,
   "metadata": {
    "collapsed": true
   },
   "outputs": [],
   "source": [
    "import csv\n",
    "import matplotlib.pyplot as plt\n",
    "import numpy as np\n",
    "from collections import Counter\n",
    "import operator"
   ]
  },
  {
   "cell_type": "code",
   "execution_count": 4,
   "metadata": {
    "collapsed": false
   },
   "outputs": [
    {
     "data": {
      "text/plain": [
       "(345676,)"
      ]
     },
     "execution_count": 4,
     "metadata": {},
     "output_type": "execute_result"
    }
   ],
   "source": [
    "avg_biases = {}\n",
    "csvpath = '/home/michael/school/cprose_research/wp/wp_articles/IPC_userBiases.csv'\n",
    "\n",
    "with open(csvpath, 'r') as csvfile:\n",
    "    reader = csv.reader(csvfile)\n",
    "    next(reader) # Skip first row\n",
    "    for row in reader:\n",
    "        username = row[1]\n",
    "        if not username in avg_biases:\n",
    "            avg_biases[username] = float(row[2])\n",
    "\n",
    "\n",
    "avg_arr = np.array(list(avg_biases.values()))\n",
    "avg_arr.shape"
   ]
  },
  {
   "cell_type": "code",
   "execution_count": 2,
   "metadata": {
    "collapsed": false
   },
   "outputs": [
    {
     "data": {
      "text/plain": [
       "167119"
      ]
     },
     "execution_count": 2,
     "metadata": {},
     "output_type": "execute_result"
    }
   ],
   "source": [
    "# Build sum biases dictionary\n",
    "sum_biases = {}\n",
    "csvpath = '/home/michael/school/cprose_research/wp/wp_articles/ipc_article_biases.csv'\n",
    "\n",
    "with open(csvpath, 'r') as csvfile:\n",
    "    reader = csv.reader(csvfile)\n",
    "    next(reader) # Skip first row\n",
    "    for row in reader:\n",
    "        username = row[1]\n",
    "        bias_change = float(row[12])\n",
    "        if not username in sum_biases:\n",
    "            sum_biases[username] = bias_change\n",
    "        else:\n",
    "            sum_biases[username] += bias_change\n",
    "            \n",
    "len(list(sum_biases.keys()))"
   ]
  },
  {
   "cell_type": "code",
   "execution_count": 4,
   "metadata": {
    "collapsed": false
   },
   "outputs": [],
   "source": [
    "# Write sum_biases out to a csv\n",
    "editor_bias_csvpath = '/home/michael/school/cprose_research/wp/wp_articles/editor_sum_change_bias.csv'\n",
    "\n",
    "with open(editor_bias_csvpath, 'w') as csvfile:\n",
    "    writer = csv.writer(csvfile)\n",
    "    for editor in sum_biases.keys():\n",
    "        writer.writerow([editor, sum_biases[editor]])"
   ]
  },
  {
   "cell_type": "code",
   "execution_count": 8,
   "metadata": {
    "collapsed": false
   },
   "outputs": [
    {
     "data": {
      "text/plain": [
       "5719"
      ]
     },
     "execution_count": 8,
     "metadata": {},
     "output_type": "execute_result"
    }
   ],
   "source": [
    "talk_csvpath = '/home/michael/school/cprose_research/wp/wp-talk/talkpages.csv'\n",
    "talk_editors = []\n",
    "with open(talk_csvpath, 'r') as talkcsv:\n",
    "    reader = csv.reader(talkcsv)\n",
    "    next(reader)\n",
    "    for row in reader:\n",
    "        username = row[3]\n",
    "        if username not in talk_editors:\n",
    "            talk_editors.append(username)\n",
    "\n",
    "len(talk_editors)"
   ]
  },
  {
   "cell_type": "code",
   "execution_count": 9,
   "metadata": {
    "collapsed": false
   },
   "outputs": [
    {
     "data": {
      "text/plain": [
       "3342"
      ]
     },
     "execution_count": 9,
     "metadata": {},
     "output_type": "execute_result"
    }
   ],
   "source": [
    "# Build sorted dictionary of editors in both the articles and talk pages\n",
    "biases_sorted = sorted(sum_biases.items(), key=operator.itemgetter(1))\n",
    "both_talk_articles = []\n",
    "for editor, bias in biases_sorted:\n",
    "    if editor in talk_editors:\n",
    "        both_talk_articles.append((editor, bias))\n",
    "    \n",
    "len(both_talk_articles)"
   ]
  },
  {
   "cell_type": "code",
   "execution_count": null,
   "metadata": {
    "collapsed": true
   },
   "outputs": [],
   "source": [
    "# Write csv editors in both articles and talk pages\n",
    "editor_bias_csvpath = '/home/michael/school/cprose_research/wp/wp_articles/talk_editor_sum_change_bias.csv'\n",
    "\n",
    "with open(editor_bias_csvpath, 'w') as csvfile:\n",
    "    writer = csv.writer(csvfile)\n",
    "    for editor, bias in both_talk_articles:\n",
    "        writer.writerow([editor, bias])"
   ]
  },
  {
   "cell_type": "code",
   "execution_count": 5,
   "metadata": {
    "collapsed": false
   },
   "outputs": [
    {
     "data": {
      "text/plain": [
       "(345676,)"
      ]
     },
     "execution_count": 5,
     "metadata": {},
     "output_type": "execute_result"
    }
   ],
   "source": [
    "sum_biases = {}\n",
    "csvpath = '/home/michael/school/cprose_research/wp/wp_articles/IPC_userBiases.csv'\n",
    "\n",
    "with open(csvpath, 'r') as csvfile:\n",
    "    reader = csv.reader(csvfile)\n",
    "    next(reader) # Skip first row\n",
    "    for row in reader:\n",
    "        username = row[1]\n",
    "        avg_bias = float(row[2])\n",
    "        if not username in sum_biases:\n",
    "            sum_biases[username] = avg_bias\n",
    "        else:\n",
    "            sum_biases[username] += avg_bias\n",
    "            \n",
    "sum_arr = np.array(list(sum_biases.values()))\n",
    "sum_arr.shape"
   ]
  },
  {
   "cell_type": "code",
   "execution_count": 19,
   "metadata": {
    "collapsed": false
   },
   "outputs": [
    {
     "name": "stderr",
     "output_type": "stream",
     "text": [
      "/usr/lib/python3/dist-packages/matplotlib/figure.py:387: UserWarning: matplotlib is currently using a non-GUI backend, so cannot show the figure\n",
      "  \"matplotlib is currently using a non-GUI backend, \"\n"
     ]
    },
    {
     "data": {
      "image/png": "[encoded data removed]",
      "text/plain": [
       "<matplotlib.figure.Figure at 0x7f4f4a1c5cf8>"
      ]
     },
     "metadata": {},
     "output_type": "display_data"
    }
   ],
   "source": [
    "%matplotlib inline\n",
    "\n",
    "# Avg bias histogram\n",
    "\n",
    "# Bins\n",
    "hbins = [i for i in range(-800, 810, 5)]\n",
    "\n",
    "# Make histogram\n",
    "plt.hist(avg_arr, bins=hbins)\n",
    "plt.axis([-800,800,0,10000])\n",
    "plt.title(\"IPC article editor avg bias scores\")\n",
    "plt.xlabel(\"perspective Palestinian - Israeli\")\n",
    "plt.ylabel(\"# users\")\n",
    "ax = plt.gca()\n",
    "ax.set_autoscale_on(False)\n",
    "h = plt.gcf()\n",
    "h.show()"
   ]
  },
  {
   "cell_type": "code",
   "execution_count": 9,
   "metadata": {
    "collapsed": false
   },
   "outputs": [
    {
     "name": "stderr",
     "output_type": "stream",
     "text": [
      "/usr/lib/python3/dist-packages/matplotlib/figure.py:387: UserWarning: matplotlib is currently using a non-GUI backend, so cannot show the figure\n",
      "  \"matplotlib is currently using a non-GUI backend, \"\n"
     ]
    },
    {
     "data": {
      "image/png": "[encoded data removed]",
      "text/plain": [
       "<matplotlib.figure.Figure at 0x7fadbf7ee198>"
      ]
     },
     "metadata": {},
     "output_type": "display_data"
    }
   ],
   "source": [
    "%matplotlib inline\n",
    "\n",
    "# Sum bias histogram\n",
    "\n",
    "xlim = 2000\n",
    "\n",
    "# Bins\n",
    "hbins = [i for i in range(-1*xlim, xlim+10, 5)]\n",
    "\n",
    "# Make histogram\n",
    "plt.hist(sum_arr, bins=hbins)\n",
    "plt.axis([-1*xlim,xlim,0,10000])\n",
    "plt.title(\"IPC article editor sum bias scores\")\n",
    "plt.xlabel(\"perspective Palestinian - Israeli\")\n",
    "plt.ylabel(\"# users\")\n",
    "ax = plt.gca()\n",
    "ax.set_autoscale_on(False)\n",
    "h = plt.gcf()\n",
    "h.show()"
   ]
  },
  {
   "cell_type": "code",
   "execution_count": 10,
   "metadata": {
    "collapsed": true
   },
   "outputs": [],
   "source": [
    "h.savefig('/home/michael/school/cprose_research/wp/wp_articles/ipc_article_edit_sum_histogram.png', dpi=500)"
   ]
  },
  {
   "cell_type": "code",
   "execution_count": 11,
   "metadata": {
    "collapsed": true
   },
   "outputs": [],
   "source": [
    "def classify_editor(bias, param):\n",
    "    if bias > param:\n",
    "        editor_bias = 'i'\n",
    "    elif bias < param*-1:\n",
    "        editor_bias = 'p'\n",
    "    else:\n",
    "        editor_bias = 'n'\n",
    "        \n",
    "    return editor_bias"
   ]
  },
  {
   "cell_type": "code",
   "execution_count": 13,
   "metadata": {
    "collapsed": false
   },
   "outputs": [
    {
     "data": {
      "text/plain": [
       "Counter({'i': 238869, 'n': 1232, 'p': 105575})"
      ]
     },
     "execution_count": 13,
     "metadata": {},
     "output_type": "execute_result"
    }
   ],
   "source": [
    "threshold = 0\n",
    "classifications = []\n",
    "\n",
    "for bias in sum_arr:\n",
    "    c = classify_editor(bias, threshold)\n",
    "    classifications.append(c)\n",
    "\n",
    "c_count = Counter(classifications)\n",
    "c_count"
   ]
  },
  {
   "cell_type": "code",
   "execution_count": 14,
   "metadata": {
    "collapsed": false
   },
   "outputs": [
    {
     "data": {
      "text/plain": [
       "Counter({'i': 232353, 'n': 14051, 'p': 99272})"
      ]
     },
     "execution_count": 14,
     "metadata": {},
     "output_type": "execute_result"
    }
   ],
   "source": [
    "threshold = 5\n",
    "classifications = []\n",
    "\n",
    "for bias in sum_arr:\n",
    "    c = classify_editor(bias, threshold)\n",
    "    classifications.append(c)\n",
    "\n",
    "c_count = Counter(classifications)\n",
    "c_count"
   ]
  },
  {
   "cell_type": "code",
   "execution_count": 15,
   "metadata": {
    "collapsed": false
   },
   "outputs": [
    {
     "data": {
      "text/plain": [
       "Counter({'i': 227610, 'n': 23170, 'p': 94896})"
      ]
     },
     "execution_count": 15,
     "metadata": {},
     "output_type": "execute_result"
    }
   ],
   "source": [
    "threshold = 10\n",
    "classifications = []\n",
    "\n",
    "for bias in sum_arr:\n",
    "    c = classify_editor(bias, threshold)\n",
    "    classifications.append(c)\n",
    "\n",
    "c_count = Counter(classifications)\n",
    "c_count"
   ]
  },
  {
   "cell_type": "code",
   "execution_count": 16,
   "metadata": {
    "collapsed": false
   },
   "outputs": [
    {
     "data": {
      "text/plain": [
       "Counter({'i': 223192, 'n': 31349, 'p': 91135})"
      ]
     },
     "execution_count": 16,
     "metadata": {},
     "output_type": "execute_result"
    }
   ],
   "source": [
    "threshold = 15\n",
    "classifications = []\n",
    "\n",
    "for bias in sum_arr:\n",
    "    c = classify_editor(bias, threshold)\n",
    "    classifications.append(c)\n",
    "\n",
    "c_count = Counter(classifications)\n",
    "c_count"
   ]
  },
  {
   "cell_type": "code",
   "execution_count": 17,
   "metadata": {
    "collapsed": false
   },
   "outputs": [
    {
     "data": {
      "text/plain": [
       "Counter({'i': 219073, 'n': 38773, 'p': 87830})"
      ]
     },
     "execution_count": 17,
     "metadata": {},
     "output_type": "execute_result"
    }
   ],
   "source": [
    "threshold = 20\n",
    "classifications = []\n",
    "\n",
    "for bias in sum_arr:\n",
    "    c = classify_editor(bias, threshold)\n",
    "    classifications.append(c)\n",
    "\n",
    "c_count = Counter(classifications)\n",
    "c_count"
   ]
  },
  {
   "cell_type": "code",
   "execution_count": 18,
   "metadata": {
    "collapsed": false
   },
   "outputs": [
    {
     "data": {
      "text/plain": [
       "Counter({'i': 215028, 'n': 46008, 'p': 84640})"
      ]
     },
     "execution_count": 18,
     "metadata": {},
     "output_type": "execute_result"
    }
   ],
   "source": [
    "threshold = 25\n",
    "classifications = []\n",
    "\n",
    "for bias in sum_arr:\n",
    "    c = classify_editor(bias, threshold)\n",
    "    classifications.append(c)\n",
    "\n",
    "c_count = Counter(classifications)\n",
    "c_count"
   ]
  },
  {
   "cell_type": "code",
   "execution_count": 19,
   "metadata": {
    "collapsed": false
   },
   "outputs": [
    {
     "data": {
      "text/plain": [
       "Counter({'i': 211146, 'n': 53113, 'p': 81417})"
      ]
     },
     "execution_count": 19,
     "metadata": {},
     "output_type": "execute_result"
    }
   ],
   "source": [
    "threshold = 30\n",
    "classifications = []\n",
    "\n",
    "for bias in sum_arr:\n",
    "    c = classify_editor(bias, threshold)\n",
    "    classifications.append(c)\n",
    "\n",
    "c_count = Counter(classifications)\n",
    "c_count"
   ]
  },
  {
   "cell_type": "code",
   "execution_count": 28,
   "metadata": {
    "collapsed": false
   },
   "outputs": [
    {
     "name": "stdout",
     "output_type": "stream",
     "text": [
      "Telaviv1\n",
      "Sum bias 2301385.7396559725\n",
      "Avg bias 703.5725281736022\n"
     ]
    }
   ],
   "source": [
    "# Find highly Israeli and highly Palestinian editors\n",
    "isr_ed = list(sum_biases.keys())[list(sum_biases.values()).index(max(sum_biases.values()))]\n",
    "print(isr_ed)\n",
    "print(\"Sum bias\", sum_biases[isr_ed])\n",
    "print(\"Avg bias\", avg_biases[isr_ed])"
   ]
  },
  {
   "cell_type": "code",
   "execution_count": 27,
   "metadata": {
    "collapsed": false
   },
   "outputs": [
    {
     "name": "stdout",
     "output_type": "stream",
     "text": [
      "69.181.135.2\n"
     ]
    },
    {
     "data": {
      "text/plain": [
       "133584.48588143926"
      ]
     },
     "execution_count": 27,
     "metadata": {},
     "output_type": "execute_result"
    }
   ],
   "source": [
    "isr_ed = list(avg_biases.keys())[list(avg_biases.values()).index(max(avg_biases.values()))]\n",
    "print(isr_ed)\n",
    "avg_biases[isr_ed]"
   ]
  }
 ],
 "metadata": {
  "kernelspec": {
   "display_name": "Python 3",
   "language": "python",
   "name": "python3"
  },
  "language_info": {
   "codemirror_mode": {
    "name": "ipython",
    "version": 3
   },
   "file_extension": ".py",
   "mimetype": "text/x-python",
   "name": "python",
   "nbconvert_exporter": "python",
   "pygments_lexer": "ipython3",
   "version": "3.4.3+"
  }
 },
 "nbformat": 4,
 "nbformat_minor": 0
}
