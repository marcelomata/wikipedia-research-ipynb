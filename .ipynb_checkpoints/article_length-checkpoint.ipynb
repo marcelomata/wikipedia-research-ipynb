{
 "cells": [
  {
   "cell_type": "code",
   "execution_count": 1,
   "metadata": {
    "collapsed": false
   },
   "outputs": [
    {
     "data": {
      "text/plain": [
       "131072"
      ]
     },
     "execution_count": 1,
     "metadata": {},
     "output_type": "execute_result"
    }
   ],
   "source": [
    "import csv\n",
    "import sys\n",
    "import os\n",
    "\n",
    "csv.field_size_limit(sys.maxsize)"
   ]
  },
  {
   "cell_type": "code",
   "execution_count": 8,
   "metadata": {
    "collapsed": false,
    "scrolled": true
   },
   "outputs": [
    {
     "name": "stdout",
     "output_type": "stream",
     "text": [
      "edward_said.tsv\n",
      "second_intifada.tsv\n",
      "101_squadron_(israel).tsv\n"
     ]
    }
   ],
   "source": [
    "#%debug\n",
    "rawdirpath = '/home/michael/school/cprose_research/wp/wp_articles/extract/extract_articles/ipc_articles_raw/'\n",
    "#rawpath = '/home/michael/school/cprose_research/wp/wp_articles/extract/extract_articles/ipc_articles_raw/second_intifada.tsv'\n",
    "outpath = '/home/michael/school/cprose_research/wp/wp_articles/article_lengths.csv'\n",
    "    \n",
    "for p in os.listdir(rawdirpath):\n",
    "    rawpath = os.path.join(rawdirpath, p)\n",
    "    with open(rawpath, 'r') as rawfile:\n",
    "        reader = csv.reader(rawfile, delimiter='\\t')\n",
    "        art_info = [row[:2] + row[3:5] + [len(row[2].split(' '))] for row in reader]\n",
    "    data.append(art_info)\n",
    "    print(p)\n",
    "\n",
    "# Write csv\n",
    "with open(outpath, 'w') as out:\n",
    "    writer = csv.writer(out, quoting=csv.QUOTE_MINIMAL)\n",
    "    writer.writerow(['article_name', 'timestamp', 'editor', 'edit_comment', 'article_length'])\n",
    "    writer.writerows(sum(data, []))\n",
    "    print(\"Wrote file at\", outpath)"
   ]
  }
 ],
 "metadata": {
  "kernelspec": {
   "display_name": "Python 3",
   "language": "python",
   "name": "python3"
  },
  "language_info": {
   "codemirror_mode": {
    "name": "ipython",
    "version": 3
   },
   "file_extension": ".py",
   "mimetype": "text/x-python",
   "name": "python",
   "nbconvert_exporter": "python",
   "pygments_lexer": "ipython3",
   "version": "3.4.3+"
  }
 },
 "nbformat": 4,
 "nbformat_minor": 0
}
