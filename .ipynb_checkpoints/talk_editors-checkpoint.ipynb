{
 "cells": [
  {
   "cell_type": "code",
   "execution_count": 1,
   "metadata": {
    "collapsed": false
   },
   "outputs": [
    {
     "name": "stdout",
     "output_type": "stream",
     "text": [
      "5537\n"
     ]
    }
   ],
   "source": [
    "import csv\n",
    "from collections import Counter\n",
    "\n",
    "# Talk page usernames\n",
    "csvpath = '/home/michael/school/research/wp/wikipedia/data/talk/ipc_utf8_talkpages.csv'\n",
    "talk_counter = Counter()\n",
    "\n",
    "with open(csvpath, 'r') as csvfile:\n",
    "    reader = csv.reader(csvfile, delimiter=',')\n",
    "    for row in reader:\n",
    "        talk_counter[row[3]] += 1\n",
    "\n",
    "talk_eds = set(talk_counter.keys())\n",
    "print(len(talk_eds))"
   ]
  },
  {
   "cell_type": "code",
   "execution_count": null,
   "metadata": {
    "collapsed": true
   },
   "outputs": [],
   "source": [
    "# Talk page usernames\n",
    "edspath = '/home/michael/school/research/wp/wikipedia/data/talk/talk_eds.txt'\n",
    "talk_eds = []\n",
    "\n",
    "with open(edspath, 'r') as infile:\n",
    "    talk_eds = set([row for row in infile.read().splitlines()])\n",
    "\n",
    "print(len(talk_eds))"
   ]
  },
  {
   "cell_type": "code",
   "execution_count": 2,
   "metadata": {
    "collapsed": true
   },
   "outputs": [],
   "source": [
    "# Print out list of talk editors\n",
    "\n",
    "outpath = '/home/michael/school/research/wp/wikipedia/data/talk/talk_eds.txt'\n",
    "\n",
    "with open(outpath, 'w') as f:\n",
    "    for ed in sorted(talk_eds):\n",
    "        f.write(ed + '\\n')"
   ]
  }
 ],
 "metadata": {
  "kernelspec": {
   "display_name": "Python 3",
   "language": "python",
   "name": "python3"
  },
  "language_info": {
   "codemirror_mode": {
    "name": "ipython",
    "version": 3
   },
   "file_extension": ".py",
   "mimetype": "text/x-python",
   "name": "python",
   "nbconvert_exporter": "python",
   "pygments_lexer": "ipython3",
   "version": "3.5.2"
  }
 },
 "nbformat": 4,
 "nbformat_minor": 0
}
