{
 "cells": [
  {
   "cell_type": "code",
   "execution_count": 1,
   "metadata": {
    "collapsed": false
   },
   "outputs": [],
   "source": [
    "import nltk\n",
    "from nltk.corpus import stopwords\n",
    "import gensim as g\n",
    "import csv\n",
    "import sys\n",
    "import string\n",
    "import os\n",
    "import numpy as np\n",
    "import pandas as pd\n",
    "from collections import Counter, defaultdict"
   ]
  },
  {
   "cell_type": "code",
   "execution_count": 2,
   "metadata": {
    "collapsed": false
   },
   "outputs": [
    {
     "data": {
      "text/plain": [
       "171"
      ]
     },
     "execution_count": 2,
     "metadata": {},
     "output_type": "execute_result"
    }
   ],
   "source": [
    "# Prepare stopwords\n",
    "custom_puncstops = [\"''\", \"``\", \"--\"]\n",
    "puncstops = [c for c in string.punctuation]\n",
    "puncstops.extend(custom_puncstops)\n",
    "\n",
    "#custom_stops = [\"'s\", 'q', 'israel', 'israeli', 'palestinian', 'palestinians']\n",
    "custom_stops = ['template', \"'s\", 'ref', '/ref', 'url=http', 'http', 'name=', 'c', 'harvnb']\n",
    "\n",
    "stops = stopwords.words('english')[:]\n",
    "stops.extend(puncstops)\n",
    "stops.extend(custom_stops)\n",
    "len(stops)"
   ]
  },
  {
   "cell_type": "code",
   "execution_count": 12,
   "metadata": {
    "collapsed": false,
    "scrolled": true
   },
   "outputs": [
    {
     "name": "stdout",
     "output_type": "stream",
     "text": [
      "0: 0.015*lebanon + 0.013*water + 0.009*lebanese + 0.005*obama + 0.005*river + 0.005*jordan + 0.004*syria + 0.004*democracy + 0.004*beirut + 0.004*syrian + 0.004*plo + 0.004*haifa + 0.003*2008 + 0.003*cite_web + 0.003*damascus + 0.003*city + 0.003*2009 + 0.002*1982 + 0.002*south + 0.002*nidal\n",
      "\n",
      "1: 0.008*jerusalem + 0.008*jewish + 0.006*city + 0.006*temple + 0.004*jews + 0.004*hebrew + 0.004*century + 0.004*also + 0.004*first + 0.003*history + 0.003*new + 0.003*holy + 0.003*mount + 0.003*one + 0.003*israel + 0.003*god + 0.003*christian + 0.003*ancient + 0.003*church + 0.003*roman\n",
      "\n",
      "2: 0.010*israel + 0.010*bank + 0.010*west + 0.009*israeli + 0.008*cite_web + 0.006*jews + 0.006*barrier + 0.006*palestinian + 0.005*jewish + 0.005*settlements + 0.005*population + 0.004*2012 + 0.004*apartheid + 0.004*settlement + 0.003*land + 0.003*gaza + 0.003*jerusalem + 0.003*palestinians + 0.003*international + 0.003*2009\n",
      "\n",
      "3: 0.013*israel + 0.011*palestinian + 0.007*arab + 0.007*palestine + 0.006*jewish + 0.006*state + 0.004*israeli + 0.004*peace + 0.004*international + 0.004*united + 0.004*would + 0.004*east + 0.003*university + 0.003*law + 0.003*jerusalem + 0.003*new + 0.003*states + 0.003*government + 0.003*war + 0.003*political\n",
      "\n",
      "4: 0.015*israel + 0.011*israeli + 0.009*war + 0.004*military + 0.004*forces + 0.004*egyptian + 0.004*egypt + 0.003*p. + 0.003*jerusalem + 0.003*would + 0.003*gaza + 0.003*june + 0.002*force + 0.002*operation + 0.002*army + 0.002*may + 0.002*united + 0.002*cite_web + 0.002*arab + 0.002*german\n",
      "\n",
      "5: 0.019*minister + 0.014*israel + 0.014*party + 0.014*israeli + 0.009*prime + 0.008*knesset + 0.006*election + 0.006*government + 0.005*likud + 0.004*death + 0.004*date + 0.004*birth + 0.004*labor + 0.004*legislative + 0.004*elections + 0.004*served + 0.004*place + 0.004*yitzhak + 0.004*netanyahu + 0.003*tel\n",
      "\n",
      "6: 0.007*king + 0.005*saudi + 0.004*abdullah + 0.004*arabia + 0.004*al + 0.003*cross + 0.003*jordan + 0.003*prince + 0.003*faisal + 0.003*film + 0.003*bin + 0.003*high + 0.003*low + 0.003*new + 0.003*cite_web + 0.002*precipitation + 0.002*umar + 0.002*kissinger + 0.002*hussein + 0.002*order\n",
      "\n",
      "7: 0.015*egypt + 0.010*egyptian + 0.007*president + 0.006*mubarak + 0.006*2012 + 0.006*nasser + 0.006*2013 + 0.006*2011 + 0.006*bush + 0.006*brotherhood + 0.004*morsi + 0.004*muslim + 0.004*protests + 0.004*university + 0.004*revolution + 0.004*february + 0.004*cite_web + 0.003*cairo + 0.003*hezbollah + 0.003*yemen\n",
      "\n",
      "8: 0.009*jewish + 0.008*jews + 0.004*sfn + 0.003*also + 0.002*time + 0.002*many + 0.002*cite_book + 0.002*one + 0.002*judaism + 0.002*city + 0.002*cite_web + 0.002*people + 0.002*world + 0.002*first + 0.002*war + 0.002*new + 0.002*arab + 0.002*poland + 0.002*2008 + 0.002*history\n",
      "\n",
      "9: 0.020*palestine + 0.013*1948 + 0.013*village + 0.010*p. + 0.008*arab + 0.007*palestinian + 0.007*cite_book + 0.006*villages + 0.005*morris + 0.005*population + 0.004*land + 0.004*war + 0.004*depopulated + 0.004*khalidi + 0.004*area + 0.003*year + 0.003*title + 0.003*also + 0.003*jerusalem + 0.003*statistics\n",
      "\n",
      "10: 0.011*israeli + 0.010*cite_news + 0.010*israel + 0.009*palestinian + 0.009*gaza + 0.007*hamas + 0.006*2010 + 0.006*2011 + 0.005*killed + 0.005*2012 + 0.005*june + 0.004*2008 + 0.004*2009 + 0.004*2006 + 0.004*cite_web + 0.004*january + 0.004*news + 0.004*march + 0.004*said + 0.003*attack\n",
      "\n",
      "11: 0.011*cite_web + 0.011*flag + 0.008*2011 + 0.008*united + 0.007*nations + 0.007*palestine + 0.007*state + 0.006*states + 0.006*arab + 0.005*cite_news + 0.005*relations + 0.005*2012 + 0.005*foreign + 0.005*un + 0.005*2010 + 0.004*international + 0.004*september + 0.004*republic + 0.004*rights + 0.004*flagicon\n",
      "\n",
      "12: 0.005*harvnb + 0.004*first + 0.004*empire + 0.003*war + 0.003*cite_book + 0.003*title + 0.003*soviet + 0.003*army + 0.002*also + 0.002*last + 0.002*azerbaijan + 0.002*world + 0.002*– + 0.002*history + 0.002*one + 0.002*ibn + 0.002*byzantine + 0.002*press + 0.002*publisher + 0.002*citation\n",
      "\n",
      "13: 0.008*air + 0.006*aircraft + 0.005*war + 0.005*used + 0.004*mm + 0.004*force + 0.004*service + 0.004*soviet + 0.004*vehicle + 0.003*also + 0.003*tank + 0.003*two + 0.003*mirage + 0.003*gun + 0.003*army + 0.003*p. + 0.003*– + 0.003*one + 0.003*combat + 0.003*first\n",
      "\n",
      "14: 0.007*iran + 0.005*2009 + 0.005*cite_web + 0.005*boycott + 0.003*israel + 0.003*day + 0.003*khomeini + 0.003*iranian + 0.003*ahmadinejad + 0.003*2013 + 0.003*also + 0.003*yom + 0.003*sea + 0.002*khamenei + 0.002*bethlehem + 0.002*president + 0.002*dead + 0.002*2012 + 0.002*hebrew + 0.002*june\n"
     ]
    }
   ],
   "source": [
    "# Load LDA model 15\n",
    "lda15 = g.models.ldamodel.LdaModel.load(\"lda15.model\", mmap='r')\n",
    "print(\"\\n\\n\".join([\"{:d}: {:s}\".format(i, wds) for (i, wds) in lda15.print_topics(15, num_words=20)]))"
   ]
  },
  {
   "cell_type": "code",
   "execution_count": 18,
   "metadata": {
    "collapsed": false
   },
   "outputs": [
    {
     "data": {
      "text/plain": [
       "2067"
      ]
     },
     "execution_count": 18,
     "metadata": {},
     "output_type": "execute_result"
    }
   ],
   "source": [
    "# Import and prepare the full Wikipedia latest edition corpus\n",
    "\n",
    "csv.field_size_limit(sys.maxsize)\n",
    "\n",
    "corpus_csvpath = '/home/michael/school/cprose_research/wp/wikipedia/data/ipc_articles_latest.tsv'\n",
    "wp_docs = []\n",
    "with open(corpus_csvpath) as corpus_csv:\n",
    "    reader = csv.reader(corpus_csv, delimiter='\\t', quoting=csv.QUOTE_NONE)\n",
    "    #headings = next(reader)\n",
    "    for line in reader:\n",
    "        text = line[2]\n",
    "        \n",
    "        # Tokenize\n",
    "        doctoks = nltk.word_tokenize(text)\n",
    "        \n",
    "        # Make lowercase\n",
    "        lowtoks = [tok.lower() for tok in doctoks]\n",
    "        \n",
    "        # Remove punctuation and stopwords\n",
    "        cleantoks = [tok for tok in lowtoks if not tok in stops]\n",
    "        \n",
    "        wp_docs.append(cleantoks)\n",
    "    \n",
    "# Create Gensim dictionary (words to IDs)\n",
    "wp_dictionary = g.corpora.Dictionary(wp_docs)\n",
    "len(wp_docs)"
   ]
  },
  {
   "cell_type": "code",
   "execution_count": 6,
   "metadata": {
    "collapsed": false,
    "scrolled": true
   },
   "outputs": [
    {
     "name": "stdout",
     "output_type": "stream",
     "text": [
      "0.019*minister + 0.014*israel + 0.014*party + 0.014*israeli + 0.009*prime + 0.008*knesset + 0.006*election + 0.006*government + 0.005*likud + 0.004*death + 0.004*date + 0.004*birth + 0.004*labor + 0.004*legislative + 0.004*elections + 0.004*served + 0.004*place + 0.004*yitzhak + 0.004*netanyahu + 0.003*tel\n",
      "\n",
      "0.011*cite_web + 0.011*flag + 0.008*2011 + 0.008*united + 0.007*nations + 0.007*palestine + 0.007*state + 0.006*states + 0.006*arab + 0.005*cite_news + 0.005*relations + 0.005*2012 + 0.005*foreign + 0.005*un + 0.005*2010 + 0.004*international + 0.004*september + 0.004*republic + 0.004*rights + 0.004*flagicon\n",
      "\n",
      "0.008*air + 0.006*aircraft + 0.005*war + 0.005*used + 0.004*mm + 0.004*force + 0.004*service + 0.004*soviet + 0.004*vehicle + 0.003*also + 0.003*tank + 0.003*two + 0.003*mirage + 0.003*gun + 0.003*army + 0.003*p. + 0.003*– + 0.003*one + 0.003*combat + 0.003*first\n",
      "\n",
      "0.009*jewish + 0.008*jews + 0.004*sfn + 0.003*also + 0.002*time + 0.002*many + 0.002*cite_book + 0.002*one + 0.002*judaism + 0.002*city + 0.002*cite_web + 0.002*people + 0.002*world + 0.002*first + 0.002*war + 0.002*new + 0.002*arab + 0.002*poland + 0.002*2008 + 0.002*history\n",
      "\n",
      "0.007*iran + 0.005*2009 + 0.005*cite_web + 0.005*boycott + 0.003*israel + 0.003*day + 0.003*khomeini + 0.003*iranian + 0.003*ahmadinejad + 0.003*2013 + 0.003*also + 0.003*yom + 0.003*sea + 0.002*khamenei + 0.002*bethlehem + 0.002*president + 0.002*dead + 0.002*2012 + 0.002*hebrew + 0.002*june\n",
      "\n",
      "0.015*israel + 0.011*israeli + 0.009*war + 0.004*military + 0.004*forces + 0.004*egyptian + 0.004*egypt + 0.003*p. + 0.003*jerusalem + 0.003*would + 0.003*gaza + 0.003*june + 0.002*force + 0.002*operation + 0.002*army + 0.002*may + 0.002*united + 0.002*cite_web + 0.002*arab + 0.002*german\n",
      "\n",
      "0.005*harvnb + 0.004*first + 0.004*empire + 0.003*war + 0.003*cite_book + 0.003*title + 0.003*soviet + 0.003*army + 0.002*also + 0.002*last + 0.002*azerbaijan + 0.002*world + 0.002*– + 0.002*history + 0.002*one + 0.002*ibn + 0.002*byzantine + 0.002*press + 0.002*publisher + 0.002*citation\n",
      "\n",
      "0.013*israel + 0.011*palestinian + 0.007*arab + 0.007*palestine + 0.006*jewish + 0.006*state + 0.004*israeli + 0.004*peace + 0.004*international + 0.004*united + 0.004*would + 0.004*east + 0.003*university + 0.003*law + 0.003*jerusalem + 0.003*new + 0.003*states + 0.003*government + 0.003*war + 0.003*political\n",
      "\n",
      "0.015*egypt + 0.010*egyptian + 0.007*president + 0.006*mubarak + 0.006*2012 + 0.006*nasser + 0.006*2013 + 0.006*2011 + 0.006*bush + 0.006*brotherhood + 0.004*morsi + 0.004*muslim + 0.004*protests + 0.004*university + 0.004*revolution + 0.004*february + 0.004*cite_web + 0.003*cairo + 0.003*hezbollah + 0.003*yemen\n",
      "\n",
      "0.010*israel + 0.010*bank + 0.010*west + 0.009*israeli + 0.008*cite_web + 0.006*jews + 0.006*barrier + 0.006*palestinian + 0.005*jewish + 0.005*settlements + 0.005*population + 0.004*2012 + 0.004*apartheid + 0.004*settlement + 0.003*land + 0.003*gaza + 0.003*jerusalem + 0.003*palestinians + 0.003*international + 0.003*2009\n"
     ]
    }
   ],
   "source": [
    "# k = 15, 100 passes\n",
    "# Create LDA model (batch)\n",
    "lda15 = g.models.ldamodel.LdaModel(docs_vecs, id2word=dictionary, num_topics=15, passes=100, update_every=0)\n",
    "lda15.save(\"lda15.model\")\n",
    "print(\"\\n\\n\".join([\"{:d}: {:s}\".format(i, wds) for (i, wds) in lda15.print_topics(15, num_words=20)]))"
   ]
  },
  {
   "cell_type": "code",
   "execution_count": 20,
   "metadata": {
    "collapsed": false
   },
   "outputs": [
    {
     "data": {
      "text/plain": [
       "2067"
      ]
     },
     "execution_count": 20,
     "metadata": {},
     "output_type": "execute_result"
    }
   ],
   "source": [
    "len(wp_docs)"
   ]
  },
  {
   "cell_type": "code",
   "execution_count": 26,
   "metadata": {
    "collapsed": false
   },
   "outputs": [
    {
     "name": "stderr",
     "output_type": "stream",
     "text": [
      "WARNING:gensim.models.ldamodel:LdaModel.top_topics() called with an empty corpus\n"
     ]
    }
   ],
   "source": [
    "# Examine topic coherence\n",
    "lda15.top_topics(lda15)"
   ]
  },
  {
   "cell_type": "code",
   "execution_count": 3,
   "metadata": {
    "collapsed": false
   },
   "outputs": [
    {
     "data": {
      "text/plain": [
       "594"
      ]
     },
     "execution_count": 3,
     "metadata": {},
     "output_type": "execute_result"
    }
   ],
   "source": [
    "# Select issue corpus from Bitterlemons\n",
    "\n",
    "# Extract topics\n",
    "metadir = '/home/michael/school/cprose_research/bitterlemons_corpus_1.0/meta/'\n",
    "topics = []\n",
    "topic_fnames = defaultdict(list)\n",
    "\n",
    "for f in os.listdir(metadir):\n",
    "    if not any(s in f for s in ['orig', '~']):\n",
    "        fpath = os.path.join(metadir, f)\n",
    "        with open(fpath, 'r') as tsv:\n",
    "            reader = csv.reader(tsv, delimiter='\\t')\n",
    "            first_line = next(reader)\n",
    "            topic = first_line[4]\n",
    "            topics.append(topic)\n",
    "            topic_fnames[topic].append(f)\n",
    "\n",
    "len(topics)"
   ]
  },
  {
   "cell_type": "code",
   "execution_count": 4,
   "metadata": {
    "collapsed": false
   },
   "outputs": [
    {
     "name": "stdout",
     "output_type": "stream",
     "text": [
      "dict_keys(['separation barrier', 'peace process', 'Israeli Arabs', 'one-state and two-state solutions', 'US role', 'international role', 'Gaza', 'refugees and the Right of Return', 'internal politics', 'occupation', 'Israeli settlements', 'Jerusalem', \"citizens' life\", 'Palestinian statehood', 'direct conflict'])\n",
      "15\n"
     ]
    }
   ],
   "source": [
    "# Map topics to issues\n",
    "issuespath = '/home/michael/school/cprose_research/bitterlemons_corpus_1.0/bl_issues.csv'\n",
    "issues = defaultdict(list) # { issue: [topics]}\n",
    "issues_fnames = defaultdict(list)\n",
    "\n",
    "with open(issuespath, 'r') as f:\n",
    "    reader = csv.reader(f)\n",
    "    next(reader)\n",
    "    for row in reader:\n",
    "        topic = row[0]\n",
    "        issue = row[1]\n",
    "        issues[issue].append(topic)\n",
    "        issues_fnames[issue] += topic_fnames[topic]\n",
    "\n",
    "print(issues.keys())\n",
    "print(len(issues_fnames.values()))"
   ]
  },
  {
   "cell_type": "code",
   "execution_count": 5,
   "metadata": {
    "collapsed": false
   },
   "outputs": [
    {
     "data": {
      "text/plain": [
       "15"
      ]
     },
     "execution_count": 5,
     "metadata": {},
     "output_type": "execute_result"
    }
   ],
   "source": [
    "# Get texts by issue\n",
    "docspath = '/home/michael/school/cprose_research/bitterlemons_corpus_1.0/docs/'\n",
    "issues_texts = defaultdict(list) # {issue: [(fname, text)]}\n",
    "\n",
    "for issue in list(issues_fnames.keys()):\n",
    "    for fname in issues_fnames[issue]:\n",
    "        docpath = os.path.join(docspath, fname)\n",
    "        with open(docpath, 'r') as f:\n",
    "            doc = f.read().replace('\\n', ' ')\n",
    "        issues_texts[issue].append((fname, doc))\n",
    "    \n",
    "len(issues_texts.keys())"
   ]
  },
  {
   "cell_type": "code",
   "execution_count": 6,
   "metadata": {
    "collapsed": false
   },
   "outputs": [
    {
     "name": "stdout",
     "output_type": "stream",
     "text": [
      "15\n"
     ]
    }
   ],
   "source": [
    "# Aggregate texts per issue\n",
    "issues_textlist = []\n",
    "issues_titles = []\n",
    "for issue in issues_texts.keys():\n",
    "    fulltext = \"\"\n",
    "    for fname, text in issues_texts[issue]:\n",
    "        fulltext += text + ' '\n",
    "    issues_textlist.append(fulltext)\n",
    "    issues_titles.append(issue)\n",
    "\n",
    "print(len(issues_textlist))"
   ]
  },
  {
   "cell_type": "code",
   "execution_count": 7,
   "metadata": {
    "collapsed": false
   },
   "outputs": [
    {
     "data": {
      "text/plain": [
       "15"
      ]
     },
     "execution_count": 7,
     "metadata": {},
     "output_type": "execute_result"
    }
   ],
   "source": [
    "# Tokenize issues\n",
    "issues_toks = []\n",
    "\n",
    "for issuetext in issues_textlist:\n",
    "    doctoks = nltk.word_tokenize(issuetext)\n",
    "\n",
    "    # Make lowercase\n",
    "    lowtoks = [tok.lower() for tok in doctoks]\n",
    "\n",
    "    # Remove punctuation and stopwords\n",
    "    cleantoks = [tok for tok in lowtoks if not tok in stops]\n",
    "    \n",
    "    issues_toks.append(cleantoks)\n",
    "    \n",
    "len(issues_toks)"
   ]
  },
  {
   "cell_type": "code",
   "execution_count": 8,
   "metadata": {
    "collapsed": false
   },
   "outputs": [
    {
     "data": {
      "text/plain": [
       "15"
      ]
     },
     "execution_count": 8,
     "metadata": {},
     "output_type": "execute_result"
    }
   ],
   "source": [
    "# Create Gensim dictionary (words to IDs)\n",
    "bl_dictionary = g.corpora.Dictionary(issues_toks)\n",
    "\n",
    "# Create vectors for each issue\n",
    "issues_vecs = [bl_dictionary.doc2bow(issue) for issue in issues_toks]\n",
    "len(issues_vecs)"
   ]
  },
  {
   "cell_type": "code",
   "execution_count": 14,
   "metadata": {
    "collapsed": false
   },
   "outputs": [
    {
     "name": "stdout",
     "output_type": "stream",
     "text": [
      "Issue 0 separation barrier\n",
      "14: 0.352426\n",
      "3: 0.172199\n",
      "11: 0.149791\n",
      "10: 0.098425\n",
      "4: 0.095927\n",
      "12: 0.045832\n",
      "9: 0.031542\n",
      "13: 0.027314\n",
      "8: 0.013963\n",
      "\n",
      "\n",
      "Issue 1 peace process\n",
      "14: 0.244802\n",
      "8: 0.185228\n",
      "3: 0.178315\n",
      "10: 0.098794\n",
      "11: 0.093790\n",
      "4: 0.079477\n",
      "9: 0.042592\n",
      "12: 0.025356\n",
      "13: 0.020514\n",
      "1: 0.019445\n",
      "\n",
      "\n",
      "Issue 2 Israeli Arabs\n",
      "14: 0.268984\n",
      "3: 0.161434\n",
      "11: 0.130503\n",
      "8: 0.130265\n",
      "4: 0.106140\n",
      "10: 0.059754\n",
      "9: 0.038321\n",
      "13: 0.032359\n",
      "1: 0.027866\n",
      "6: 0.022783\n",
      "12: 0.019397\n",
      "\n",
      "\n",
      "Issue 3 one-state and two-state solutions\n",
      "14: 0.281875\n",
      "3: 0.219360\n",
      "11: 0.109051\n",
      "8: 0.107575\n",
      "4: 0.085098\n",
      "10: 0.079848\n",
      "9: 0.032198\n",
      "13: 0.024184\n",
      "6: 0.024174\n",
      "12: 0.022090\n",
      "1: 0.012803\n",
      "\n",
      "\n",
      "Issue 4 US role\n",
      "14: 0.257196\n",
      "8: 0.166397\n",
      "3: 0.157499\n",
      "11: 0.097127\n",
      "4: 0.090649\n",
      "10: 0.087189\n",
      "9: 0.051172\n",
      "12: 0.033832\n",
      "13: 0.025352\n",
      "6: 0.019357\n",
      "\n",
      "\n",
      "Issue 5 international role\n",
      "14: 0.252773\n",
      "3: 0.165445\n",
      "8: 0.145954\n",
      "4: 0.103146\n",
      "10: 0.091966\n",
      "11: 0.082816\n",
      "9: 0.078346\n",
      "13: 0.029574\n",
      "12: 0.026144\n",
      "6: 0.011246\n",
      "1: 0.010244\n",
      "\n",
      "\n",
      "Issue 6 Gaza\n",
      "14: 0.266981\n",
      "3: 0.145705\n",
      "8: 0.133976\n",
      "4: 0.102824\n",
      "10: 0.100137\n",
      "11: 0.094709\n",
      "9: 0.065128\n",
      "12: 0.027804\n",
      "1: 0.025159\n",
      "13: 0.021565\n",
      "6: 0.010124\n",
      "\n",
      "\n",
      "Issue 7 Israeli settlements\n",
      "14: 0.275300\n",
      "3: 0.179520\n",
      "8: 0.141499\n",
      "4: 0.086316\n",
      "10: 0.085651\n",
      "11: 0.083705\n",
      "9: 0.077850\n",
      "12: 0.025143\n",
      "13: 0.018084\n",
      "1: 0.016278\n",
      "\n",
      "\n",
      "Issue 8 internal politics\n",
      "14: 0.245054\n",
      "3: 0.210638\n",
      "8: 0.144112\n",
      "11: 0.095241\n",
      "10: 0.093128\n",
      "4: 0.075441\n",
      "9: 0.056412\n",
      "12: 0.024420\n",
      "13: 0.020317\n",
      "1: 0.019207\n",
      "6: 0.013383\n",
      "\n",
      "\n",
      "Issue 9 occupation\n",
      "14: 0.259666\n",
      "3: 0.202155\n",
      "8: 0.121703\n",
      "11: 0.096155\n",
      "4: 0.087244\n",
      "10: 0.078078\n",
      "9: 0.056587\n",
      "6: 0.031649\n",
      "12: 0.023571\n",
      "13: 0.022259\n",
      "1: 0.020623\n",
      "\n",
      "\n",
      "Issue 10 refugees and the Right of Return\n",
      "14: 0.276678\n",
      "3: 0.173479\n",
      "10: 0.124111\n",
      "8: 0.119378\n",
      "4: 0.095241\n",
      "11: 0.069999\n",
      "9: 0.045218\n",
      "6: 0.032522\n",
      "12: 0.027764\n",
      "1: 0.020436\n",
      "13: 0.015127\n",
      "\n",
      "\n",
      "Issue 11 Jerusalem\n",
      "14: 0.234152\n",
      "3: 0.199177\n",
      "4: 0.144543\n",
      "8: 0.124812\n",
      "11: 0.075754\n",
      "10: 0.069764\n",
      "6: 0.065397\n",
      "9: 0.059172\n",
      "12: 0.018826\n",
      "\n",
      "\n",
      "Issue 12 citizens' life\n",
      "14: 0.228450\n",
      "3: 0.211600\n",
      "8: 0.133692\n",
      "10: 0.087685\n",
      "11: 0.085160\n",
      "4: 0.081236\n",
      "9: 0.058149\n",
      "6: 0.039720\n",
      "13: 0.028757\n",
      "12: 0.024357\n",
      "1: 0.019020\n",
      "\n",
      "\n",
      "Issue 13 Palestinian statehood\n",
      "14: 0.284737\n",
      "3: 0.216314\n",
      "8: 0.138676\n",
      "4: 0.088889\n",
      "11: 0.072812\n",
      "10: 0.069970\n",
      "9: 0.060848\n",
      "6: 0.023194\n",
      "13: 0.017595\n",
      "12: 0.016350\n",
      "1: 0.010534\n",
      "\n",
      "\n",
      "Issue 14 direct conflict\n",
      "14: 0.233542\n",
      "3: 0.192582\n",
      "8: 0.147794\n",
      "10: 0.096948\n",
      "11: 0.091068\n",
      "4: 0.076584\n",
      "9: 0.058589\n",
      "13: 0.036146\n",
      "12: 0.028268\n",
      "1: 0.020017\n",
      "6: 0.016532\n",
      "\n",
      "\n"
     ]
    }
   ],
   "source": [
    "# Infer topic distros on Bitterlemons issue texts\n",
    "#test_issue = issues_textlist[0]\n",
    "lda15_issues = lda15[issues_vecs]\n",
    "\n",
    "for i, issue_distro in enumerate(lda15_issues):\n",
    "    print(\"Issue\", i, issues_titles[i])\n",
    "    print('\\n'.join([\"{:d}: {:f}\".format(n, distro) for (n, distro) in reversed(sorted(issue_distro, key=lambda x: x[1]))]))\n",
    "    print('\\n')"
   ]
  },
  {
   "cell_type": "code",
   "execution_count": 21,
   "metadata": {
    "collapsed": false,
    "scrolled": true
   },
   "outputs": [
    {
     "name": "stdout",
     "output_type": "stream",
     "text": [
      "0.006*'s + 0.004*war + 0.004*adenauer + 0.004*ref + 0.004*/ref + 0.003*name= + 0.003*israel + 0.002*order + 0.002*umar + 0.002*press\n",
      "\n",
      "0.005*'s + 0.003*german + 0.003*war + 0.003*url=http + 0.003*palestinian + 0.003*bahrain + 0.003*camp + 0.002*ethnic + 0.002*suicide + 0.002*israeli\n",
      "\n",
      "0.012*palestinian + 0.011*israel + 0.011*url=http + 0.009*israeli + 0.008*'s + 0.007*gaza + 0.006*cite_news + 0.005*2011 + 0.005*cite_web + 0.005*2012\n",
      "\n",
      "0.010*2010 + 0.010*'s + 0.009*url=http + 0.006*israel + 0.006*cite_news + 0.005*june + 0.005*israeli + 0.004*cite_web + 0.004*sfn + 0.004*may\n",
      "\n",
      "0.006*url=http + 0.005*cite_web + 0.005*bush + 0.005*'s + 0.004*azerbaijan + 0.003*east + 0.003*yosef + 0.003*kissinger + 0.003*president + 0.002*2011\n",
      "\n",
      "0.013*palestine + 0.010*village + 0.008*1948 + 0.006*p. + 0.006*palestinian + 0.006*url=http + 0.005*city + 0.005*arab + 0.004*population + 0.004*cite_book\n",
      "\n",
      "0.009*harvnb + 0.004*hebrew + 0.004*talmud + 0.004*cite_book + 0.004*jews + 0.003*ref=harv + 0.003*holocaust + 0.003*'s + 0.003*byzantine + 0.003*jewish\n",
      "\n",
      "0.008*israel + 0.008*'s + 0.007*war + 0.006*israeli + 0.006*arab + 0.005*palestine + 0.004*united + 0.004*forces + 0.003*military + 0.003*p.\n",
      "\n",
      "0.012*israel + 0.008*jewish + 0.007*'s + 0.006*israeli + 0.005*palestine + 0.005*arab + 0.004*state + 0.004*jerusalem + 0.004*university + 0.004*law\n",
      "\n",
      "0.007*jewish + 0.006*'s + 0.006*jews + 0.005*jerusalem + 0.004*temple + 0.004*first + 0.003*israel + 0.003*also + 0.003*city + 0.003*history\n"
     ]
    }
   ],
   "source": [
    "# k = 10, 200 passes\n",
    "# Create LDA model (batch)\n",
    "lda10 = g.models.ldamodel.LdaModel(docs_vecs, id2word=dictionary, num_topics=10, passes=20, update_every=0)\n",
    "lda10.save(\"lda10.model\")\n",
    "print(\"\\n\\n\".join([wds for (i, wds) in lda10.print_topics(num_words=10)]))"
   ]
  }
 ],
 "metadata": {
  "kernelspec": {
   "display_name": "Python 3",
   "language": "python",
   "name": "python3"
  },
  "language_info": {
   "codemirror_mode": {
    "name": "ipython",
    "version": 3
   },
   "file_extension": ".py",
   "mimetype": "text/x-python",
   "name": "python",
   "nbconvert_exporter": "python",
   "pygments_lexer": "ipython3",
   "version": "3.4.3+"
  }
 },
 "nbformat": 4,
 "nbformat_minor": 0
}
