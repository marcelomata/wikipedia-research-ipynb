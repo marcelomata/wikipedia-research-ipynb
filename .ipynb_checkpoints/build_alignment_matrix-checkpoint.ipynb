{
 "cells": [
  {
   "cell_type": "code",
   "execution_count": 1,
   "metadata": {
    "collapsed": true
   },
   "outputs": [],
   "source": [
    "import csv\n",
    "import collections\n",
    "\n",
    "def classify_editor(bias, param):\n",
    "    if bias > param:\n",
    "        editor_bias = 'i'\n",
    "    elif bias < param*-1:\n",
    "        editor_bias = 'p'\n",
    "    else:\n",
    "        editor_bias = 'n'\n",
    "        \n",
    "    return editor_bias"
   ]
  },
  {
   "cell_type": "code",
   "execution_count": 2,
   "metadata": {
    "collapsed": false
   },
   "outputs": [
    {
     "data": {
      "text/plain": [
       "167119"
      ]
     },
     "execution_count": 2,
     "metadata": {},
     "output_type": "execute_result"
    }
   ],
   "source": [
    "# Build dictionary of article biases\n",
    "sum_biases = {}\n",
    "csvpath = '/home/michael/school/cprose_research/wp/wp_articles/ipc_article_biases.csv'\n",
    "\n",
    "with open(csvpath, 'r') as csvfile:\n",
    "    reader = csv.reader(csvfile)\n",
    "    next(reader) # Skip first row\n",
    "    for row in reader:\n",
    "        username = row[1]\n",
    "        avg_bias = float(row[2])\n",
    "        if not username in sum_biases:\n",
    "            sum_biases[username] = avg_bias\n",
    "        else:\n",
    "            sum_biases[username] += avg_bias\n",
    "            \n",
    "len(sum_biases.keys())"
   ]
  },
  {
   "cell_type": "code",
   "execution_count": 4,
   "metadata": {
    "collapsed": false
   },
   "outputs": [
    {
     "name": "stdout",
     "output_type": "stream",
     "text": [
      "Number of nodes:  5719\n",
      "Number of arcs:  28401\n"
     ]
    }
   ],
   "source": [
    "# Build interactions dictionary\n",
    "interactions = collections.defaultdict(list) # form editor:[(thread_starter, pos_neg), (previous_editor, pos_neg)]\n",
    "threshold = 50\n",
    "\n",
    "# Make sure arranged by article, in chronological order\n",
    "talk_csvpath = '/home/michael/school/cprose_research/wp/wp-talk/talkpages_articles.csv'\n",
    "\n",
    "with open(talk_csvpath, 'r') as talkcsv:\n",
    "    reader = csv.reader(talkcsv)\n",
    "    next(reader)\n",
    "    prev_editor = None\n",
    "    prev_editor_thread = None\n",
    "    thread_starter = None\n",
    "    talk_editors = []\n",
    "    n_arcs = 0\n",
    "    for row in reader:\n",
    "        revision_id = row[0]\n",
    "        thread = row[2]\n",
    "        editor = row[3]\n",
    "        if editor not in talk_editors:\n",
    "            talk_editors.append(editor)\n",
    "        if editor in sum_biases:\n",
    "            bias = classify_editor(sum_biases[editor], threshold)\n",
    "        else: # if an editor doesn't make any article edits default neutral\n",
    "            bias = 'n'\n",
    "        if prev_editor != editor:\n",
    "            if prev_editor_thread == thread:\n",
    "                \n",
    "                # Relation to thread starter\n",
    "                if editor != thread_starter:\n",
    "                    if bias == thread_starter_bias or bias == 'n' or thread_starter_bias == 'n':\n",
    "                        interactions[editor].append((thread_starter, 1))\n",
    "                    else:\n",
    "                        interactions[editor].append((thread_starter, -1))\n",
    "                    n_arcs += 1\n",
    "                    \n",
    "                # Relation to previous poster\n",
    "                if bias == prev_editor_bias or bias == 'n' or prev_editor_bias == 'n':\n",
    "                    interactions[editor].append((prev_editor, 1))\n",
    "                else:\n",
    "                    interactions[editor].append((prev_editor, -1))\n",
    "                n_arcs += 1\n",
    "                    \n",
    "            else:\n",
    "                thread_starter = editor\n",
    "                thread_starter_bias = bias\n",
    "                \n",
    "        prev_editor = editor\n",
    "        prev_editor_thread = thread\n",
    "        prev_editor_bias = bias\n",
    "    \n",
    "    n_nodes = len(talk_editors)\n",
    "        \n",
    "print(\"Number of nodes: \", n_nodes)\n",
    "print(\"Number of arcs: \", n_arcs)"
   ]
  },
  {
   "cell_type": "code",
   "execution_count": 8,
   "metadata": {
    "collapsed": false
   },
   "outputs": [
    {
     "name": "stdout",
     "output_type": "stream",
     "text": [
      "Number of nodes:  310\n",
      "Number of arcs:  19717\n"
     ]
    }
   ],
   "source": [
    "# Trim the graph\n",
    "min_connections = 15\n",
    "trimmed_interactions = {}\n",
    "n_nodes = 0\n",
    "n_arcs = 0\n",
    "\n",
    "for editor in interactions.keys():\n",
    "    if len(interactions[editor]) >= min_connections:\n",
    "        trimmed_interactions[editor] = interactions[editor]\n",
    "        n_nodes += 1\n",
    "        n_arcs += len(interactions[editor])\n",
    "        \n",
    "print(\"Number of nodes: \", n_nodes)\n",
    "print(\"Number of arcs: \", n_arcs)"
   ]
  },
  {
   "cell_type": "code",
   "execution_count": 9,
   "metadata": {
    "collapsed": false
   },
   "outputs": [
    {
     "data": {
      "text/plain": [
       "6252"
      ]
     },
     "execution_count": 9,
     "metadata": {},
     "output_type": "execute_result"
    }
   ],
   "source": [
    "# Create mappings from editor to editor ID\n",
    "\n",
    "editor_ids = collections.OrderedDict()\n",
    "ctr = 1\n",
    "for editor in list(talk_editors):\n",
    "    editor_ids[editor] = ctr\n",
    "    ctr += 1\n",
    "len(editor_ids)"
   ]
  },
  {
   "cell_type": "code",
   "execution_count": 11,
   "metadata": {
    "collapsed": false
   },
   "outputs": [
    {
     "data": {
      "text/plain": [
       "'Lihaas'"
      ]
     },
     "execution_count": 11,
     "metadata": {},
     "output_type": "execute_result"
    }
   ],
   "source": [
    "talk_editors[4]"
   ]
  },
  {
   "cell_type": "code",
   "execution_count": 17,
   "metadata": {
    "collapsed": false
   },
   "outputs": [
    {
     "data": {
      "text/plain": [
       "'SmokeyJoe'"
      ]
     },
     "execution_count": 17,
     "metadata": {},
     "output_type": "execute_result"
    }
   ],
   "source": [
    "list(editor_ids.keys())[6]"
   ]
  },
  {
   "cell_type": "code",
   "execution_count": 18,
   "metadata": {
    "collapsed": false
   },
   "outputs": [
    {
     "data": {
      "text/plain": [
       "[('Fuhghettaboutit', -1), ('Fuhghettaboutit', -1)]"
      ]
     },
     "execution_count": 18,
     "metadata": {},
     "output_type": "execute_result"
    }
   ],
   "source": [
    "interactions['SmokeyJoe']"
   ]
  },
  {
   "cell_type": "code",
   "execution_count": 20,
   "metadata": {
    "collapsed": false,
    "scrolled": true
   },
   "outputs": [
    {
     "data": {
      "text/plain": [
       "100"
      ]
     },
     "execution_count": 20,
     "metadata": {},
     "output_type": "execute_result"
    }
   ],
   "source": [
    "# Build alignment matrix for Yu+ 2015 from interactions dictionary\n",
    "alignment_matrix = []\n",
    "num_editors = 100\n",
    "for i in range(num_editors):\n",
    "    editor = talk_editors[i]\n",
    "    editor_vec = []\n",
    "    editor_vec.append(editor_ids[editor]) # add editor id\n",
    "    for j in range(num_editors):\n",
    "        other_editor = talk_editors[j]\n",
    "        if (other_editor, 1) in interactions[editor]: # Not weighting connections\n",
    "            editor_vec.append(1)\n",
    "        elif (other_editor, -1) in interactions[editor]: # Not weighting connections\n",
    "            editor_vec.append(-1)\n",
    "        else:\n",
    "            editor_vec.append(\"\")\n",
    "    alignment_matrix.append(editor_vec)\n",
    "\n",
    "len(alignment_matrix)"
   ]
  },
  {
   "cell_type": "code",
   "execution_count": 24,
   "metadata": {
    "collapsed": false
   },
   "outputs": [],
   "source": [
    "# Write input file for Yu+ 2015 cluster code\n",
    "out_filepath = '/home/michael/school/cprose_research/yu+_2015_killer/wp-talk_threshold50/wp-talk_threshold50_100editors.txt'\n",
    "with open(out_filepath, 'w') as out:\n",
    "    for row in alignment_matrix:\n",
    "        out.write('\\t'.join([str(item) for item in row]) + '\\n')"
   ]
  },
  {
   "cell_type": "code",
   "execution_count": 6,
   "metadata": {
    "collapsed": false
   },
   "outputs": [],
   "source": [
    "# Write undirected DOT file\n",
    "dotpath = '/home/michael/school/cprose_research/wp/wp-talk/talkpages_undirected.dot'\n",
    "\n",
    "with open(dotpath, 'w') as dotfile:\n",
    "    dotfile.write('graph g {\\n node [shape=\"point\"];\\n')\n",
    "    for key in interactions.keys():\n",
    "        dotfile.write('\"' + key + '\" -- { ')\n",
    "        for editor, polarity in interactions[key]:\n",
    "            dotfile.write('\"' + editor + '\"; ') # no polarity yet\n",
    "        dotfile.write('}\\n')\n",
    "    dotfile.write('}')"
   ]
  },
  {
   "cell_type": "code",
   "execution_count": 5,
   "metadata": {
    "collapsed": false
   },
   "outputs": [],
   "source": [
    "# Write directed DOT file\n",
    "dotpath = '/home/michael/school/cprose_research/wp/wp-talk/talkpages.dot'\n",
    "\n",
    "with open(dotpath, 'w') as dotfile:\n",
    "    dotfile.write('digraph g {\\n node [shape=\"point\"];\\n')\n",
    "    for key in interactions.keys():\n",
    "        dotfile.write('\"' + key + '\" -> { ')\n",
    "        for editor, polarity in interactions[key]:\n",
    "            dotfile.write('\"' + editor + '\"; ') # no polarity yet\n",
    "        dotfile.write('}\\n')\n",
    "    dotfile.write('}')"
   ]
  },
  {
   "cell_type": "code",
   "execution_count": 52,
   "metadata": {
    "collapsed": false
   },
   "outputs": [
    {
     "data": {
      "text/plain": [
       "[[1, 1, -1, 1, 1, 1, -1, -1, -1, 1, -1],\n",
       " [2, -1, 1, -1, -1, -1, 1, 1, 1, -1, 1],\n",
       " [3, 1, -1, 1, 1, 1, -1, -1, -1, 1, -1],\n",
       " [4, 1, -1, 1, 1, 1, -1, -1, -1, 1, -1],\n",
       " [5, 1, -1, 1, 1, 1, -1, -1, -1, 1, -1],\n",
       " [6, -1, 1, -1, -1, -1, 1, 1, 1, -1, 1],\n",
       " [7, -1, 1, -1, -1, -1, 1, 1, 1, -1, 1],\n",
       " [8, -1, 1, -1, -1, -1, 1, 1, 1, -1, 1],\n",
       " [9, 1, -1, 1, 1, 1, -1, -1, -1, 1, -1],\n",
       " [10, -1, 1, -1, -1, -1, 1, 1, 1, -1, 1]]"
      ]
     },
     "execution_count": 52,
     "metadata": {},
     "output_type": "execute_result"
    }
   ],
   "source": [
    "# Build alignment matrix for Yu+ 2015\n",
    "alignment_matrix = []\n",
    "for i in range(num_editors):\n",
    "    editor = list(editor_biases)[i]\n",
    "    editor_bias = classify_editor(editor_biases[editor], threshold)\n",
    "    #print(editor, \"bias: \", editor_bias)\n",
    "    editor_vec = []\n",
    "    #editor_vec.append(editor) # add editor name\n",
    "    editor_vec.append(editor_ids[editor]) # add editor id\n",
    "    for j in range(num_editors):\n",
    "        other_editor = list(editor_biases)[j]\n",
    "        other_editor_bias = classify_editor(editor_biases[other_editor], threshold)\n",
    "        #print(\"\\t\", other_editor, \"bias: \", other_editor_bias)\n",
    "        if editor_bias == 'i':\n",
    "            if other_editor_bias == 'i':\n",
    "                editor_vec.append(1)\n",
    "            elif other_editor_bias == 'p':\n",
    "                editor_vec.append(-1)\n",
    "            else:\n",
    "                editor_vec.append('')\n",
    "        elif editor_bias == 'p':\n",
    "            if other_editor_bias == 'p':\n",
    "                editor_vec.append(1)\n",
    "            elif other_editor_bias == 'i':\n",
    "                editor_vec.append(-1)\n",
    "            else:\n",
    "                editor_vec.append('')\n",
    "        elif editor_bias == 'n':\n",
    "            editor_vec.append('')\n",
    "        \n",
    "    # Add in useless vote\n",
    "    #editor_vec.append('none')\n",
    "    \n",
    "    alignment_matrix.append(editor_vec)\n",
    "\n",
    "alignment_matrix"
   ]
  },
  {
   "cell_type": "code",
   "execution_count": 54,
   "metadata": {
    "collapsed": false
   },
   "outputs": [],
   "source": [
    "# Create editor mappings file\n",
    "editor_ids_filepath = '/home/michael/school/cprose_research/yu+_2015_killer/wp-talk_editor_mappings.txt'\n",
    "with open(editor_ids_filepath, 'w') as f:\n",
    "    editor_id_keys = list(editor_ids.keys())\n",
    "    for i in range(len(editor_biases)):\n",
    "        editor = editor_id_keys[i]\n",
    "        editor_id = editor_ids[editor]\n",
    "        editor_bias = editor_biases[editor]\n",
    "        f.write(str(editor_id) + '\\t' + editor + '\\t' + str(editor_bias) + '\\n')"
   ]
  }
 ],
 "metadata": {
  "kernelspec": {
   "display_name": "Python 3",
   "language": "python",
   "name": "python3"
  },
  "language_info": {
   "codemirror_mode": {
    "name": "ipython",
    "version": 3
   },
   "file_extension": ".py",
   "mimetype": "text/x-python",
   "name": "python",
   "nbconvert_exporter": "python",
   "pygments_lexer": "ipython3",
   "version": "3.4.3+"
  }
 },
 "nbformat": 4,
 "nbformat_minor": 0
}
