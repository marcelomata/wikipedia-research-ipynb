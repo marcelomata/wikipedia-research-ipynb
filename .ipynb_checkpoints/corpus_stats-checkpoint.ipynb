{
 "cells": [
  {
   "cell_type": "code",
   "execution_count": 1,
   "metadata": {
    "collapsed": true
   },
   "outputs": [],
   "source": [
    "import csv\n",
    "import statistics as stats\n",
    "\n",
    "from IPython.core.debugger import Tracer; debug_here = Tracer()"
   ]
  },
  {
   "cell_type": "code",
   "execution_count": null,
   "metadata": {
    "collapsed": false,
    "scrolled": false
   },
   "outputs": [
    {
     "name": "stdout",
     "output_type": "stream",
     "text": [
      "0.0 k\n",
      "10.0 k\n",
      "20.0 k\n",
      "30.0 k\n",
      "40.0 k\n",
      "50.0 k\n",
      "60.0 k\n",
      "70.0 k\n",
      "80.0 k\n",
      "90.0 k\n",
      "100.0 k\n",
      "110.0 k\n",
      "120.0 k\n",
      "130.0 k\n",
      "140.0 k\n",
      "150.0 k\n",
      "160.0 k\n",
      "170.0 k\n",
      "180.0 k\n",
      "190.0 k\n",
      "200.0 k\n",
      "210.0 k\n",
      "220.0 k\n",
      "230.0 k\n",
      "240.0 k\n",
      "250.0 k\n",
      "260.0 k\n",
      "270.0 k\n",
      "280.0 k\n",
      "290.0 k\n",
      "300.0 k\n",
      "310.0 k\n",
      "320.0 k\n",
      "330.0 k\n",
      "340.0 k\n",
      "350.0 k\n",
      "360.0 k\n",
      "370.0 k\n",
      "380.0 k\n",
      "390.0 k\n",
      "400.0 k\n",
      "410.0 k\n",
      "420.0 k\n",
      "430.0 k\n",
      "440.0 k\n",
      "450.0 k\n",
      "460.0 k\n",
      "470.0 k\n",
      "480.0 k\n",
      "490.0 k\n",
      "500.0 k\n",
      "510.0 k\n",
      "520.0 k\n",
      "530.0 k\n",
      "540.0 k\n",
      "550.0 k\n",
      "560.0 k\n",
      "570.0 k\n",
      "580.0 k\n",
      "590.0 k\n",
      "600.0 k\n",
      "610.0 k\n",
      "620.0 k\n",
      "630.0 k\n",
      "640.0 k\n",
      "650.0 k\n",
      "660.0 k\n",
      "670.0 k\n",
      "680.0 k\n",
      "690.0 k\n",
      "700.0 k\n",
      "710.0 k\n",
      "720.0 k\n",
      "730.0 k\n",
      "740.0 k\n",
      "750.0 k\n",
      "760.0 k\n",
      "770.0 k\n",
      "780.0 k\n",
      "790.0 k\n",
      "800.0 k\n",
      "810.0 k\n",
      "820.0 k\n",
      "830.0 k\n",
      "840.0 k\n",
      "850.0"
     ]
    }
   ],
   "source": [
    "# Mean, stddev of article bias\n",
    "# Get article lengths\n",
    "artlens = {}\n",
    "with open('/home/michael/school/cprose_research/wp/wikipedia/data/article_lengths.csv') as csvfile:\n",
    "    for row in csv.reader(csvfile):\n",
    "        artlens[tuple(row[:2])] = row[-1]\n",
    "\n",
    "csvpath = '/home/michael/school/cprose_research/wp/wikipedia/data/ipc_article_biases.csv'\n",
    "allrev_pbias = []\n",
    "allrev_bias = []\n",
    "stable_pbias = []\n",
    "stable_bias = []\n",
    "with open(csvpath) as csvfile:\n",
    "    prev = False # Previous row was added to stable edits\n",
    "    reader = csv.DictReader(csvfile)\n",
    "    for i, row in enumerate(reader):\n",
    "        if i % 10000 == 0:\n",
    "            print(i/1000, 'k')\n",
    "        allrev_bias.append(float(row['bias']))\n",
    "        artlen = int(artlens[(row['Article'], row['Timestamp'])])\n",
    "        allrev_pbias.append(float(row['bias'])/artlen)\n",
    "        rv = True if int(row['Tag indicates revert']) or int(row['Version identical to previous revision']) else False\n",
    "        #vandal = True if int(row['vandalism_comment']) else False\n",
    "\n",
    "        if rv: # Take away edit that was reverted\n",
    "            if prev:\n",
    "                stable_pbias = stable_pbias[:-1]\n",
    "                stable_bias = stable_bias[:-1]\n",
    "                prev = False\n",
    "\n",
    "        else:\n",
    "            stable_pbias.append([float(row['bias'])/artlen])\n",
    "            stable_bias.append(float(row['bias']))\n",
    "            prev = True\n",
    "\n",
    "    print(\"All revisions per word bias\", stats.mean(allrev_pbias), stats.stdev(allrev_pbias))\n",
    "    print(\"All revisions bias\", stats.mean(allrev_bias), stats.stdev(allrev_bias))\n",
    "    print(\"Stable revisions per word bias\", stats.mean(stable_pbias), stats.stdev(stable_pbias))\n",
    "    print(\"Stable revisions bias\", stats.mean(stable_bias), stats.stdev(stable_bias))"
   ]
  },
  {
   "cell_type": "code",
   "execution_count": 6,
   "metadata": {
    "collapsed": false
   },
   "outputs": [
    {
     "name": "stdout",
     "output_type": "stream",
     "text": [
      "Revisions 1088277\n",
      "Editors 205177\n",
      "Reverts 154994 0.1424214607126678\n",
      "Number of tokens 6647243704\n"
     ]
    }
   ],
   "source": [
    "eds = []\n",
    "rows = []\n",
    "\n",
    "csvpath = '/home/michael/school/cprose_research/wp/wikipedia/data/citations_reverts.csv'\n",
    "lenpath = '/home/michael/school/cprose_research/wp/wikipedia/data/article_lengths.csv'\n",
    "with open(csvpath) as csvfile:\n",
    "    rows = [row for row in csv.DictReader(csvfile)]\n",
    "    print(\"Revisions\", len(rows))\n",
    "    eds = set([row['editor'] for row in rows])\n",
    "    print(\"Editors\", len(eds))\n",
    "    rv = [row for row in rows if int(row['revert_md5']) or int(row['revert_comment'])]\n",
    "    print(\"Reverts\", len(rv), len(rv)/len(rows))\n",
    "    \n",
    "with open(lenpath) as csvfile:\n",
    "    print(\"Number of tokens\", sum(int(row['article_length']) for row in csv.DictReader(csvfile)))"
   ]
  }
 ],
 "metadata": {
  "kernelspec": {
   "display_name": "Python 3",
   "language": "python",
   "name": "python3"
  },
  "language_info": {
   "codemirror_mode": {
    "name": "ipython",
    "version": 3
   },
   "file_extension": ".py",
   "mimetype": "text/x-python",
   "name": "python",
   "nbconvert_exporter": "python",
   "pygments_lexer": "ipython3",
   "version": "3.4.3+"
  }
 },
 "nbformat": 4,
 "nbformat_minor": 0
}
