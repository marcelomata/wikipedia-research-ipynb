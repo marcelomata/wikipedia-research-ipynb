{
 "cells": [
  {
   "cell_type": "code",
   "execution_count": 1,
   "metadata": {
    "collapsed": false
   },
   "outputs": [],
   "source": [
    "import csv\n",
    "import numpy as np\n",
    "from collections import Counter\n",
    "import operator"
   ]
  },
  {
   "cell_type": "code",
   "execution_count": 2,
   "metadata": {
    "collapsed": false
   },
   "outputs": [
    {
     "data": {
      "text/plain": [
       "183975"
      ]
     },
     "execution_count": 2,
     "metadata": {},
     "output_type": "execute_result"
    }
   ],
   "source": [
    "# Build sum biases dictionary\n",
    "sum_biases = {}\n",
    "csvpath = '/home/michael/school/cprose_research/wp/wp_articles/ipc_article_biases.csv'\n",
    "\n",
    "with open(csvpath, 'r') as csvfile:\n",
    "    reader = csv.reader(csvfile)\n",
    "    next(reader) # Skip first row\n",
    "    for row in reader:\n",
    "        username = row[1]\n",
    "        bias_change = float(row[12])\n",
    "        if not username in sum_biases:\n",
    "            sum_biases[username] = bias_change\n",
    "        else:\n",
    "            sum_biases[username] += bias_change\n",
    "            \n",
    "len(list(sum_biases.keys()))"
   ]
  },
  {
   "cell_type": "code",
   "execution_count": 3,
   "metadata": {
    "collapsed": false
   },
   "outputs": [
    {
     "data": {
      "text/plain": [
       "5914"
      ]
     },
     "execution_count": 3,
     "metadata": {},
     "output_type": "execute_result"
    }
   ],
   "source": [
    "talk_csvpath = '/home/michael/school/cprose_research/wp/wp-talk/talkpages.csv'\n",
    "talk_editors = []\n",
    "with open(talk_csvpath, 'r') as talkcsv:\n",
    "    reader = csv.reader(talkcsv)\n",
    "    next(reader)\n",
    "    for row in reader:\n",
    "        username = row[3]\n",
    "        if username not in talk_editors:\n",
    "            talk_editors.append(username)\n",
    "\n",
    "len(talk_editors)"
   ]
  },
  {
   "cell_type": "code",
   "execution_count": 4,
   "metadata": {
    "collapsed": false
   },
   "outputs": [
    {
     "data": {
      "text/plain": [
       "3451"
      ]
     },
     "execution_count": 4,
     "metadata": {},
     "output_type": "execute_result"
    }
   ],
   "source": [
    "# Build sorted dictionary of editors in both the articles and talk pages\n",
    "biases_sorted = sorted(sum_biases.items(), key=operator.itemgetter(1))\n",
    "both_talk_articles = []\n",
    "for editor, bias in biases_sorted:\n",
    "    if editor in talk_editors:\n",
    "        both_talk_articles.append((editor, bias))\n",
    "    \n",
    "len(both_talk_articles)"
   ]
  },
  {
   "cell_type": "code",
   "execution_count": 9,
   "metadata": {
    "collapsed": false
   },
   "outputs": [
    {
     "name": "stdout",
     "output_type": "stream",
     "text": [
      "Highly Palestinian editors\n",
      "[('HistoryBuffEr', -20634.733548319604), ('Andycjp', -10515.465255876505), ('Jon513', -8075.89378268808)] \n",
      "\n",
      "Moderate Palestinian editors\n",
      "[('Venice90291', -39.042415621100005), ('A Gooner', -38.7495598068), ('BernardZ', -38.55750897049999)] \n",
      "\n",
      "Highly Israeli editors\n",
      "[('Viriditas', 6631.668450246498), ('DerHexer', 7194.569894412098), ('Jayjg', 17680.05803456079), ('DVD R W', 78840.55634198201)] \n",
      "\n",
      "Moderate Palestinian editors\n",
      "[('Wnt', 103.58035062510001), ('Atrix20', 103.65525598219993), ('Emesz', 103.70516530370001), ('Sarastro777', 103.79441468729999)]\n"
     ]
    }
   ],
   "source": [
    "# Find highly Israeli and highly Palestinian editors (by sum bias) that are in the talk pages\n",
    "mod_part = int(len(both_talk_articles)/10)\n",
    "\n",
    "print(\"Highly Palestinian editors\")\n",
    "print(both_talk_articles[:3], '\\n')\n",
    "\n",
    "print(\"Moderate Palestinian editors\")\n",
    "print(both_talk_articles[mod_part:mod_part+3], '\\n')\n",
    "\n",
    "print(\"Highly Israeli editors\")\n",
    "print(both_talk_articles[-4:], '\\n')\n",
    "\n",
    "print(\"Moderate Israeli editors\")\n",
    "print(both_talk_articles[-1*(mod_part+4):-1*mod_part])"
   ]
  },
  {
   "cell_type": "code",
   "execution_count": 3,
   "metadata": {
    "collapsed": false
   },
   "outputs": [
    {
     "name": "stdout",
     "output_type": "stream",
     "text": [
      "Highly Palestinian editors\n",
      "[('Yamamoto Ichiro', -198834.32237181635), ('ClueBot NG', -198334.099451766), ('Anbu121', -141562.48084798205), ('MrYourMom', -79013.4166279972)] \n",
      "\n",
      "Moderate Palestinian editors\n",
      "[('Gepid', -4.145610517400001), ('BinaryTed', -4.1455265275), ('75.14.220.37', -4.145270157600001), ('71.192.54.77', -4.1452365315)]\n"
     ]
    }
   ],
   "source": [
    "# Find highly Israeli and highly Palestinian editors (by sum bias of article sum bias (old))\n",
    "isr_sorted = sorted(sum_biases.items(), key=operator.itemgetter(1))\n",
    "#isr_ed = list(sum_biases.keys())[list(sum_biases.values()).index(max(sum_biases.values()))]\n",
    "print(\"Highly Palestinian editors\")\n",
    "print(isr_sorted[:4], '\\n')\n",
    "\n",
    "mod_part = int(len(isr_sorted)/10)\n",
    "print(\"Moderate Palestinian editors\")\n",
    "print(isr_sorted[mod_part:mod_part+4])"
   ]
  },
  {
   "cell_type": "code",
   "execution_count": 18,
   "metadata": {
    "collapsed": false
   },
   "outputs": [
    {
     "data": {
      "text/plain": [
       "-1131.0945600293992"
      ]
     },
     "execution_count": 18,
     "metadata": {},
     "output_type": "execute_result"
    }
   ],
   "source": [
    "# Check sum biases\n",
    "test_editor = 'Almaqdisi'\n",
    "article_bias_csvpath = '/home/michael/school/cprose_research/wp/wp_articles/ipc_article_biases.csv'\n",
    "test_bias = 0\n",
    "\n",
    "with open(article_bias_csvpath, 'r') as csvfile:\n",
    "    reader = csv.reader(csvfile)\n",
    "    next(reader) # Skip first row\n",
    "    for row in reader:\n",
    "        username = row[1]\n",
    "        if username == test_editor:\n",
    "            change_in_bias = float(row[12])\n",
    "            test_bias += change_in_bias\n",
    "\n",
    "test_bias"
   ]
  },
  {
   "cell_type": "code",
   "execution_count": 19,
   "metadata": {
    "collapsed": false
   },
   "outputs": [
    {
     "data": {
      "text/plain": [
       "-627.9778605918538"
      ]
     },
     "execution_count": 19,
     "metadata": {},
     "output_type": "execute_result"
    }
   ],
   "source": [
    "# Check sum biases\n",
    "test_editor = 'Tariqabjotu'\n",
    "article_bias_csvpath = '/home/michael/school/cprose_research/wp/wp_articles/ipc_article_biases.csv'\n",
    "test_bias = 0\n",
    "\n",
    "with open(article_bias_csvpath, 'r') as csvfile:\n",
    "    reader = csv.reader(csvfile)\n",
    "    next(reader) # Skip first row\n",
    "    for row in reader:\n",
    "        username = row[1]\n",
    "        if username == test_editor:\n",
    "            change_in_bias = float(row[12])\n",
    "            test_bias += change_in_bias\n",
    "\n",
    "test_bias"
   ]
  },
  {
   "cell_type": "code",
   "execution_count": 20,
   "metadata": {
    "collapsed": false
   },
   "outputs": [
    {
     "data": {
      "text/plain": [
       "-40.2411934514"
      ]
     },
     "execution_count": 20,
     "metadata": {},
     "output_type": "execute_result"
    }
   ],
   "source": [
    "# Check sum biases\n",
    "test_editor = 'Tiggerjay'\n",
    "article_bias_csvpath = '/home/michael/school/cprose_research/wp/wp_articles/ipc_article_biases.csv'\n",
    "test_bias = 0\n",
    "\n",
    "with open(article_bias_csvpath, 'r') as csvfile:\n",
    "    reader = csv.reader(csvfile)\n",
    "    next(reader) # Skip first row\n",
    "    for row in reader:\n",
    "        username = row[1]\n",
    "        if username == test_editor:\n",
    "            change_in_bias = float(row[12])\n",
    "            test_bias += change_in_bias\n",
    "\n",
    "test_bias"
   ]
  }
 ],
 "metadata": {
  "kernelspec": {
   "display_name": "Python 3",
   "language": "python",
   "name": "python3"
  },
  "language_info": {
   "codemirror_mode": {
    "name": "ipython",
    "version": 3
   },
   "file_extension": ".py",
   "mimetype": "text/x-python",
   "name": "python",
   "nbconvert_exporter": "python",
   "pygments_lexer": "ipython3",
   "version": "3.4.3+"
  }
 },
 "nbformat": 4,
 "nbformat_minor": 0
}
