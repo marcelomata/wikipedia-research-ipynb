{
 "cells": [
  {
   "cell_type": "code",
   "execution_count": 1,
   "metadata": {
    "collapsed": true
   },
   "outputs": [],
   "source": [
    "import urllib.request"
   ]
  },
  {
   "cell_type": "code",
   "execution_count": 2,
   "metadata": {
    "collapsed": false
   },
   "outputs": [
    {
     "ename": "NameError",
     "evalue": "name 'done' is not defined",
     "output_type": "error",
     "traceback": [
      "\u001b[1;31m---------------------------------------------------------------------------\u001b[0m",
      "\u001b[1;31mNameError\u001b[0m                                 Traceback (most recent call last)",
      "\u001b[1;32m<ipython-input-2-d09690f85bc3>\u001b[0m in \u001b[0;36m<module>\u001b[1;34m()\u001b[0m\n\u001b[0;32m      2\u001b[0m \u001b[0mcategory_base_url\u001b[0m \u001b[1;33m=\u001b[0m \u001b[1;34m\"https://en.wikipedia.org/w/api.php?\"\u001b[0m \u001b[1;33m+\u001b[0m     \u001b[1;34m\"action=query&\"\u001b[0m \u001b[1;33m+\u001b[0m      \u001b[1;34m\"list=categorymembers&\"\u001b[0m \u001b[1;33m+\u001b[0m     \u001b[1;34m\"format=json&\"\u001b[0m \u001b[1;33m+\u001b[0m     \u001b[1;34m\"cmtitle=Category%3A{:s}&\"\u001b[0m \u001b[1;33m+\u001b[0m      \u001b[1;34m\"cmprop=title&\"\u001b[0m \u001b[1;33m+\u001b[0m     \u001b[1;34m\"cmlimit=500\"\u001b[0m \u001b[1;33m+\u001b[0m     \u001b[1;34m\"&cmcontinue={:s}\"\u001b[0m\u001b[1;33m\u001b[0m\u001b[0m\n\u001b[0;32m      3\u001b[0m \u001b[1;33m\u001b[0m\u001b[0m\n\u001b[1;32m----> 4\u001b[1;33m \u001b[1;32mwhile\u001b[0m \u001b[1;32mnot\u001b[0m \u001b[0mdone\u001b[0m\u001b[1;33m:\u001b[0m\u001b[1;33m\u001b[0m\u001b[0m\n\u001b[0m\u001b[0;32m      5\u001b[0m     \u001b[0mcategory_url\u001b[0m \u001b[1;33m=\u001b[0m \u001b[0mcategory_base_url\u001b[0m\u001b[1;33m.\u001b[0m\u001b[0mformat\u001b[0m\u001b[1;33m(\u001b[0m\u001b[0murllib\u001b[0m\u001b[1;33m.\u001b[0m\u001b[0mparse\u001b[0m\u001b[1;33m.\u001b[0m\u001b[0mquote\u001b[0m\u001b[1;33m(\u001b[0m\u001b[1;34m\"All_Wikipedia_bots\"\u001b[0m\u001b[1;33m)\u001b[0m\u001b[1;33m,\u001b[0m \u001b[0mcnum\u001b[0m\u001b[1;33m)\u001b[0m\u001b[1;33m\u001b[0m\u001b[0m\n\u001b[0;32m      6\u001b[0m     \u001b[1;31m#print(category_url)\u001b[0m\u001b[1;33m\u001b[0m\u001b[1;33m\u001b[0m\u001b[0m\n",
      "\u001b[1;31mNameError\u001b[0m: name 'done' is not defined"
     ]
    }
   ],
   "source": [
    "# Get bot list\n",
    "bots = []\n",
    "cnum = \"\"\n",
    "done = False\n",
    "\n",
    "# Get bot category page\n",
    "category_base_url = \"https://en.wikipedia.org/w/api.php?\" + \\\n",
    "    \"action=query&\" +  \\\n",
    "    \"list=categorymembers&\" + \\\n",
    "    \"format=json&\" + \\\n",
    "    \"cmtitle=Category%3A{:s}&\" +  \\\n",
    "    \"cmprop=title&\" + \\\n",
    "    \"cmlimit=500\" + \\\n",
    "    \"&cmcontinue={:s}\"\n",
    "    \n",
    "while not done:\n",
    "    category_url = category_base_url.format(urllib.parse.quote(\"All_Wikipedia_bots\"), cnum)\n",
    "    #print(category_url)\n",
    "\n",
    "    page =  urllib.request.urlopen(category_url).read().decode('utf-8')\n",
    "    #print(page)\n",
    "\n",
    "    # Extract bot names\n",
    "    botsp = re.findall(r'\"User\\:(?P<username>[\\w\\ /\\.]*)\"\\}', page)\n",
    "    botsp = [re.sub(r'/.*', '', ed) for ed in botsp]\n",
    "    #print(botsp[:10])\n",
    "    bots += botsp\n",
    "#     print(len(bots))\n",
    "\n",
    "    # Get continue number\n",
    "    #cnum = re.search(r'cmcontinue\":\"(?P<cnum>[^\"]*)\"', page)\n",
    "    cnum = re.search(r'cmcontinue\":\"([^\"]*)\"', page)\n",
    "    if cnum:\n",
    "        cnum = cnum.group(1)\n",
    "#         print(cnum)\n",
    "    else:\n",
    "        done = True\n",
    "\n",
    "# Add other bots\n",
    "other_bots = ['SmackBot']\n",
    "bots += other_bots\n",
    "len(bots)"
   ]
  }
 ],
 "metadata": {
  "kernelspec": {
   "display_name": "Python 3",
   "language": "python",
   "name": "python3"
  },
  "language_info": {
   "codemirror_mode": {
    "name": "ipython",
    "version": 3
   },
   "file_extension": ".py",
   "mimetype": "text/x-python",
   "name": "python",
   "nbconvert_exporter": "python",
   "pygments_lexer": "ipython3",
   "version": "3.4.3+"
  }
 },
 "nbformat": 4,
 "nbformat_minor": 0
}
