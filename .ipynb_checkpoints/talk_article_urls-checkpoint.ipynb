{
 "cells": [
  {
   "cell_type": "code",
   "execution_count": 1,
   "metadata": {
    "collapsed": true
   },
   "outputs": [],
   "source": [
    "import pandas as pd\n",
    "import urllib.request\n",
    "import urllib.parse\n",
    "import json\n",
    "import re, sys\n",
    "import datetime\n",
    "from IPython.core.debugger import Tracer; debug_here = Tracer()"
   ]
  },
  {
   "cell_type": "code",
   "execution_count": null,
   "metadata": {
    "collapsed": false,
    "scrolled": true
   },
   "outputs": [
    {
     "name": "stdout",
     "output_type": "stream",
     "text": [
      "0.0 k\n",
      "0.5 k\n"
     ]
    }
   ],
   "source": [
    "# GET URLS\n",
    "talk_data = pd.read_csv('/home/michael/school/research/wp/wikipedia/data/talk/ipc_talkpages_byarticle.csv')\n",
    "talk_data['article_rev_url'] = pd.Series()\n",
    "# talk_data\n",
    "\n",
    "prev_art = ''\n",
    "\n",
    "# for i, row in talk_data.loc[8000:8500,:].iterrows():\n",
    "for i, row in talk_data.iterrows():\n",
    "    \n",
    "    if i % 500 == 0:\n",
    "        print(i/1000, 'k')\n",
    "        sys.stdout.flush()\n",
    "    \n",
    "    if row['article_title'] != prev_art:\n",
    "\n",
    "        # Build article revision table\n",
    "        baseurl = \"https://en.wikipedia.org/w/api.php?action=query&titles={:s}&prop=revisions&rvprop=ids|timestamp&rvlimit=max&format=json\"\n",
    "\n",
    "        url = baseurl.format(urllib.parse.quote(row['article_title']))\n",
    "\n",
    "        retrieved =  urllib.request.urlopen(url).read().decode('utf-8')\n",
    "\n",
    "        pagedict = json.loads(retrieved)\n",
    "\n",
    "        # page no longer exists with that name\n",
    "        if not 'revisions' in pagedict['query']['pages'][list(pagedict['query']['pages'].keys())[0]]:\n",
    "            continue\n",
    "            \n",
    "        revtable = pagedict['query']['pages'][list(pagedict['query']['pages'].keys())[0]]['revisions']\n",
    "\n",
    "        # Loop thru continues\n",
    "        while 'continue' in pagedict.keys():\n",
    "            cnum = re.search(r'rvcontinue\":\"(.*?)\"', retrieved).group(1)\n",
    "\n",
    "            baseurl = \"https://en.wikipedia.org/w/api.php?action=query&titles={:s}&prop=revisions&rvprop=ids|timestamp&rvlimit=max&rvcontinue={:s}&format=json\"\n",
    "\n",
    "            url = baseurl.format(urllib.parse.quote(row['article_title']), cnum)\n",
    "\n",
    "            retrieved =  urllib.request.urlopen(url).read().decode('utf-8')\n",
    "\n",
    "            pagedict = json.loads(retrieved)\n",
    "\n",
    "            revtable += pagedict['query']['pages'][list(pagedict['query']['pages'].keys())[0]]['revisions']\n",
    "\n",
    "        # Parse dates in revision table\n",
    "        for el in revtable:\n",
    "            el['timestamp'] = datetime.datetime.strptime(el['timestamp'], '%Y-%m-%dT%H:%M:%SZ')\n",
    "            \n",
    "        prev_art = row['article_title']\n",
    "\n",
    "    # Get most recent article revision before the talk page date\n",
    "    talk_ts = row['post_timestamp']\n",
    "    if isinstance(talk_ts, str):\n",
    "        talk_ts = datetime.datetime.strptime(talk_ts, '%Y-%m-%d %H:%M:%S.0')\n",
    "        \n",
    "        # Look for most recent article revision in revtable\n",
    "        most_recent_revid = \"\"\n",
    "        \n",
    "        for el in reversed(revtable):\n",
    "            if el['timestamp'] <= talk_ts:\n",
    "                most_recent_revid = el['revid']\n",
    "            else:\n",
    "                break\n",
    "    \n",
    "        if most_recent_revid == '': continue # another case where article name changed\n",
    "            \n",
    "        rev_url = 'https://en.wikipedia.org/w/index.php?title={0}&oldid={1}'.format(row['article_title'], most_recent_revid)\n",
    "\n",
    "        talk_data.loc[i, 'article_rev_url'] = rev_url\n",
    "    \n",
    "# talk_data.loc[17580:17600,:]\n",
    "\n",
    "# Print talk_data\n",
    "talk_data.to_csv('/home/michael/school/research/wp/wikipedia/data/talk/ipc_talk_article_urls.csv', index=False)\n",
    "\n",
    "talk_data"
   ]
  },
  {
   "cell_type": "code",
   "execution_count": null,
   "metadata": {
    "collapsed": true
   },
   "outputs": [],
   "source": []
  }
 ],
 "metadata": {
  "kernelspec": {
   "display_name": "Python 3",
   "language": "python",
   "name": "python3"
  },
  "language_info": {
   "codemirror_mode": {
    "name": "ipython",
    "version": 3
   },
   "file_extension": ".py",
   "mimetype": "text/x-python",
   "name": "python",
   "nbconvert_exporter": "python",
   "pygments_lexer": "ipython3",
   "version": "3.5.2"
  }
 },
 "nbformat": 4,
 "nbformat_minor": 0
}
