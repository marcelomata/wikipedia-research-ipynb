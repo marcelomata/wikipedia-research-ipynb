{
 "cells": [
  {
   "cell_type": "code",
   "execution_count": 1,
   "metadata": {
    "collapsed": false
   },
   "outputs": [],
   "source": [
    "import csv, re\n",
    "from collections import Counter, OrderedDict\n",
    "import pandas as pd\n",
    "import numpy as np\n",
    "import matplotlib.pyplot as plt\n",
    "from matplotlib.backends.backend_pdf import PdfPages\n",
    "from IPython.core.debugger import Tracer; debug_here = Tracer()"
   ]
  },
  {
   "cell_type": "code",
   "execution_count": 2,
   "metadata": {
    "collapsed": false,
    "scrolled": true
   },
   "outputs": [
    {
     "name": "stderr",
     "output_type": "stream",
     "text": [
      "/usr/local/lib/python3.5/dist-packages/ipykernel/__main__.py:23: SettingWithCopyWarning: \n",
      "A value is trying to be set on a copy of a slice from a DataFrame.\n",
      "Try using .loc[row_indexer,col_indexer] = value instead\n",
      "\n",
      "See the caveats in the documentation: http://pandas.pydata.org/pandas-docs/stable/indexing.html#indexing-view-versus-copy\n"
     ]
    },
    {
     "name": "stdout",
     "output_type": "stream",
     "text": [
      "0.2\n",
      "1 206\n",
      "2 127\n",
      "3 133\n",
      "4 46\n",
      "5 164\n",
      "6 95\n",
      "7 218\n",
      "8 127\n",
      "9 105\n",
      "10 198\n",
      "neutral 499\n",
      "\n",
      "0.6\n",
      "1 130\n",
      "2 96\n",
      "3 97\n",
      "4 20\n",
      "5 105\n",
      "6 75\n",
      "7 143\n",
      "8 108\n",
      "9 72\n",
      "10 136\n",
      "neutral 936\n",
      "\n"
     ]
    }
   ],
   "source": [
    "# Talk page usernames\n",
    "talk_csvpath = '/home/michael/school/research/wp/wikipedia/data/talk/ipc_utf8_talkpages.csv'\n",
    "talk_counter = Counter()\n",
    "edpercent = 5\n",
    "\n",
    "with open(talk_csvpath, 'r') as csvfile:\n",
    "    reader = csv.reader(csvfile, delimiter=',')\n",
    "    for row in reader:\n",
    "        talk_counter[row[3]] += 1\n",
    "\n",
    "talk_eds = set(talk_counter.keys())\n",
    "\n",
    "# Create factor matrix of just editors on the talk pages\n",
    "cols = [\"Factor{:d}\".format(i) for i in range(1, 11)]\n",
    "factors = pd.read_csv('/home/michael/school/research/wp/wikipedia/data/editor_citation_matrix_factors.csv', index_col=0)[cols]\n",
    "factors_talk = factors[factors.index.isin(talk_eds)]\n",
    "# print(len(factors_talk))\n",
    "\n",
    "# Assign talk editors to their highest factors above certain threshold\n",
    "# thresholds = np.linspace(0.0, 2.0, 21)\n",
    "thresholds = [0.2, 0.6]\n",
    "assigned_factors = {}\n",
    "factors_talk['assigned_factor'] = factors_talk.idxmax(axis=1)\n",
    "editors = {}\n",
    "for t in thresholds:\n",
    "    editors[t] = {}\n",
    "    \n",
    "    assigned_factors[t] = factors_talk.copy()\n",
    "    \n",
    "    for name, row in assigned_factors[t].iterrows():\n",
    "        if max(row[:10]) < t:\n",
    "            assigned_factors[t].set_value(name, 'assigned_factor', 0)\n",
    "            \n",
    "    print(t)\n",
    "    for i in range(1,11):\n",
    "        editors[t][i] = assigned_factors[t][assigned_factors[t]['assigned_factor']=='Factor{:d}'.format(i)].index.tolist()\n",
    "        print(i, len(editors[t][i]))\n",
    "    \n",
    "    # neutral\n",
    "    editors[t][0] = assigned_factors[t][assigned_factors[t]['assigned_factor']==0].index.tolist()\n",
    "    print('neutral', len(editors[t][0]))\n",
    "    print()"
   ]
  },
  {
   "cell_type": "code",
   "execution_count": 12,
   "metadata": {
    "collapsed": false
   },
   "outputs": [],
   "source": [
    "# CITATION WINDOW DATA--each editor assigned to one factor, editors selected by threshold\n",
    "# Gather article text from editors\n",
    "citewindow_csvpath = '/home/michael/school/research/wp/wp_articles/editor_citewindow_50.csv'\n",
    "art_data = pd.read_csv(citewindow_csvpath)\n",
    "art_txt = {} # art_txt[editor] = all_text\n",
    "for ed in list(talk_eds):\n",
    "    art_txt[ed] = art_data[art_data['editor']==ed].values[0][1]\n",
    "\n",
    "# Build up factor training text from top quantiles\n",
    "for t in thresholds:\n",
    "    with open('/home/michael/school/research/wp/wp_articles/editor_citewindow_factor{:1.1f}.csv'.format(t), 'w') as f:\n",
    "        w = csv.writer(f)\n",
    "        w.writerow(['factor', 'editor', 'text'])\n",
    "        for i in range(11):\n",
    "            for ed in editors[t][i]:\n",
    "                if not (isinstance(art_txt[ed], float) and np.isnan(art_txt[ed])):\n",
    "                    w.writerow([i, ed, art_txt[ed]])"
   ]
  },
  {
   "cell_type": "code",
   "execution_count": 8,
   "metadata": {
    "collapsed": false
   },
   "outputs": [
    {
     "data": {
      "text/plain": [
       "nan"
      ]
     },
     "execution_count": 8,
     "metadata": {},
     "output_type": "execute_result"
    }
   ],
   "source": [
    "art_txt[list(art_txt.keys())[0]][1]"
   ]
  },
  {
   "cell_type": "code",
   "execution_count": 15,
   "metadata": {
    "collapsed": false
   },
   "outputs": [],
   "source": [
    "# ARTICLE CONTRIBUTION DATA--each editor assigned to one factor, editors selected by threshold\n",
    "# Gather article text from editors\n",
    "art_csvpath = '/home/michael/school/research/wp/wikipedia/data/ipc_article_diffs.csv'\n",
    "art_data = pd.read_csv(art_csvpath)\n",
    "art_txt = {} # art_txt[editor] = all_text\n",
    "for ed in list(talk_eds):\n",
    "    #for _, row in art_data[art_data['username']==ed].iterrows():\n",
    "    #    debug_here()\n",
    "    #    print(row['post_text'])\n",
    "    art_txt[ed] = \" \".join([str(row['additions']) for _, row in art_data[art_data['editor']==ed].iterrows()])\n",
    "\n",
    "# print(len(art_txt))\n",
    "\n",
    "# Build dict with top and bottom quantile of each factor\n",
    "# factor_eds = {i: {} for i in range(1,11)}\n",
    "# div = 100/edpercent\n",
    "# for i in range(1, 11):\n",
    "#     factor_eds[i]['top'] = factors_talk['Factor{:d}'.format(i)].sort_values(ascending=False)[:round(len(factors_talk)/div)]\n",
    "#     factor_eds[i]['bottom'] = factors_talk['Factor{:d}'.format(i)].sort_values(ascending=True)[:round(len(factors_talk)/div)]\n",
    "\n",
    "# Build up factor training text from top quantiles\n",
    "for t in thresholds:\n",
    "    with open('/home/michael/school/research/wp/wikipedia/data/editortext_factors_{:1.1f}.csv'.format(t), 'w') as f:\n",
    "        w = csv.writer(f)\n",
    "        w.writerow(['factor', 'editor', 'additions'])\n",
    "        for i in range(11):\n",
    "            #for ed in factor_eds[i]['top'].index:\n",
    "            #    if str(ed) not in art_txt.keys():\n",
    "            #        print(ed)\n",
    "        #     factor_txt[i] = ' '.join([art_txt[ed] for ed in factor_eds[i]['top'].index])\n",
    "            for ed in editors[t][i]:\n",
    "                w.writerow([i, ed, art_txt[ed]])"
   ]
  },
  {
   "cell_type": "code",
   "execution_count": 6,
   "metadata": {
    "collapsed": false
   },
   "outputs": [],
   "source": [
    "# Add editor factor assignments to article additions\n",
    "article_adds = pd.read_csv('/home/michael/school/research/wp/wikipedia/data/ipc_article_diffs.csv')\n",
    "\n",
    "for t in thresholds:\n",
    "    article_adds_factors = article_adds.copy()\n",
    "    for i, row in enumerate(article_adds.values):\n",
    "        ed = row[-2]\n",
    "        if ed in assigned_factors[t].index:\n",
    "            fac = assigned_factors[t].loc[row[-2], 'assigned_factor']\n",
    "            if fac != 0:\n",
    "                fac = int(fac.split('Factor')[1])\n",
    "            article_adds_factors.set_value(i, 'factor', fac)\n",
    "    \n",
    "    criterion = article_adds_factors['factor'].map(lambda x: not np.isnan(x))\n",
    "    article_adds_factors = article_adds_factors[criterion]\n",
    "    article_adds_factors.to_csv('/home/michael/school/research/wp/wikipedia/data/article_diffs_factors_{:1.1f}.csv'.format(t), index=False)"
   ]
  },
  {
   "cell_type": "code",
   "execution_count": 13,
   "metadata": {
    "collapsed": false
   },
   "outputs": [
    {
     "data": {
      "image/png": "[encoded data removed]",
      "text/plain": [
       "<matplotlib.figure.Figure at 0x7f1d668319e8>"
      ]
     },
     "metadata": {},
     "output_type": "display_data"
    }
   ],
   "source": [
    "%matplotlib inline\n",
    "\n",
    "# Check means, variance of PCA factor loadings\n",
    "means = factors_talk.mean(axis=1)\n",
    "plt.hist(means.values, bins=1000)\n",
    "plt.show()"
   ]
  },
  {
   "cell_type": "code",
   "execution_count": 12,
   "metadata": {
    "collapsed": false
   },
   "outputs": [
    {
     "data": {
      "image/png": "[encoded data removed]",
      "text/plain": [
       "<matplotlib.figure.Figure at 0x7f1d66851438>"
      ]
     },
     "metadata": {},
     "output_type": "display_data"
    }
   ],
   "source": [
    "var = factors_talk.var(axis=1)\n",
    "plt.hist(var.values, bins=1000)\n",
    "plt.show()"
   ]
  },
  {
   "cell_type": "code",
   "execution_count": 24,
   "metadata": {
    "collapsed": false
   },
   "outputs": [
    {
     "name": "stdout",
     "output_type": "stream",
     "text": [
      "242\n",
      "237\n",
      "165\n",
      "74\n",
      "203\n",
      "105\n",
      "292\n",
      "181\n",
      "119\n",
      "300\n"
     ]
    }
   ],
   "source": [
    "# Number of editors with highest value in certain factors\n",
    "for i in range(1,11):\n",
    "    print(len(pca_editors[i]))"
   ]
  },
  {
   "cell_type": "code",
   "execution_count": 6,
   "metadata": {
    "collapsed": false
   },
   "outputs": [],
   "source": [
    "# ARTICLE CONTRIBUTION DATA--each editor assigned to one factor--by percentage\n",
    "# Gather article text from editors\n",
    "art_csvpath = '/home/michael/school/research/wp/wikipedia/data/ipc_article_diffs.csv'\n",
    "art_data = pd.read_csv(art_csvpath)\n",
    "art_txt = {} # art_txt[editor] = all_text\n",
    "for ed in list(talk_eds):\n",
    "    #for _, row in art_data[art_data['username']==ed].iterrows():\n",
    "    #    debug_here()\n",
    "    #    print(row['post_text'])\n",
    "    art_txt[ed] = \" \".join([str(row['additions']) for _, row in art_data[art_data['editor']==ed].iterrows()])\n",
    "\n",
    "# print(len(art_txt))\n",
    "\n",
    "# Build dict with top and bottom quantile of each factor\n",
    "factor_eds = {i: {} for i in range(1,11)}\n",
    "div = 100/edpercent\n",
    "for i in range(1, 11):\n",
    "    factor_eds[i]['top'] = factors_talk['Factor{:d}'.format(i)].sort_values(ascending=False)[:round(len(factors_talk)/div)]\n",
    "    factor_eds[i]['bottom'] = factors_talk['Factor{:d}'.format(i)].sort_values(ascending=True)[:round(len(factors_talk)/div)]\n",
    "\n",
    "# Build up factor training text from top quantiles\n",
    "# factor_txt = {}\n",
    "with open('/home/michael/school/research/wp/wikipedia/data/top{:d}percent_article_adds.csv'.format(edpercent), 'w') as f:\n",
    "    w = csv.writer(f)\n",
    "    w.writerow(['factor', 'editor', 'text'])\n",
    "    for i in range(1, 5):\n",
    "        #for ed in factor_eds[i]['top'].index:\n",
    "        #    if str(ed) not in art_txt.keys():\n",
    "        #        print(ed)\n",
    "    #     factor_txt[i] = ' '.join([art_txt[ed] for ed in factor_eds[i]['top'].index])\n",
    "        for ed in factor_eds[i]['top'].index:\n",
    "            w.writerow([i, ed, art_txt[ed]])\n",
    "\n",
    "# Write out factor texts\n",
    "# data = pd.DataFrame(factor_txt, index=['text']).transpose()\n",
    "# data['factor'] = data.index\n",
    "# data = data[data.columns.tolist()[-1:] + data.columns.tolist()[:-1]]\n",
    "# data = pd.DataFrame(outlines)\n",
    "# data"
   ]
  },
  {
   "cell_type": "code",
   "execution_count": 6,
   "metadata": {
    "collapsed": false
   },
   "outputs": [],
   "source": [
    "# ARTICLE CONTRIBUTION DATA\n",
    "# Gather article text from editors\n",
    "art_csvpath = '/home/michael/school/research/wp/wikipedia/data/ipc_article_diffs.csv'\n",
    "art_data = pd.read_csv(art_csvpath)\n",
    "art_txt = {} # art_txt[editor] = all_text\n",
    "for ed in list(talk_eds):\n",
    "    #for _, row in art_data[art_data['username']==ed].iterrows():\n",
    "    #    debug_here()\n",
    "    #    print(row['post_text'])\n",
    "    art_txt[ed] = \" \".join([str(row['additions']) for _, row in art_data[art_data['editor']==ed].iterrows()])\n",
    "\n",
    "# print(len(art_txt))\n",
    "\n",
    "# Build dict with top and bottom quantile of each factor\n",
    "factor_eds = {i: {} for i in range(1,11)}\n",
    "div = 100/edpercent\n",
    "for i in range(1, 11):\n",
    "    factor_eds[i]['top'] = factors_talk['Factor{:d}'.format(i)].sort_values(ascending=False)[:round(len(factors_talk)/div)]\n",
    "    factor_eds[i]['bottom'] = factors_talk['Factor{:d}'.format(i)].sort_values(ascending=True)[:round(len(factors_talk)/div)]\n",
    "\n",
    "# Build up factor training text from top quantiles\n",
    "# factor_txt = {}\n",
    "with open('/home/michael/school/research/wp/wikipedia/data/top{:d}percent_article_adds.csv'.format(edpercent), 'w') as f:\n",
    "    w = csv.writer(f)\n",
    "    w.writerow(['factor', 'editor', 'text'])\n",
    "    for i in range(1, 5):\n",
    "        #for ed in factor_eds[i]['top'].index:\n",
    "        #    if str(ed) not in art_txt.keys():\n",
    "        #        print(ed)\n",
    "    #     factor_txt[i] = ' '.join([art_txt[ed] for ed in factor_eds[i]['top'].index])\n",
    "        for ed in factor_eds[i]['top'].index:\n",
    "            w.writerow([i, ed, art_txt[ed]])\n",
    "\n",
    "# Write out factor texts\n",
    "# data = pd.DataFrame(factor_txt, index=['text']).transpose()\n",
    "# data['factor'] = data.index\n",
    "# data = data[data.columns.tolist()[-1:] + data.columns.tolist()[:-1]]\n",
    "# data = pd.DataFrame(outlines)\n",
    "# data"
   ]
  },
  {
   "cell_type": "code",
   "execution_count": 8,
   "metadata": {
    "collapsed": false,
    "scrolled": true
   },
   "outputs": [],
   "source": [
    "data.to_csv('/home/michael/school/research/wp/wikipedia/data/top{:d}percent_article_adds.csv'.format(edpercent), index=None)"
   ]
  },
  {
   "cell_type": "code",
   "execution_count": 27,
   "metadata": {
    "collapsed": false
   },
   "outputs": [
    {
     "data": {
      "image/png": "[encoded data removed]",
      "text/plain": [
       "<matplotlib.figure.Figure at 0x7f2ebb81a518>"
      ]
     },
     "metadata": {},
     "output_type": "display_data"
    }
   ],
   "source": [
    "%matplotlib inline\n",
    "# Form clusters of editors based on a threshold\n",
    "\n",
    "factor_clusters = {}\n",
    "lo = 0\n",
    "hi = 50\n",
    "nvals = 251\n",
    "\n",
    "for t in np.linspace(lo, hi, nvals):\n",
    "#     print(\"Threshold: {:f}\".format(t))\n",
    "    factor_clusters[t] = {}\n",
    "    \n",
    "    for i in range(1, 11):\n",
    "#         print(\"\\tFactor {:d}\".format(i), end=\": \")\n",
    "        factor_clusters[t][i] = factors_talk[factors_talk['Factor{:d}'.format(i)] >= t].index\n",
    "#         print(len(factor_clusters[t][i]))\n",
    "    \n",
    "#     print()\n",
    "\n",
    "# Get #editors clustered at all depending on threshold want data (threshold, #editors clustered)\n",
    "total_clustered = [[] for _ in range(2)]\n",
    "for t in np.linspace(lo, hi, nvals):\n",
    "    total_clustered[0].append(t)\n",
    "    clustered = set()\n",
    "    for i in range(1,11):\n",
    "        factor_cluster = {name for name in factor_clusters[t][i]}\n",
    "        clustered |= factor_cluster\n",
    "    total_clustered[1].append(len(clustered))\n",
    "\n",
    "# print(total_clustered[1][:10])\n",
    "# print(total_clustered[0][:10])\n",
    "\n",
    "# Talk editors clustering by threshold, factors each plotted\n",
    "\n",
    "plt.plot(total_clustered[0], total_clustered[1], '.')\n",
    "plt.title(\"Talk editors in at least one cluster by threshold\")\n",
    "plt.xlabel('Threshold')\n",
    "plt.xticks(range(0, 51, 2))\n",
    "plt.axis([0, 20, 0, 2000])\n",
    "plt.yticks(range(0, 2001, 200))\n",
    "plt.ylabel('Number of editors clustered')\n",
    "plt.savefig('/home/michael/school/research/wp/pca_total_editors_classified.png', dpi=400)\n",
    "plt.show()"
   ]
  },
  {
   "cell_type": "code",
   "execution_count": 29,
   "metadata": {
    "collapsed": false
   },
   "outputs": [
    {
     "data": {
      "image/png": "[encoded data removed]",
      "text/plain": [
       "<matplotlib.figure.Figure at 0x7f2ebd8fe7b8>"
      ]
     },
     "metadata": {},
     "output_type": "display_data"
    }
   ],
   "source": [
    "%matplotlib inline\n",
    "# Form clusters of editors based on a threshold--plot all factors\n",
    "\n",
    "factor_clusters = {}\n",
    "lo = 0\n",
    "hi = 50\n",
    "nvals = 251\n",
    "\n",
    "for t in np.linspace(lo, hi, nvals):\n",
    "#     print(\"Threshold: {:f}\".format(t))\n",
    "    factor_clusters[t] = {}\n",
    "    \n",
    "    for i in range(1, 11):\n",
    "#         print(\"\\tFactor {:d}\".format(i), end=\": \")\n",
    "        factor_clusters[t][i] = factors_talk[factors_talk['Factor{:d}'.format(i)] >= t].index\n",
    "#         print(len(factor_clusters[t][i]))\n",
    "    \n",
    "#     print()\n",
    "\n",
    "# Get #editors clustered at all depending on threshold want data (threshold, #editors clustered)\n",
    "thresholds = np.linspace(lo,hi,nvals)\n",
    "nclustered = {} # nclustered[factor]\n",
    "for i in range(1,11):\n",
    "    nclustered[i] = []\n",
    "    for t in thresholds:\n",
    "        factor_cluster = {name for name in factor_clusters[t][i]}\n",
    "        nclustered[i].append(len(factor_cluster))\n",
    "\n",
    "#     print(i)\n",
    "#     print(nclustered[i])\n",
    "\n",
    "# plt.figure(figsize=(8,6), dpi=400)\n",
    "# plt.plot(thresholds, *[nclustered[i] for i in range(1,11)], '-')\n",
    "for i in range(1,11):\n",
    "    plt.plot(thresholds, nclustered[i])\n",
    "plt.title(\"Talk editors in factor clusters\")\n",
    "plt.xlabel('Threshold')\n",
    "plt.xticks(range(0, 51, 2))\n",
    "plt.axis([0, 20, 0, 1000])\n",
    "plt.yticks(range(0, 1001, 200))\n",
    "plt.ylabel('Number of editors clustered')\n",
    "plt.savefig('/home/michael/school/research/wp/pca_editors_by_threshold_factor.png', dpi=400)\n",
    "plt.show()"
   ]
  },
  {
   "cell_type": "code",
   "execution_count": 31,
   "metadata": {
    "collapsed": false
   },
   "outputs": [
    {
     "data": {
      "image/png": "[encoded data removed]",
      "text/plain": [
       "<matplotlib.figure.Figure at 0x7f40384e8cf8>"
      ]
     },
     "metadata": {},
     "output_type": "display_data"
    }
   ],
   "source": [
    "%matplotlib inline\n",
    "\n",
    "# Talk editors in at least one cluster by threshold\n",
    "\n",
    "plt.plot(total_clustered[0], total_clustered[1], '.')\n",
    "plt.title(\"Talk editors in at least one cluster by threshold\")\n",
    "plt.xlabel('Threshold')\n",
    "plt.xticks(range(0, 51, 2))\n",
    "plt.axis([0, 20, 0, 2000])\n",
    "plt.yticks(range(0, 2001, 200))\n",
    "plt.ylabel('Number of editors clustered')\n",
    "plt.savefig('/home/michael/school/research/wp/pca_editors_classified.png', dpi=400)\n",
    "plt.show()"
   ]
  },
  {
   "cell_type": "code",
   "execution_count": 24,
   "metadata": {
    "collapsed": false
   },
   "outputs": [
    {
     "name": "stdout",
     "output_type": "stream",
     "text": [
      "47.408197826\n",
      "79.256529847\n",
      "68.905077319\n",
      "92.274107605\n",
      "48.831714948\n",
      "20.725912078\n",
      "41.368015891\n",
      "35.723681858\n",
      "67.446532604\n",
      "58.238153128\n"
     ]
    }
   ],
   "source": [
    "# Max loadings in each column\n",
    "for i in range(1,11):\n",
    "    print(max(factors_talk[\"Factor{:d}\".format(i)]))"
   ]
  },
  {
   "cell_type": "code",
   "execution_count": 6,
   "metadata": {
    "collapsed": false,
    "scrolled": true
   },
   "outputs": [
    {
     "name": "stdout",
     "output_type": "stream",
     "text": [
      "1\n",
      "2\n",
      "3\n",
      "4\n"
     ]
    },
    {
     "data": {
      "text/plain": [
       "4"
      ]
     },
     "execution_count": 6,
     "metadata": {},
     "output_type": "execute_result"
    }
   ],
   "source": [
    "# TALK PAGE DATA\n",
    "# Gather talk page text from editors\n",
    "talk_csvpath = '/home/michael/school/research/wp/wikipedia/data/talk/ipc_utf8_talkpages.csv'\n",
    "talk_data = pd.read_csv(talk_csvpath)\n",
    "talk_txt = {} # talk_txt[editor] = all_text\n",
    "for ed in list(talk_eds):\n",
    "    #for _, row in talk_data[talk_data['username']==ed].iterrows():\n",
    "    #    debug_here()\n",
    "    #    print(row['post_text'])\n",
    "    talk_txt[ed] = \" \".join([str(row['post_text']) for _, row in talk_data[talk_data['username']==ed].iterrows()])\n",
    "\n",
    "# print(len(talk_txt))\n",
    "\n",
    "# Build dict with top and bottom quantile of each factor\n",
    "factor_eds = {i: {} for i in range(1,11)}\n",
    "div = 100/edpercent\n",
    "for i in range(1, 11):\n",
    "    factor_eds[i]['top'] = factors_talk['Factor{:d}'.format(i)].sort_values(ascending=False)[:round(len(factors_talk)/div)]\n",
    "    factor_eds[i]['bottom'] = factors_talk['Factor{:d}'.format(i)].sort_values(ascending=True)[:round(len(factors_talk)/div)]\n",
    "\n",
    "# Build up factor training text from top quantiles\n",
    "factor_txt = {}\n",
    "for i in range(1, 5):\n",
    "    #for ed in factor_eds[i]['top'].index:\n",
    "    #    if str(ed) not in talk_txt.keys():\n",
    "    #        print(ed)\n",
    "    factor_txt[i] = ' '.join([talk_txt[ed] for ed in factor_eds[i]['top'].index])\n",
    "\n",
    "# Clean up text\n",
    "numberref = \"(?:[0-9](?:,|\\.)?)+(?:x|k|m|st|nd|rd|th)?\"\n",
    "numberspace = re.compile(\"{0} \".format(numberref))\n",
    "spacenumber = re.compile(\" {0}\".format(numberref))\n",
    "underscores = re.compile(\"_\")\n",
    "\n",
    "# two options for datestring: \n",
    "#    xx:xx . yyy # . # . UTC .\n",
    "#    xx:xx . # yyy # . UTC .\n",
    "timeref = \"[0-2]?[0-9]:[0-9][0-9]\"\n",
    "months = [  \"January\", \"February\",    \"March\",    \"April\",\n",
    "                \"May\",     \"June\",     \"July\",   \"August\",\n",
    "          \"September\",  \"October\", \"November\", \"December\"]\n",
    "def getRef(month):\n",
    "     if len(month)>3:\n",
    "        return \"(?:{0}(?:\\.|{1})?)\".format(month[:3],month[3:])\n",
    "     else:\n",
    "        return \"(?:{0})\".format(month)\n",
    "    \n",
    "# getRef = lambda(month):\"(?:{0}(?:\\.|{1})?)\".format(month[:3],month[3:]) if len(month)>3 \\\n",
    "#                   else \"(?:{0})\".format(month)\n",
    "\n",
    "monthref = \"(?:{0})\".format(\"|\".join([getRef(month) for month in months]))\n",
    "UTCref = \"(?:(?:(?:\\(UTC\\))|(?:\\(UTC ?(?:\\+|-)[0-1]?[0-9]\\))|(?:UTC(?: ?(?:\\+|-)[0-1]?[0-9]\\)?)?)))\"\n",
    "tsConfigs = [\"(?:{0},? \\. {1} {3} \\. {3} \\. {2} \\.)\",\n",
    "             \"(?:{0},? \\. {3} {1} {3} \\. {2} \\.)\",\n",
    "             \"(?:{3} {1} {3} {0} {2})\",\n",
    "             \"(?:{0},? {3} {1} {3} {2})\"]\n",
    "timestamp = re.compile(\"(?:{0})\".format(\"|\".join([config.format(timeref, monthref, UTCref, numberref) \n",
    "                                              for config in tsConfigs])))\n",
    "time = re.compile(\" {0} \".format(timeref))\n",
    "IPnumref = \"(?:25[0-5]|2[0-4][0-9]|[01]?[0-9][0-9]?)\"\n",
    "IPaddress = re.compile(\"(?:{0}\\.){{3}}{0}\".format(IPnumref))\n",
    "# name = re.compile(\"|\".join(list(talk_eds)))\n",
    "\n",
    "maxlen = 0\n",
    "for key in factor_txt:\n",
    "    segment = factor_txt[key]\n",
    "    segment = timestamp.sub(\"TIMESTAMP\",segment)\n",
    "    segment = IPaddress.sub(\"IPADDRESS\",segment)\n",
    "    segment = time.sub(\" TIME \",segment)\n",
    "    segment = spacenumber.sub(\" #\",segment)\n",
    "    segment = numberspace.sub(\"# \",segment)\n",
    "    segment = underscores.sub(\" \",segment)\n",
    "#     segment = name.sub(\"NAME\", segment)\n",
    "    factor_txt[key] = segment\n",
    "    \n",
    "for i in range(1,5):\n",
    "    print(i)\n",
    "    factor_txt[i] = factor_txt[i].replace(':', '')\n",
    "    for ed in talk_eds:\n",
    "        factor_txt[i] = factor_txt[i].replace('--{0}'.format(ed), '--NAME')\n",
    "        factor_txt[i] = factor_txt[i].replace('-{0}'.format(ed), '-NAME')\n",
    "        factor_txt[i] = factor_txt[i].replace('@{0}'.format(ed), '-NAME')\n",
    "        factor_txt[i] = factor_txt[i].replace(' {0} '.format(ed), ' NAME ')\n",
    "        factor_txt[i] = factor_txt[i].replace('NAME (talk)'.format(ed), 'NAME')\n",
    "    \n",
    "len(factor_txt)"
   ]
  },
  {
   "cell_type": "code",
   "execution_count": 7,
   "metadata": {
    "collapsed": false
   },
   "outputs": [],
   "source": [
    "# Write out factor texts\n",
    "data = pd.DataFrame(factor_txt, index=['text']).transpose()\n",
    "data['factor'] = data.index\n",
    "data = data[data.columns.tolist()[-1:] + data.columns.tolist()[:-1]]\n",
    "\n",
    "data.to_csv('/home/michael/school/research/wp/wikipedia/data/top{:d}percent_editortext.csv'.format(edpercent), index=None)"
   ]
  },
  {
   "cell_type": "code",
   "execution_count": 7,
   "metadata": {
    "collapsed": false,
    "scrolled": true
   },
   "outputs": [
    {
     "name": "stdout",
     "output_type": "stream",
     "text": [
      "1\n",
      "Column 1\n",
      "Jalapenos do exist    47.408198\n",
      "Tiamut                21.014307\n",
      "Nishidani             20.313740\n",
      "The Squicks           16.979149\n",
      "Lihaas                15.702478\n",
      "Okedem                15.490496\n",
      "Night w               14.616990\n",
      "Al Ameer son          14.043197\n",
      "Factomancer           13.642668\n",
      "Tewfik                12.987740\n",
      "Name: Factor1, dtype: float64\n",
      "Column 1\n",
      "WLRoss                  4.002824\n",
      "Jethro B                3.979675\n",
      "JiHymas@himivest.com    3.848054\n",
      "Olegwiki                3.841054\n",
      "No More Mr Nice Guy     3.762094\n",
      "6SJ7                    3.742516\n",
      "Pedrito                 3.722863\n",
      "Tpbradbury              3.615314\n",
      "Fences and windows      3.588243\n",
      "John Bahrain            3.551108\n",
      "Name: Factor1, dtype: float64\n",
      "\n",
      "2\n",
      "Column 1\n",
      "Reenem                        79.256530\n",
      "Jalapenos do exist            25.125361\n",
      "TheCuriousGnome               23.719465\n",
      "Gilabrand                     22.924933\n",
      "Marokwitz                     22.496192\n",
      "Vanished user lt94ma34le12    19.553602\n",
      "Sceptic Ashdod                17.371216\n",
      "Sean.hoyland                  17.296738\n",
      "Ynhockey                      16.382318\n",
      "Nableezy                      14.482380\n",
      "Name: Factor2, dtype: float64\n",
      "Column 1\n",
      "Trahelliven                          2.871526\n",
      "Tazmaniacs                           2.785037\n",
      "Yambaram                             2.751561\n",
      "PluniAlmoni                          2.737448\n",
      "Mhym                                 2.659725\n",
      "Gimmetrow                            2.648123\n",
      "Ohnoitsjamie                         2.615076\n",
      "Magioladitis                         2.614082\n",
      "Vanished user skj3ioo3jwifjsek35y    2.569426\n",
      "Flymeoutofhere                       2.561749\n",
      "Name: Factor2, dtype: float64\n",
      "\n",
      "3\n",
      "Column 1\n",
      "Wickey-nl           68.905077\n",
      "Ashley kennedy3     44.071626\n",
      "Al Ameer son        41.513585\n",
      "Jayjg               21.047769\n",
      "Wikifan12345        13.929464\n",
      "Harlan wilkerson    12.589968\n",
      "Gilabrand           11.240105\n",
      "Night w             10.989259\n",
      "GHcool               9.937438\n",
      "Hertz1888            9.502926\n",
      "Name: Factor3, dtype: float64\n",
      "Column 1\n",
      "Emmette Hernandez Coleman    2.739489\n",
      "Andyvphil                    2.714086\n",
      "ElComandanteChe              2.573571\n",
      "MPerel                       2.558370\n",
      "Jmabel                       2.531181\n",
      "Carolmooredc                 2.430793\n",
      "Jhoman                       2.395869\n",
      "Khoikhoi                     2.371244\n",
      "Statesman1                   2.360858\n",
      "Koavf                        2.337126\n",
      "Name: Factor3, dtype: float64\n",
      "\n",
      "4\n",
      "Column 1\n",
      "Huldra             92.274108\n",
      "Al Ameer son       48.939697\n",
      "Ashley kennedy3    26.100198\n",
      "Tiamut             24.109692\n",
      "Nishidani          11.550845\n",
      "Padres Hana         8.412404\n",
      "Reenem              6.878799\n",
      "Ynhockey            6.679978\n",
      "Ian Pitchford       6.663346\n",
      "Ykantor             6.206679\n",
      "Name: Factor4, dtype: float64\n",
      "Column 1\n",
      "Danlaycock        1.150490\n",
      "Noon              1.094017\n",
      "Paraphelion       1.076257\n",
      "BD2412            1.059132\n",
      "Marek69           1.040581\n",
      "Fjmustak          1.036534\n",
      "Jim Fitzgerald    1.036465\n",
      "Alaqsa81090       1.035950\n",
      "Talknic           1.030973\n",
      "FunkMonk          1.030063\n",
      "Name: Factor4, dtype: float64\n",
      "\n",
      "5\n",
      "Column 1\n",
      "Marokwitz               48.831715\n",
      "Sa.vakilian             35.621876\n",
      "JiHymas@himivest.com    14.925126\n",
      "Jayjg                    9.648516\n",
      "Organ123                 8.423445\n",
      "G-Dett                   8.201685\n",
      "Egeymi                   7.545191\n",
      "TheCuriousGnome          7.203205\n",
      "Wikifan12345             7.064997\n",
      "WLRoss                   6.343017\n",
      "Name: Factor5, dtype: float64\n",
      "Column 1\n",
      "Middayexpress     2.623897\n",
      "Dmyersturnbull    2.574149\n",
      "Ahangar-e-Gaz     2.573454\n",
      "Magioladitis      2.572393\n",
      "IZAK              2.531188\n",
      "Wickey-nl         2.528443\n",
      "Gabe2000000       2.520036\n",
      "Brewcrewer        2.485352\n",
      "Sean.hoyland      2.380052\n",
      "386-DX            2.375829\n",
      "Name: Factor5, dtype: float64\n",
      "\n",
      "6\n",
      "Column 1\n",
      "Michael Safyan    20.725912\n",
      "Carolmooredc      20.374844\n",
      "Wikifan12345      17.382228\n",
      "NYScholar         12.587437\n",
      "Kendrick7         11.551243\n",
      "Nableezy          10.692401\n",
      "Sm8900            10.656421\n",
      "Huldra             8.976700\n",
      "Atrix20            8.647944\n",
      "Sean.hoyland       8.257613\n",
      "Name: Factor6, dtype: float64\n",
      "Column 1\n",
      "Boodlesthecat       2.929852\n",
      "Grenavitar          2.888791\n",
      "Tazmaniacs          2.751421\n",
      "NoCal100            2.700934\n",
      "Palmiro             2.639004\n",
      "Shuki               2.516163\n",
      "Jmabel              2.440812\n",
      "Soosim              2.437262\n",
      "IronDuke            2.424388\n",
      "Fayenatic london    2.423473\n",
      "Name: Factor6, dtype: float64\n",
      "\n",
      "7\n",
      "Column 1\n",
      "Shamir1          41.368016\n",
      "Gilabrand        32.840283\n",
      "Malik Shabazz    26.844886\n",
      "Al Ameer son     21.207587\n",
      "Nableezy         19.737863\n",
      "Sm8900           16.810542\n",
      "Wikifan12345     15.425726\n",
      "Ian Pitchford    14.454873\n",
      "Haberstr         14.201435\n",
      "Sa.vakilian      12.152741\n",
      "Name: Factor7, dtype: float64\n",
      "Column 1\n",
      "Soosim         3.060464\n",
      "Trahelliven    2.991244\n",
      "Flayer         2.976850\n",
      "CJCurrie       2.959572\n",
      "Yahel Guhan    2.928325\n",
      "NYCJosh        2.907845\n",
      "Tickle me      2.905143\n",
      "Tpbradbury     2.899487\n",
      "A Sniper       2.779240\n",
      "Yoninah        2.706085\n",
      "Name: Factor7, dtype: float64\n",
      "\n",
      "8\n",
      "Column 1\n",
      "Malik Shabazz         35.723682\n",
      "Tiamut                15.421296\n",
      "Nableezy              15.234778\n",
      "Sean.hoyland          14.673485\n",
      "Jalapenos do exist    13.448804\n",
      "Marokwitz             12.374105\n",
      "Gilabrand             11.737755\n",
      "SlimVirgin            11.347515\n",
      "Former user 2         10.723162\n",
      "GHcool                 9.895858\n",
      "Name: Factor8, dtype: float64\n",
      "Column 1\n",
      "Canadian Monkey    2.791087\n",
      "Hellomrkrinkle     2.785536\n",
      "Ceedjee            2.773030\n",
      "Dan Murphy         2.769187\n",
      "Samuel B52         2.729454\n",
      "WLRoss             2.721022\n",
      "Vice regent        2.695413\n",
      "Epeefleche         2.643058\n",
      "Beit Or            2.635687\n",
      "Joshdboz           2.578901\n",
      "Name: Factor8, dtype: float64\n",
      "\n",
      "9\n",
      "Column 1\n",
      "Former user 2    67.446533\n",
      "Armon            22.990481\n",
      "Tewfik           21.594469\n",
      "Jaakobou         21.040712\n",
      "Jayjg            16.187500\n",
      "Beit Or          15.953097\n",
      "Hertz1888        15.635665\n",
      "Haberstr         13.529184\n",
      "Sean.hoyland     13.281159\n",
      "Kasaalan         12.931234\n",
      "Name: Factor9, dtype: float64\n",
      "Column 1\n",
      "Mystichumwipe     2.285023\n",
      "Againme           2.272011\n",
      "Ling.Nut          2.262635\n",
      "Bibigon           2.251845\n",
      "Grace Note        2.224150\n",
      "Coroebus          2.221875\n",
      "Mschiffler        2.187996\n",
      "Hope&amp;Act3!    2.116364\n",
      "Rami R            2.111849\n",
      "Ethelh            2.055344\n",
      "Name: Factor9, dtype: float64\n",
      "\n",
      "10\n",
      "Column 1\n",
      "Nableezy          58.238153\n",
      "Jayjg             25.020719\n",
      "Sean.hoyland      16.287192\n",
      "CJCurrie          14.809520\n",
      "Nishidani         13.462572\n",
      "Michael Safyan    12.513016\n",
      "Urthogie          10.409443\n",
      "Factomancer       10.188248\n",
      "Zero0000           9.898999\n",
      "Wickey-nl          9.137819\n",
      "Name: Factor10, dtype: float64\n",
      "Column 1\n",
      "Burgas00      2.969112\n",
      "MPerel        2.931329\n",
      "Sleetman      2.925925\n",
      "Ronhjones     2.873208\n",
      "SlimVirgin    2.836675\n",
      "Oneworld25    2.763414\n",
      "DerHexer      2.754988\n",
      "AladdinSE     2.696401\n",
      "Alatari       2.692542\n",
      "Froy1100      2.623693\n",
      "Name: Factor10, dtype: float64\n",
      "\n"
     ]
    }
   ],
   "source": [
    "# Qualitatively look at top and bottom deciles\n",
    "for i in range(1, 11):\n",
    "    print(i)\n",
    "    print(factor_eds[i]['top'][:10])\n",
    "    print(factor_eds[i]['top'][50:60])\n",
    "    print()"
   ]
  },
  {
   "cell_type": "code",
   "execution_count": 22,
   "metadata": {
    "collapsed": false,
    "scrolled": false
   },
   "outputs": [
    {
     "name": "stdout",
     "output_type": "stream",
     "text": [
      "312\n",
      "510\n",
      "170\n"
     ]
    }
   ],
   "source": [
    "# Compare with WikiProject lists\n",
    "# Load in WikiProject lists\n",
    "proj_pal = set([name[0] for name in pd.read_csv('/home/michael/school/research/wp/wikipedia/data/wikiproject_palestine.txt', header=None).values.tolist()])\n",
    "print(len(proj_pal))\n",
    "proj_isr = set([name[0] for name in pd.read_csv('/home/michael/school/research/wp/wikipedia/data/wikiproject_israel.txt', header=None).values.tolist()])\n",
    "print(len(proj_isr))\n",
    "proj_collab = set([name[0] for name in pd.read_csv('/home/michael/school/research/wp/wikipedia/data/wikiproject_israel_palestine_collaboration.txt', header=None).values.tolist()])\n",
    "print(len(proj_collab))\n",
    "\n",
    "rows = [['pal_overlap', 'isr_overlap', 'collab_overlap']]\n",
    "for i in range(1, 11):\n",
    "    row = []\n",
    "    #print(i)\n",
    "    top = set(factor_eds[i]['top'].index.tolist())\n",
    "    overlap = top.intersection(proj_pal)\n",
    "    #print(\"\\tPal overlap: {:f}\".format(len(overlap)/len(dec)))\n",
    "    row.append(len(overlap)/len(dec))\n",
    "    overlap = top.intersection(proj_isr)\n",
    "    #print(\"\\tIsr overlap: {:f}\".format(len(overlap)/len(dec)))\n",
    "    row.append(len(overlap)/len(dec))\n",
    "    overlap = top.intersection(proj_collab)\n",
    "    #print(\"\\tCollab overlap: {:f}\".format(len(overlap)/len(dec)))\n",
    "    row.append(len(overlap)/len(dec))\n",
    "    rows.append(row)\n",
    "    #print()\n",
    "data = pd.DataFrame(rows[1:]).transpose()\n",
    "data"
   ]
  }
 ],
 "metadata": {
  "kernelspec": {
   "display_name": "Python 3",
   "language": "python",
   "name": "python3"
  },
  "language_info": {
   "codemirror_mode": {
    "name": "ipython",
    "version": 3
   },
   "file_extension": ".py",
   "mimetype": "text/x-python",
   "name": "python",
   "nbconvert_exporter": "python",
   "pygments_lexer": "ipython3",
   "version": "3.5.2"
  }
 },
 "nbformat": 4,
 "nbformat_minor": 0
}
