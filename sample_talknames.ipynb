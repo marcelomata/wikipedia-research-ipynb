{
 "cells": [
  {
   "cell_type": "code",
   "execution_count": 1,
   "metadata": {
    "collapsed": true
   },
   "outputs": [],
   "source": [
    "import random"
   ]
  },
  {
   "cell_type": "markdown",
   "metadata": {},
   "source": [
    "# Load data"
   ]
  },
  {
   "cell_type": "code",
   "execution_count": 3,
   "metadata": {
    "collapsed": false
   },
   "outputs": [
    {
     "data": {
      "text/plain": [
       "4914139"
      ]
     },
     "execution_count": 3,
     "metadata": {},
     "output_type": "execute_result"
    }
   ],
   "source": [
    "talknames_path = '/home/michael/school/research/wp/wikipedia/data/talk_pagenames.txt'\n",
    "with open(talknames_path) as f:\n",
    "    talknames = f.read().splitlines()\n",
    "len(talknames)"
   ]
  },
  {
   "cell_type": "markdown",
   "metadata": {},
   "source": [
    "# Preprocess names"
   ]
  },
  {
   "cell_type": "code",
   "execution_count": 8,
   "metadata": {
    "collapsed": false
   },
   "outputs": [],
   "source": [
    "# Remove 'Discussion:' and empties\n",
    "# talknames = [name[len('Discussion:'):] for name in talknames if name.startswith('Discussion:')]\n",
    "# talknames = [name for name in talknames if name != '']\n",
    "talknames = [name.replace('_', ' ') for name in talknames]\n",
    "\n",
    "with open(talknames_path, 'w') as out:\n",
    "    for name in talknames:\n",
    "        out.write(name + '\\n')"
   ]
  },
  {
   "cell_type": "markdown",
   "metadata": {},
   "source": [
    "# Sample"
   ]
  },
  {
   "cell_type": "code",
   "execution_count": 10,
   "metadata": {
    "collapsed": false
   },
   "outputs": [],
   "source": [
    "sampled = {}\n",
    "\n",
    "for n in [10000, 20000, 50000, 100000]:\n",
    "    sampled[n] = sorted(random.sample(talknames, n))\n",
    "\n",
    "    with open('{:s}_{:d}k.txt'.format(talknames_path[:-4], int(n/1000)), 'w') as out:\n",
    "        for name in sampled[n]:\n",
    "            out.write(name + '\\n')"
   ]
  }
 ],
 "metadata": {
  "kernelspec": {
   "display_name": "Python 3",
   "language": "python",
   "name": "python3"
  },
  "language_info": {
   "codemirror_mode": {
    "name": "ipython",
    "version": 3
   },
   "file_extension": ".py",
   "mimetype": "text/x-python",
   "name": "python",
   "nbconvert_exporter": "python",
   "pygments_lexer": "ipython3",
   "version": "3.5.2+"
  }
 },
 "nbformat": 4,
 "nbformat_minor": 0
}
