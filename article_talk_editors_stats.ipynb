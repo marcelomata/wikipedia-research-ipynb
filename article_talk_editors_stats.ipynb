{
 "cells": [
  {
   "cell_type": "code",
   "execution_count": 2,
   "metadata": {
    "collapsed": false
   },
   "outputs": [],
   "source": [
    "import csv\n",
    "from collections import Counter\n",
    "import numpy as np\n",
    "import matplotlib.pyplot as plt"
   ]
  },
  {
   "cell_type": "code",
   "execution_count": 3,
   "metadata": {
    "collapsed": false
   },
   "outputs": [
    {
     "data": {
      "text/plain": [
       "6605"
      ]
     },
     "execution_count": 3,
     "metadata": {},
     "output_type": "execute_result"
    }
   ],
   "source": [
    "# Talk page usernames\n",
    "csvpath = '/home/michael/school/cprose_research/wp/wikipedia/data/ipc_utf8_talkpages.csv'\n",
    "talk_username_mentions = []\n",
    "\n",
    "with open(csvpath, 'r') as csvfile:\n",
    "    reader = csv.reader(csvfile, delimiter=',')\n",
    "    for row in reader:\n",
    "        talk_username_mentions.append(row[3])\n",
    "\n",
    "talk_counter = Counter(talk_username_mentions)\n",
    "len(talk_counter)"
   ]
  },
  {
   "cell_type": "code",
   "execution_count": 4,
   "metadata": {
    "collapsed": false
   },
   "outputs": [
    {
     "data": {
      "text/plain": [
       "232451"
      ]
     },
     "execution_count": 4,
     "metadata": {},
     "output_type": "execute_result"
    }
   ],
   "source": [
    "# ARTICLE USERNAMES\n",
    "art_filepath = '/home/michael/school/cprose_research/wp/wikipedia/data/ipc_article_biases.csv'\n",
    "\n",
    "article_usernames = []\n",
    "\n",
    "with open(art_filepath, 'r') as csvfile:\n",
    "    reader = csv.reader(csvfile, delimiter=',')\n",
    "    next(reader)\n",
    "    for row in reader:\n",
    "        article_usernames.append(row[2])\n",
    "\n",
    "article_counter = Counter(article_usernames)\n",
    "len(article_counter)"
   ]
  },
  {
   "cell_type": "code",
   "execution_count": 5,
   "metadata": {
    "collapsed": false
   },
   "outputs": [
    {
     "data": {
      "text/plain": [
       "5075"
      ]
     },
     "execution_count": 5,
     "metadata": {},
     "output_type": "execute_result"
    }
   ],
   "source": [
    "# Editors in both article and talk pages\n",
    "both_usernames = []\n",
    "\n",
    "for name in article_counter.keys():\n",
    "    if name in talk_username_mentions:\n",
    "        both_usernames.append(name)\n",
    "        \n",
    "len(both_usernames)"
   ]
  },
  {
   "cell_type": "code",
   "execution_count": 6,
   "metadata": {
    "collapsed": false
   },
   "outputs": [
    {
     "data": {
      "text/plain": [
       "26247"
      ]
     },
     "execution_count": 6,
     "metadata": {},
     "output_type": "execute_result"
    }
   ],
   "source": [
    "# See editors w more than 5 edits\n",
    "edit_threshold = 5\n",
    "eds_above_threshold = []\n",
    "\n",
    "for ed in article_counter.keys():\n",
    "    if article_counter[ed] >= edit_threshold:\n",
    "        eds_above_threshold.append(ed)\n",
    "\n",
    "len(eds_above_threshold)"
   ]
  },
  {
   "cell_type": "code",
   "execution_count": 7,
   "metadata": {
    "collapsed": false
   },
   "outputs": [
    {
     "data": {
      "text/plain": [
       "3642"
      ]
     },
     "execution_count": 7,
     "metadata": {},
     "output_type": "execute_result"
    }
   ],
   "source": [
    "# Editors w more than 5 edits in talk pages\n",
    "both_threshold_usernames = []\n",
    "\n",
    "for name in eds_above_threshold:\n",
    "    if name in both_usernames:\n",
    "        both_threshold_usernames.append(name)\n",
    "        \n",
    "len(both_threshold_usernames)"
   ]
  },
  {
   "cell_type": "code",
   "execution_count": 5,
   "metadata": {
    "collapsed": false,
    "scrolled": true
   },
   "outputs": [
    {
     "data": {
      "text/plain": [
       "[(1, 140839),\n",
       " (2, 40619),\n",
       " (3, 15992),\n",
       " (4, 8754),\n",
       " (5, 5163),\n",
       " (6, 3488),\n",
       " (7, 2436),\n",
       " (8, 1845),\n",
       " (9, 1432),\n",
       " (10, 1143),\n",
       " (11, 943),\n",
       " (12, 748),\n",
       " (13, 644),\n",
       " (14, 531),\n",
       " (15, 474),\n",
       " (16, 454),\n",
       " (17, 418),\n",
       " (18, 322),\n",
       " (19, 314),\n",
       " (20, 287),\n",
       " (21, 231),\n",
       " (22, 221),\n",
       " (23, 192),\n",
       " (24, 192),\n",
       " (25, 182),\n",
       " (26, 157),\n",
       " (27, 154),\n",
       " (28, 146),\n",
       " (29, 141),\n",
       " (30, 115),\n",
       " (31, 121),\n",
       " (32, 118),\n",
       " (33, 95),\n",
       " (34, 107),\n",
       " (35, 115),\n",
       " (36, 72),\n",
       " (37, 73),\n",
       " (38, 75),\n",
       " (39, 72),\n",
       " (40, 62)]"
      ]
     },
     "execution_count": 5,
     "metadata": {},
     "output_type": "execute_result"
    }
   ],
   "source": [
    "# Number of editors for each count numbers\n",
    "article_counts = Counter(article_counter.values())\n",
    "list(article_counts.items())[:40]\n",
    "#list(article_counts.values())[:70]"
   ]
  },
  {
   "cell_type": "code",
   "execution_count": 10,
   "metadata": {
    "collapsed": false
   },
   "outputs": [
    {
     "data": {
      "text/plain": [
       "(345676,)"
      ]
     },
     "execution_count": 10,
     "metadata": {},
     "output_type": "execute_result"
    }
   ],
   "source": [
    "counts = np.asarray(list(article_counter.values()))\n",
    "counts.shape"
   ]
  },
  {
   "cell_type": "code",
   "execution_count": 15,
   "metadata": {
    "collapsed": false
   },
   "outputs": [
    {
     "name": "stderr",
     "output_type": "stream",
     "text": [
      "/usr/lib/python3/dist-packages/matplotlib/figure.py:387: UserWarning: matplotlib is currently using a non-GUI backend, so cannot show the figure\n",
      "  \"matplotlib is currently using a non-GUI backend, \"\n"
     ]
    },
    {
     "data": {
      "image/png": "[encoded data removed]",
      "text/plain": [
       "<matplotlib.figure.Figure at 0x7f416a134b00>"
      ]
     },
     "metadata": {},
     "output_type": "display_data"
    }
   ],
   "source": [
    "%matplotlib inline\n",
    "\n",
    "# Number of article edits stats\n",
    "\n",
    "hbins = range(1,16)\n",
    "plt.hist(counts, bins=hbins)\n",
    "plt.title(\"IPC article editor edit counts\")\n",
    "plt.xlabel(\"# edits\")\n",
    "plt.xlim([1,15])\n",
    "plt.ylabel(\"# users\")\n",
    "fig = plt.gcf()\n",
    "fig.show()"
   ]
  },
  {
   "cell_type": "code",
   "execution_count": 16,
   "metadata": {
    "collapsed": true
   },
   "outputs": [],
   "source": [
    "figpath = '/home/michael/school/cprose_research/wp_articles/ipc_article_editor_counts.png'\n",
    "fig.savefig(figpath, dpi=400)"
   ]
  },
  {
   "cell_type": "code",
   "execution_count": 25,
   "metadata": {
    "collapsed": false
   },
   "outputs": [
    {
     "data": {
      "text/plain": [
       "5320"
      ]
     },
     "execution_count": 25,
     "metadata": {},
     "output_type": "execute_result"
    }
   ],
   "source": [
    "# Stats for editors in both\n",
    "# Will take a long x\n",
    "\n",
    "article_editors_in_both = [mention for mention in article_usernames if mention in both_usernames]\n",
    "both_article_counter = Counter(article_editors_in_both)\n",
    "len(both_article_counter)"
   ]
  },
  {
   "cell_type": "code",
   "execution_count": 32,
   "metadata": {
    "collapsed": true
   },
   "outputs": [
    {
     "name": "stdout",
     "output_type": "stream",
     "text": [
      "489\n",
      "347\n",
      "250\n",
      "238\n",
      "167\n",
      "162\n",
      "149\n",
      "126\n",
      "107\n",
      "118\n",
      "96\n",
      "86\n",
      "91\n",
      "79\n",
      "63\n",
      "73\n",
      "47\n",
      "54\n",
      "53\n",
      "43\n",
      "49\n",
      "52\n",
      "40\n",
      "40\n",
      "42\n",
      "46\n",
      "24\n",
      "35\n",
      "39\n",
      "31\n",
      "35\n",
      "33\n",
      "30\n",
      "28\n",
      "36\n",
      "21\n",
      "30\n",
      "31\n",
      "17\n",
      "24\n",
      "22\n",
      "21\n",
      "22\n",
      "18\n",
      "22\n",
      "21\n",
      "23\n",
      "21\n",
      "24\n",
      "18\n",
      "21\n",
      "21\n",
      "18\n",
      "12\n",
      "17\n",
      "11\n",
      "13\n",
      "10\n",
      "19\n",
      "14\n",
      "16\n",
      "17\n",
      "12\n",
      "14\n",
      "15\n",
      "12\n",
      "16\n",
      "14\n",
      "15\n",
      "12\n"
     ]
    }
   ],
   "source": [
    "both_article_counts = Counter(both_article_counter.values())\n",
    "#list(both_article_counts.items())[:40]\n",
    "#for count in list(both_article_counts.values())[:70]:\n",
    "#     print(count)"
   ]
  },
  {
   "cell_type": "code",
   "execution_count": 33,
   "metadata": {
    "collapsed": false
   },
   "outputs": [
    {
     "name": "stderr",
     "output_type": "stream",
     "text": [
      "/usr/lib/python3/dist-packages/matplotlib/figure.py:387: UserWarning: matplotlib is currently using a non-GUI backend, so cannot show the figure\n",
      "  \"matplotlib is currently using a non-GUI backend, \"\n"
     ]
    },
    {
     "data": {
      "image/png": "[encoded data removed]",
      "text/plain": [
       "<matplotlib.figure.Figure at 0x7f416a215080>"
      ]
     },
     "metadata": {},
     "output_type": "display_data"
    }
   ],
   "source": [
    "%matplotlib inline\n",
    "\n",
    "# Counts of article edits for editors on both article and talk pages\n",
    "\n",
    "hbins = range(1,21)\n",
    "plt.hist(list(both_article_counts.values()), bins=hbins)\n",
    "plt.title(\"IPC article editor edit counts\")\n",
    "plt.xlabel(\"# edits\")\n",
    "plt.xlim([1,20])\n",
    "plt.ylabel(\"# users\")\n",
    "fig = plt.gcf()\n",
    "fig.show()"
   ]
  },
  {
   "cell_type": "code",
   "execution_count": 7,
   "metadata": {
    "collapsed": false
   },
   "outputs": [
    {
     "data": {
      "text/plain": [
       "1141"
      ]
     },
     "execution_count": 7,
     "metadata": {},
     "output_type": "execute_result"
    }
   ],
   "source": [
    "# Look at editors in talk that don't do article edits\n",
    "talk_no_article = [name for name in talk_counter.keys() if name not in both_usernames]\n",
    "len(talk_no_article)"
   ]
  },
  {
   "cell_type": "code",
   "execution_count": 8,
   "metadata": {
    "collapsed": false
   },
   "outputs": [
    {
     "data": {
      "text/plain": [
       "[(1, 762),\n",
       " (2, 223),\n",
       " (3, 68),\n",
       " (4, 33),\n",
       " (5, 20),\n",
       " (6, 8),\n",
       " (7, 6),\n",
       " (40, 1),\n",
       " (9, 3),\n",
       " (10, 3),\n",
       " (11, 1),\n",
       " (12, 1),\n",
       " (66, 1),\n",
       " (14, 2),\n",
       " (13, 1),\n",
       " (27, 1),\n",
       " (8, 3),\n",
       " (15, 1),\n",
       " (230, 1),\n",
       " (29, 1),\n",
       " (37, 1)]"
      ]
     },
     "execution_count": 8,
     "metadata": {},
     "output_type": "execute_result"
    }
   ],
   "source": [
    "talk_no_article_mentions = [name for name in talk_username_mentions if name in talk_no_article]\n",
    "talk_no_article_counter = Counter(talk_no_article_mentions)\n",
    "talk_no_article_counts = Counter(list(talk_no_article_counter.values()))\n",
    "list(talk_no_article_counts.items())[:30]"
   ]
  },
  {
   "cell_type": "code",
   "execution_count": null,
   "metadata": {
    "collapsed": true
   },
   "outputs": [],
   "source": []
  }
 ],
 "metadata": {
  "kernelspec": {
   "display_name": "Python 3",
   "language": "python",
   "name": "python3"
  },
  "language_info": {
   "codemirror_mode": {
    "name": "ipython",
    "version": 3
   },
   "file_extension": ".py",
   "mimetype": "text/x-python",
   "name": "python",
   "nbconvert_exporter": "python",
   "pygments_lexer": "ipython3",
   "version": "3.5.2"
  }
 },
 "nbformat": 4,
 "nbformat_minor": 0
}
