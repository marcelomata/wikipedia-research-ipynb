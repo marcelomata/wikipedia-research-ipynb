{
 "cells": [
  {
   "cell_type": "code",
   "execution_count": 12,
   "metadata": {
    "collapsed": true
   },
   "outputs": [],
   "source": [
    "import urllib.request\n",
    "import urllib.parse\n",
    "import re\n",
    "import csv\n",
    "import collections\n",
    "from IPython.core.debugger import Tracer; debug_here = Tracer()"
   ]
  },
  {
   "cell_type": "code",
   "execution_count": 2,
   "metadata": {
    "collapsed": false,
    "scrolled": true
   },
   "outputs": [
    {
     "name": "stdout",
     "output_type": "stream",
     "text": [
      "{\"batchcomplete\":\"\",\"query\":{\"normalized\":[{\"from\":\"Wikipedia:WikiProject_Palestine/Members\",\"to\":\"Wikipedia:WikiProject Palestine/Members\"}],\"pages\":{\"11216075\":{\"pageid\":11216075,\"ns\":4,\"title\":\"Wikipedia:WikiProject Palestine/Members\",\"revisions\":[{\"contentformat\":\"text/x-wiki\",\"contentmodel\":\"wikitext\",\"*\":\"<noinclude>\\nIf you would like to join the WikiProject, please add your name '''in alphabetical order'''.\\n__FORCETOC__\\n==Members==\\n</noinclude>\\n===Active Members===\\n<!-- Please add your name in ALPHABETICAL order using the # {{User|Name}} format -->\\n#{{User|Abedwayyad}}\\n#{{User|Abu ali}}\\n#{{User|Achamy}}\\n#{{User|AFriedman}}\\n#{{User|Al Ameer son}}\\n#{{User|Aminz}}\\n#{{user|Andrensath}}\\n#{{user|Apjohns54}}\\n#{{User|Appleville}}\\n#{{User|asad112}}\\n#{{User|Ashley kennedy3}}\\n#{{User|Biraqleet}}\\n#{{User|Bless_sins}} \\n#{{user|Bolter21}}\\n#{{User|BrandonYusufToropov}}\\n#{{User|Carolmooredc}}\\n#{{User|Clausvonb}}\\n#{{User|Colourinthemeaning}}\\n#{{User|Dawud Hebroni}} \\n#{{User|Dead time freedom}}\\n#{{User|Delad}} \\n#{{User|DieWeisseRose}}\\n#{{User|Engelo}}\\n#{{User|Falastine fee Qalby}}\\n#{{User|Federalist51}}\\n#{{User|Filastin}}\\n#{{User|Fjmustak}}\\n#{{User|Frederico1234}}\\n#{{User|G-Dett}}\\n#{{User|GHcool}} \\n#{{User|GiggsHammouri}}\\n#{{User|HowardMorland}}\\n#{{User|Hood Ahmed}}\\n#{{User|Ian Pitchford}}\\n#{{user|Imad marie}}\\n#{{User|Isamishaq}}\\n#{{User|Ismee}}\\n#{{User|IRISZOOM}}\\n#{{User|JaapBoBo}}\\n#{{User|Joseph E. Saad}}\\n#{{User|JMWt}}\\n#{{User|Jrtayloriv}}\\n#{{User|Kingsindian}}\\n#{{User|Kessale}}\\n#{{User|Klyveren103}}\\n#{{User|Kmac1986}}\\n#{{User|Labbas8}}\\n#{{User|Lama}}\\n#{{user|Leitz}}\\n#{{User|Lihaas}} \\n#{{User|Luke0101}}\\n#{{User|Madhero88}}\\n#{{user|MartinCollin}}\\n#{{User|Malik Shabazz}}\\n#{{User|Mishae}}\\n#{{User|Nayefc}}\\n#{{User|Night w}}\\n#{{User|Okinawa55}}\\n#{{User|Padres Hana}}\\n#{{User|PatGallacher}}\\n#{{User|Paul Bedson}}\\n#{{User|Pedrito}}\\n#{{user|PIDFweb}}\\n#{{User|Rastko Pocesta}}\\n#{{User|Rickyrab}}\\n#{{User|RolandR}}\\n#{{User|PrinceSulaiman}}\\n#{{User|Salice855}}\\n#{{User|Sanguinalis}}\\n#{{User|Scheharazade}}\\n#{{User|SJP}}\\n#{{User|Skadowski}}\\n#{{User|Sol Goldstone}}\\n#{{User|Solntsa90}}\\n#{{User|Supercarpenter}}\\n#{{User|Tiamut}}\\n#{{User|Timeshifter}}  \\n#{{User|Tirpse77}}\\n#{{User|TrickyH}}\\n#{{user|Whaledad}}\\n#{{User|Wiki_Khalil}}\\n#{{User|Yahel Guhan}}\\n#{{User|Yamanam}}\\n#{{User|Yishai Statter}}\\n#{{User|Zakouma}}\\n#{{User|Amity1844}}\\n#{{User|Uishaki}}\\n\\n===Invite others!===\\nInvite others to join! To perform a request, insert '''<nowiki>{{subst:Template:Palestine Project Invitation}}</nowiki>''' into their talk page.  This results in the following welcome message:\\n{| class=\\\"messagebox standard-talk plainlinks\\\" style=\\\"padding:5px; width:auto;\\\"\\n| [[Image:Flag of Palestine.svg|50px]]\\n| [[Wikipedia: WikiProject Palestine|WikiProject Palestine]] is looking for editors to help build and maintain comprehensive, informative, balanced articles related to Palestine on Wikipedia. Start by adding your name to the [[Wikipedia:WikiProject Palestine/Members|list of members]] at [[Wikipedia: WikiProject Palestine|WikiProject Palestine]]. ''Ahlan wa Sahlan!'' (Welcome!) <big>\\u0623\\u0647\\u0644\\u0627\\u064b \\u0648\\u0633\\u0647\\u0644\\u0627\\u064b</big>\\n|[[Image:Flag of Palestine.svg|50px]]\\n|}\\n\\n===Welcoming other members===\\n\\nUse this template to welcome new members. Place '''<nowiki>{{subst:Template:WPPPalestinewelcome|Personal message (optional)}}</nowiki>''' into their talk page to display the following message.\\n\\n{{WPPPalestinewelcome}}\\n\\n===Advertising===\\nA way to join the WikiProject Palestine category, is to add <nowiki>{{</nowiki>[[Template:User_WP_Palestine|Template:User_WP_Palestine]]<nowiki>}}</nowiki> or <nowiki>{{</nowiki>[[User:DieWeisseRose/Userboxes|User:DieWeisseRose/Userboxes/ProjPal]]<nowiki>}}</nowiki> to your user page. This will produce one of the following [[WP:UBX|userboxes]]:\\n{| class=\\\"wikitable\\\" style=\\\"margin: 1em auto 1em auto\\\"\\n|{{Template:User_WP_Palestine}}\\n|-\\n|{{User:DieWeisseRose/Userboxes/ProjPal}}\\n|}\\n\\n<noinclude>\\n\\n===Inactive Members===\\n#{{User|Factsontheground}}\\n#{{User|Masssly}}\\n#{{User|Tyciol}}\\n#{{user|VivaWikipedia}}\\n#{{User|Wodge}}\\n#{{User|Yara Pal}}\\n\\n[[Category:WikiProject Palestine|Members]]\\n</noinclude>\"}]}}}}\n"
     ]
    },
    {
     "data": {
      "text/plain": [
       "312"
      ]
     },
     "execution_count": 2,
     "metadata": {},
     "output_type": "execute_result"
    }
   ],
   "source": [
    "# Build WikiProject Palestine list\n",
    "# Get WikiProject Palestine members page\n",
    "page_url = \"https://en.wikipedia.org/w/api.php?action=query&titles={:s}&prop=revisions&rvprop=content&format=json\"\n",
    "\n",
    "userurl = page_url.format(\"Wikipedia:WikiProject_Palestine/Members\")\n",
    "userurl\n",
    "\n",
    "page =  urllib.request.urlopen(userurl).read().decode('utf-8')\n",
    "\n",
    "# WikiProject Palestine members from member page\n",
    "pal_memberpage = re.findall(r'\\{\\{User\\|(?P<username>[\\w\\ ]*)\\}\\}', page)\n",
    "\n",
    "# Get WikiProject Palestine category members page\n",
    "category_base_url = \"https://en.wikipedia.org/w/api.php?\" + \\\n",
    "    \"action=query&\" +  \\\n",
    "    \"list=categorymembers&\" + \\\n",
    "    \"format=json&\" + \\\n",
    "    \"cmtitle=Category%3A{:s}&\" +  \\\n",
    "    \"cmprop=title&\" + \\\n",
    "    \"cmlimit=500\"\n",
    "    \n",
    "category_url = category_base_url.format(urllib.parse.quote(\"WikiProject Palestine members\"))\n",
    "#print(category_url)\n",
    "\n",
    "page =  urllib.request.urlopen(category_url).read().decode('utf-8')\n",
    "#print(page)\n",
    "\n",
    "# WikiProject Palestine category members\n",
    "pal_cat = re.findall(r'\"User\\:(?P<username>[\\w\\ /\\.]*)\"\\}', page)\n",
    "pal_cat = [re.sub(r'/.*', '', ed) for ed in pal_cat]\n",
    "#print(len(pal_cat))\n",
    "\n",
    "# Get list of last editors of WikiProject Palestine talk page\n",
    "editors_url = \"https://en.wikipedia.org/w/api.php?action=query&titles={:s}&prop=contributors&pclimit=500&format=json\"\n",
    "\n",
    "url = editors_url.format(\"Wikipedia_talk:WikiProject_Palestine\")\n",
    "\n",
    "page =  urllib.request.urlopen(url).read().decode('utf-8')\n",
    "# print(page)\n",
    "\n",
    "# WikiProject Palestine editors of the project page\n",
    "pal_talk = re.findall(r'\"name\":\"(?P<username>[\\w\\ ]*)\"', page)\n",
    "#len(pal_talk) # are unique\n",
    "\n",
    "# Create master Palestine list\n",
    "pal = list(set(pal_memberpage + pal_cat + pal_talk))\n",
    "len(pal)"
   ]
  },
  {
   "cell_type": "code",
   "execution_count": 3,
   "metadata": {
    "collapsed": true
   },
   "outputs": [],
   "source": [
    "# Save list to file\n",
    "wikiproject = 'palestine'\n",
    "with open('/home/michael/school/research/wp/wikipedia/data/wikiproject_{:s}.txt'.format(wikiproject), 'w') as f:\n",
    "    for name in pal:\n",
    "        f.write(name + '\\n')"
   ]
  },
  {
   "cell_type": "code",
   "execution_count": 4,
   "metadata": {
    "collapsed": false
   },
   "outputs": [
    {
     "name": "stdout",
     "output_type": "stream",
     "text": [
      "510\n"
     ]
    }
   ],
   "source": [
    "# Build WikiProject Israel members list\n",
    "# Get WikiProject Israel members page\n",
    "page_url = \"https://en.wikipedia.org/w/api.php?action=query&titles={:s}&prop=revisions&rvprop=content&format=json\"\n",
    "\n",
    "userurl = page_url.format(\"Wikipedia:WikiProject_Israel/Participants\")\n",
    "\n",
    "page =  urllib.request.urlopen(userurl).read().decode('utf-8')\n",
    "#print(page)\n",
    "\n",
    "# WikiProject Israel members from member page\n",
    "proj_israel_memberpage = re.findall(r'\\{\\{User\\|(?P<username>[\\w\\ ]*)\\}\\}', page)\n",
    "\n",
    "# Take out editors who are not pro-Israel\n",
    "proj_israel_blacklist = ['Solntsa90', 'Al Ameer son']\n",
    "#print(len(proj_israel_memberpage))\n",
    "proj_israel_memberpage = [ed for ed in proj_israel_memberpage if ed not in proj_israel_blacklist]\n",
    "#print(len(proj_israel_memberpage))\n",
    "\n",
    "# Get WikiProject Israel category members page\n",
    "category_base_url = \"https://en.wikipedia.org/w/api.php?\" + \\\n",
    "    \"action=query&\" +  \\\n",
    "    \"list=categorymembers&\" + \\\n",
    "    \"format=json&\" + \\\n",
    "    \"cmtitle=Category%3A{:s}&\" +  \\\n",
    "    \"cmprop=title&\" + \\\n",
    "    \"cmlimit=500\"\n",
    "    \n",
    "category_url = category_base_url.format(urllib.parse.quote(\"WikiProject Israel members\"))\n",
    "#print(category_url)\n",
    "\n",
    "page =  urllib.request.urlopen(category_url).read().decode('utf-8')\n",
    "#print(page)\n",
    "\n",
    "# WikiProject Israel members\n",
    "proj_israel_cat = re.findall(r'\"User\\:(?P<username>[\\w\\ /\\.]*)\"\\}', page)\n",
    "proj_israel_cat = [re.sub(r'/.*', '', ed) for ed in proj_israel_cat]\n",
    "#print(len(proj_israel_cat))\n",
    "\n",
    "# Get list of last editors of a WikiProject Israel talk page\n",
    "editors_url = \"https://en.wikipedia.org/w/api.php?action=query&titles={:s}&prop=contributors&pclimit=500&format=json&pc\"\n",
    "\n",
    "url = editors_url.format(\"Wikipedia_talk:WikiProject_Israel\")\n",
    "\n",
    "page =  urllib.request.urlopen(url).read().decode('utf-8')\n",
    "#print(page)\n",
    "\n",
    "# WikiProject Israel editors of the project talk page\n",
    "proj_israel_page_editors = re.findall(r'\"name\":\"(?P<username>[\\w\\ ]*)\"', page)\n",
    "#len(proj_israel_page_editors) # are unique\n",
    "\n",
    "# Create WikiProject Israel master list\n",
    "israel = list(set(proj_israel_memberpage + proj_israel_cat + proj_israel_page_editors))\n",
    "print(len(israel))\n",
    "\n",
    "# Save list to file\n",
    "wikiproject = 'israel'\n",
    "with open('/home/michael/school/research/wp/wikipedia/data/wikiproject_{:s}.txt'.format(wikiproject), 'w') as f:\n",
    "    for name in israel:\n",
    "        f.write(name + '\\n')"
   ]
  },
  {
   "cell_type": "code",
   "execution_count": 15,
   "metadata": {
    "collapsed": false
   },
   "outputs": [
    {
     "name": "stdout",
     "output_type": "stream",
     "text": [
      "170\n"
     ]
    }
   ],
   "source": [
    "# Build WikiProject Israel Palestine Collaboration list\n",
    "# Get WikiProject Israel Palestine Collaboration members page\n",
    "page_url = \"https://en.wikipedia.org/w/api.php?action=query&titles={:s}&prop=revisions&rvprop=content&format=json\"\n",
    "\n",
    "userurl = page_url.format(\"Wikipedia:WikiProject_Israel_Palestine_Collaboration\")\n",
    "\n",
    "page =  urllib.request.urlopen(userurl).read().decode('utf-8')\n",
    "#print(page)\n",
    "\n",
    "collab_memberpage = re.findall(r'(?:U|u)ser0?(?:\\:|\\|)([\\w\\ ]*)', page)\n",
    "collab_memberpage = list(set(collab_memberpage))\n",
    "\n",
    "collab_archive_members = ['HG', 'Durova', 'PalestineRemembered', \"CasualObserver'48\",\n",
    "                          'Xavexgoem', 'Elonka', 'LamaLoLeshLa',\n",
    "                         'Phil Burnstein']\n",
    "for ed in collab_archive_members:\n",
    "    if ed not in collab_memberpage:\n",
    "        collab_memberpage.append(ed)\n",
    "    \n",
    "#print(len(collab_memberpage))\n",
    "\n",
    "# Get list of editors of WikiProject Israel Palestine Collaboration talk page\n",
    "editors_url = \"https://en.wikipedia.org/w/api.php?action=query&titles={:s}&prop=contributors&pclimit=500&format=json\"\n",
    "\n",
    "url = editors_url.format(\"Wikipedia_talk:WikiProject_Israel_Palestine_Collaboration\")\n",
    "\n",
    "page =  urllib.request.urlopen(url).read().decode('utf-8')\n",
    "# print(page)\n",
    "\n",
    "# WikiProject Israel Palestine Collaboration editors of the project page\n",
    "collab_talk = re.findall(r'\"name\":\"(?P<username>[\\w\\ ]*)\"', page)\n",
    "#len(collab_talk) # are unique\n",
    "\n",
    "# Create master Israel Palestine Collaboration list\n",
    "collab = list(set(collab_memberpage + collab_talk))\n",
    "print(len(collab))"
   ]
  },
  {
   "cell_type": "code",
   "execution_count": 16,
   "metadata": {
    "collapsed": false,
    "scrolled": true
   },
   "outputs": [],
   "source": [
    "# Save list to file\n",
    "wikiproject = 'israel_palestine_collaboration'\n",
    "with open('/home/michael/school/research/wp/wikipedia/data/wikiproject_{:s}.txt'.format(wikiproject), 'w') as f:\n",
    "    for name in collab:\n",
    "        f.write(name + '\\n')"
   ]
  },
  {
   "cell_type": "code",
   "execution_count": 17,
   "metadata": {
    "collapsed": true
   },
   "outputs": [],
   "source": [
    "def classify_editor(bias, param, skew):\n",
    "    if bias > param + skew:\n",
    "        editor_bias = 'i'\n",
    "    elif bias < param*-1 + skew:\n",
    "        editor_bias = 'p'\n",
    "    else:\n",
    "        editor_bias = 'n'\n",
    "        \n",
    "    return editor_bias"
   ]
  },
  {
   "cell_type": "code",
   "execution_count": 6,
   "metadata": {
    "collapsed": false
   },
   "outputs": [
    {
     "data": {
      "text/plain": [
       "167119"
      ]
     },
     "execution_count": 6,
     "metadata": {},
     "output_type": "execute_result"
    }
   ],
   "source": [
    "# Build dictionary of editors by article biases\n",
    "sum_biases = {}\n",
    "csvpath = '/home/michael/school/cprose_research/wp/wp_articles/ipc_article_biases.csv'\n",
    "\n",
    "with open(csvpath, 'r') as csvfile:\n",
    "    reader = csv.reader(csvfile)\n",
    "    next(reader) # Skip first row\n",
    "    for row in reader:\n",
    "        username = row[1]\n",
    "        avg_bias = float(row[2])\n",
    "        if not username in sum_biases:\n",
    "            sum_biases[username] = avg_bias\n",
    "        else:\n",
    "            sum_biases[username] += avg_bias\n",
    "            \n",
    "len(sum_biases.keys())"
   ]
  },
  {
   "cell_type": "code",
   "execution_count": 7,
   "metadata": {
    "collapsed": false
   },
   "outputs": [
    {
     "name": "stdout",
     "output_type": "stream",
     "text": [
      "Number of nodes:  6604\n",
      "Number of arcs:  45792\n"
     ]
    }
   ],
   "source": [
    "# Build talk page interactions dictionary\n",
    "interactions = collections.defaultdict(list) # form editor:[(thread_starter, pos_neg), (previous_editor, pos_neg)]\n",
    "threshold = 50\n",
    "\n",
    "# Make sure arranged by article, by thread title, then in chronological order\n",
    "talk_csvpath = '/home/michael/school/cprose_research/wp/wikipedia/data/ipc_talkpages_byarticle.csv'\n",
    "\n",
    "with open(talk_csvpath, 'r') as talkcsv:\n",
    "    reader = csv.reader(talkcsv)\n",
    "    next(reader)\n",
    "    prev_editor = None\n",
    "    prev_editor_thread = None\n",
    "    thread_starter = None\n",
    "    talk_editors = []\n",
    "    n_arcs = 0\n",
    "    for row in reader:\n",
    "        revision_id = row[0]\n",
    "        thread = row[2]\n",
    "        editor = row[3]\n",
    "        if editor not in talk_editors:\n",
    "            talk_editors.append(editor)\n",
    "        if editor in sum_biases:\n",
    "            bias = classify_editor(sum_biases[editor], threshold)\n",
    "        else: # if an editor doesn't make any article edits default neutral\n",
    "            bias = 'n'\n",
    "        if prev_editor != editor:\n",
    "            if prev_editor_thread == thread:\n",
    "                \n",
    "                # Relation to thread starter\n",
    "                if editor != thread_starter:\n",
    "                    if bias == thread_starter_bias or bias == 'n' or thread_starter_bias == 'n':\n",
    "                        interactions[editor].append((thread_starter, 1))\n",
    "                    else:\n",
    "                        interactions[editor].append((thread_starter, -1))\n",
    "                    n_arcs += 1\n",
    "                    \n",
    "                # Relation to previous poster\n",
    "                if bias == prev_editor_bias or bias == 'n' or prev_editor_bias == 'n':\n",
    "                    interactions[editor].append((prev_editor, 1))\n",
    "                else:\n",
    "                    interactions[editor].append((prev_editor, -1))\n",
    "                n_arcs += 1\n",
    "                    \n",
    "            else:\n",
    "                thread_starter = editor\n",
    "                thread_starter_bias = bias\n",
    "                \n",
    "        prev_editor = editor\n",
    "        prev_editor_thread = thread\n",
    "        prev_editor_bias = bias\n",
    "    \n",
    "    n_nodes = len(talk_editors)\n",
    "        \n",
    "print(\"Number of nodes: \", n_nodes)\n",
    "print(\"Number of arcs: \", n_arcs)"
   ]
  },
  {
   "cell_type": "code",
   "execution_count": 3,
   "metadata": {
    "collapsed": false
   },
   "outputs": [
    {
     "ename": "AttributeError",
     "evalue": "'NoneType' object has no attribute 'group'",
     "output_type": "error",
     "traceback": [
      "\u001b[1;31m---------------------------------------------------------------------------\u001b[0m",
      "\u001b[1;31mAttributeError\u001b[0m                            Traceback (most recent call last)",
      "\u001b[1;32m<ipython-input-3-c3defa566f73>\u001b[0m in \u001b[0;36m<module>\u001b[1;34m()\u001b[0m\n\u001b[1;32m----> 1\u001b[1;33m \u001b[0mcnum\u001b[0m \u001b[1;33m=\u001b[0m \u001b[0mre\u001b[0m\u001b[1;33m.\u001b[0m\u001b[0msearch\u001b[0m\u001b[1;33m(\u001b[0m\u001b[1;34mr'cmcontinue\":\"([^\"]*)\"'\u001b[0m\u001b[1;33m,\u001b[0m \u001b[0mpage\u001b[0m\u001b[1;33m)\u001b[0m\u001b[1;33m.\u001b[0m\u001b[0mgroup\u001b[0m\u001b[1;33m(\u001b[0m\u001b[1;36m1\u001b[0m\u001b[1;33m)\u001b[0m\u001b[1;33m\u001b[0m\u001b[0m\n\u001b[0m\u001b[0;32m      2\u001b[0m \u001b[0mprint\u001b[0m\u001b[1;33m(\u001b[0m\u001b[0mcnum\u001b[0m\u001b[1;33m)\u001b[0m\u001b[1;33m\u001b[0m\u001b[0m\n",
      "\u001b[1;31mAttributeError\u001b[0m: 'NoneType' object has no attribute 'group'"
     ]
    }
   ],
   "source": [
    "cnum = re.search(r'cmcontinue\":\"([^\"]*)\"', page).group(1)\n",
    "print(cnum)"
   ]
  },
  {
   "cell_type": "code",
   "execution_count": 15,
   "metadata": {
    "collapsed": false
   },
   "outputs": [
    {
     "data": {
      "text/plain": [
       "[('Sir48', 1), ('Sir48', 1)]"
      ]
     },
     "execution_count": 15,
     "metadata": {},
     "output_type": "execute_result"
    }
   ],
   "source": [
    "interactions[list(interactions.keys())[0]]"
   ]
  },
  {
   "cell_type": "code",
   "execution_count": 9,
   "metadata": {
    "collapsed": false
   },
   "outputs": [
    {
     "name": "stdout",
     "output_type": "stream",
     "text": [
      "ISRAEL:\n",
      "Total: 16299\n",
      "Israel: 7725 47.40%\n",
      "Pal (not Israel): 1003 6.15%\n",
      "Collab: 6021 36.94%\n",
      "\n",
      "\n",
      "PALESTINE:\n",
      "Total: 12921\n",
      "Palestine: 7725 37.86%\n",
      "Israel (not Palestine): 1003 16.86%\n",
      "Collab: 6021 37.26%\n",
      "\n",
      "\n",
      "COLLAB:\n",
      "Total: 11608\n",
      "Palestine: 4661 40.15%\n",
      "Israel: 5764 49.66%\n",
      "Collab: 6021 40.52%\n",
      "\n",
      "\n"
     ]
    }
   ],
   "source": [
    "# See if WikiProject members talk to each other a lot\n",
    "\n",
    "# Test if Israel members have interactions with other in-group members\n",
    "isr_total_interactions = 0\n",
    "isr_isr = 0\n",
    "isr_pal = 0\n",
    "isr_collab = 0\n",
    "\n",
    "for isr_ed in israel:\n",
    "    if isr_ed in interactions:\n",
    "        for other_ed, orientation in interactions[isr_ed]:\n",
    "            isr_total_interactions += 1\n",
    "            if other_ed in israel:\n",
    "                isr_isr += 1\n",
    "            elif other_ed in pal:\n",
    "                isr_pal += 1\n",
    "            if other_ed in collab:\n",
    "                isr_collab += 1\n",
    "    \n",
    "print(\"ISRAEL:\")\n",
    "print(\"Total:\", isr_total_interactions)\n",
    "print(\"Israel:\", isr_isr, \"{:.02f}%\".format(isr_isr/isr_total_interactions*100))\n",
    "print(\"Pal (not Israel):\", isr_pal, \"{:.02f}%\".format(isr_pal/isr_total_interactions*100))\n",
    "print(\"Collab:\", isr_collab, \"{:.02f}%\".format(isr_collab/isr_total_interactions*100))\n",
    "print(\"\\n\")\n",
    "\n",
    "pal_total_interactions = 0\n",
    "pal_pal = 0\n",
    "pal_isr = 0\n",
    "pal_collab = 0\n",
    "\n",
    "for ed in pal:\n",
    "    if ed in interactions:\n",
    "        for other_ed, orientation in interactions[ed]:\n",
    "            pal_total_interactions += 1\n",
    "            if other_ed in pal:\n",
    "                pal_pal += 1\n",
    "            elif other_ed in israel:\n",
    "                pal_isr += 1\n",
    "            if other_ed in collab:\n",
    "                pal_collab += 1\n",
    "    \n",
    "print(\"PALESTINE:\") \n",
    "print(\"Total:\", pal_total_interactions)\n",
    "print(\"Palestine:\", isr_isr, \"{:.02f}%\".format(pal_pal/pal_total_interactions*100))\n",
    "print(\"Israel (not Palestine):\", isr_pal, \"{:.02f}%\".format(pal_isr/pal_total_interactions*100))\n",
    "print(\"Collab:\", isr_collab, \"{:.02f}%\".format(pal_collab/pal_total_interactions*100))\n",
    "print(\"\\n\")\n",
    "\n",
    "collab_total_interactions = 0\n",
    "collab_isr = 0\n",
    "collab_pal = 0\n",
    "collab_collab = 0\n",
    "\n",
    "for ed in collab:\n",
    "    if ed in interactions:\n",
    "        for other_ed, orientation in interactions[ed]:\n",
    "            collab_total_interactions += 1\n",
    "            if other_ed in pal:\n",
    "                collab_pal += 1\n",
    "            if other_ed in israel:\n",
    "                collab_isr += 1\n",
    "            if other_ed in collab:\n",
    "                collab_collab += 1\n",
    "    \n",
    "print(\"COLLAB:\") \n",
    "print(\"Total:\", collab_total_interactions)\n",
    "print(\"Palestine:\", collab_pal, \"{:.02f}%\".format(collab_pal/collab_total_interactions*100))\n",
    "print(\"Israel:\", collab_isr, \"{:.02f}%\".format(collab_isr/collab_total_interactions*100))\n",
    "print(\"Collab:\", isr_collab, \"{:.02f}%\".format(collab_collab/collab_total_interactions*100))\n",
    "print(\"\\n\")"
   ]
  },
  {
   "cell_type": "code",
   "execution_count": 22,
   "metadata": {
    "collapsed": false
   },
   "outputs": [
    {
     "name": "stdout",
     "output_type": "stream",
     "text": [
      "ISRAEL:\n",
      "Total: 507\n",
      "Israeli bias: 252 49.70%\n",
      "Palestinian bias: 32 6.31%\n",
      "Neutral bias: 14 2.76%\n",
      "Unclassified: 209 41.22%\n",
      "\n",
      "PALESTINE:\n",
      "Total: 308\n",
      "Israeli bias: 149 48.38%\n",
      "Palestinian bias: 30 9.74%\n",
      "Neutral bias: 6 1.95%\n",
      "Unclassified: 123 39.94%\n",
      "\n",
      "COLLAB:\n",
      "Total: 194\n",
      "Israeli bias: 74 38.14%\n",
      "Palestinian bias: 8 4.12%\n",
      "Neutral bias: 1 0.52%\n",
      "Unclassified: 111 57.22%\n",
      "\n",
      "ISRAEL NOT PALESTINE:\n",
      "Total: 374\n",
      "Israeli bias: 180 48.13%\n",
      "Palestinian bias: 22 5.88%\n",
      "Neutral bias: 13 3.48%\n",
      "Unclassified: 159 42.51%\n",
      "\n",
      "PALESTINE NOT ISRAEL:\n",
      "Total: 175\n",
      "Israeli bias: 77 44.00%\n",
      "Palestinian bias: 20 11.43%\n",
      "Neutral bias: 5 2.86%\n",
      "Unclassified: 73 41.71%\n",
      "\n"
     ]
    }
   ],
   "source": [
    "# Compare WikiProject membership with article bias classification\n",
    "\n",
    "threshold = 100\n",
    "skew = 100\n",
    "\n",
    "isr_unclassified = []\n",
    "isr_isr_bias = []\n",
    "isr_pal_bias = []\n",
    "isr_neutral_bias = []\n",
    "\n",
    "for ed in israel:\n",
    "    if ed in sum_biases:\n",
    "        art_bias = classify_editor(sum_biases[ed], threshold, skew)\n",
    "        if art_bias == 'i':\n",
    "            isr_isr_bias.append(ed)\n",
    "        elif art_bias == 'p':\n",
    "            isr_pal_bias.append(ed)\n",
    "        elif art_bias == 'n':\n",
    "            isr_neutral_bias.append(ed)\n",
    "    else:\n",
    "        isr_unclassified.append(ed)\n",
    "        \n",
    "print(\"ISRAEL:\") \n",
    "print(\"Total:\", len(israel))\n",
    "print(\"Israeli bias:\", len(isr_isr_bias), \"{:.02f}%\".format(len(isr_isr_bias)/len(israel)*100))\n",
    "print(\"Palestinian bias:\", len(isr_pal_bias), \"{:.02f}%\".format(len(isr_pal_bias)/len(israel)*100))\n",
    "print(\"Neutral bias:\", len(isr_neutral_bias), \"{:.02f}%\".format(len(isr_neutral_bias)/len(israel)*100))\n",
    "print(\"Unclassified:\", len(isr_unclassified), \"{:.02f}%\".format(len(isr_unclassified)/len(israel)*100))\n",
    "print(\"\")  \n",
    "\n",
    "pal_unclassified = []\n",
    "pal_isr_bias = []\n",
    "pal_pal_bias = []\n",
    "pal_neutral_bias = []\n",
    "\n",
    "for ed in pal:\n",
    "    if ed in sum_biases:\n",
    "        art_bias = classify_editor(sum_biases[ed], threshold, skew)\n",
    "        if art_bias == 'i':\n",
    "            pal_isr_bias.append(ed)\n",
    "        elif art_bias == 'p':\n",
    "            pal_pal_bias.append(ed)\n",
    "        elif art_bias == 'n':\n",
    "            pal_neutral_bias.append(ed)\n",
    "    else:\n",
    "        pal_unclassified.append(ed)\n",
    "        \n",
    "print(\"PALESTINE:\") \n",
    "print(\"Total:\", len(pal))\n",
    "print(\"Israeli bias:\", len(pal_isr_bias), \"{:.02f}%\".format(len(pal_isr_bias)/len(pal)*100))\n",
    "print(\"Palestinian bias:\", len(pal_pal_bias), \"{:.02f}%\".format(len(pal_pal_bias)/len(pal)*100))\n",
    "print(\"Neutral bias:\", len(pal_neutral_bias), \"{:.02f}%\".format(len(pal_neutral_bias)/len(pal)*100))\n",
    "print(\"Unclassified:\", len(pal_unclassified), \"{:.02f}%\".format(len(pal_unclassified)/len(pal)*100))\n",
    "print(\"\")  \n",
    "\n",
    "collab_unclassified = []\n",
    "collab_isr_bias = []\n",
    "collab_pal_bias = []\n",
    "collab_neutral_bias = []\n",
    "\n",
    "for ed in collab:\n",
    "    if ed in sum_biases:\n",
    "        art_bias = classify_editor(sum_biases[ed], threshold, skew)\n",
    "        if art_bias == 'i':\n",
    "            collab_isr_bias.append(ed)\n",
    "        elif art_bias == 'p':\n",
    "            collab_pal_bias.append(ed)\n",
    "        elif art_bias == 'n':\n",
    "            collab_neutral_bias.append(ed)\n",
    "    else:\n",
    "        collab_unclassified.append(ed)\n",
    "        \n",
    "print(\"COLLAB:\") \n",
    "print(\"Total:\", len(collab))\n",
    "print(\"Israeli bias:\", len(collab_isr_bias), \"{:.02f}%\".format(len(collab_isr_bias)/len(collab)*100))\n",
    "print(\"Palestinian bias:\", len(collab_pal_bias), \"{:.02f}%\".format(len(collab_pal_bias)/len(collab)*100))\n",
    "print(\"Neutral bias:\", len(collab_neutral_bias), \"{:.02f}%\".format(len(collab_neutral_bias)/len(collab)*100))\n",
    "print(\"Unclassified:\", len(collab_unclassified), \"{:.02f}%\".format(len(collab_unclassified)/len(collab)*100))\n",
    "print(\"\")  \n",
    "\n",
    "isrnopal_unclassified = []\n",
    "isrnopal_isr_bias = []\n",
    "isrnopal_pal_bias = []\n",
    "isrnopal_neutral_bias = []\n",
    "isrnopal = []\n",
    "\n",
    "for ed in israel:\n",
    "    if ed not in pal:\n",
    "        isrnopal.append(ed)\n",
    "        if ed in sum_biases:\n",
    "            art_bias = classify_editor(sum_biases[ed], threshold, skew)\n",
    "            if art_bias == 'i':\n",
    "                isrnopal_isr_bias.append(ed)\n",
    "            elif art_bias == 'p':\n",
    "                isrnopal_pal_bias.append(ed)\n",
    "            elif art_bias == 'n':\n",
    "                isrnopal_neutral_bias.append(ed)\n",
    "        else:\n",
    "            isrnopal_unclassified.append(ed)\n",
    "        \n",
    "total = len(isrnopal)\n",
    "print(\"ISRAEL NOT PALESTINE:\")  \n",
    "print(\"Total:\", total) \n",
    "print(\"Israeli bias:\", len(isrnopal_isr_bias), \"{:.02f}%\".format(len(isrnopal_isr_bias)/total*100)) \n",
    "print(\"Palestinian bias:\", len(isrnopal_pal_bias), \"{:.02f}%\".format(len(isrnopal_pal_bias)/total*100))\n",
    "print(\"Neutral bias:\", len(isrnopal_neutral_bias), \"{:.02f}%\".format(len(isrnopal_neutral_bias)/total*100))\n",
    "print(\"Unclassified:\", len(isrnopal_unclassified), \"{:.02f}%\".format(len(isrnopal_unclassified)/total*100))\n",
    "print(\"\")  \n",
    "\n",
    "palnoisr = []\n",
    "palnoisr_unclassified = []\n",
    "palnoisr_isr_bias = []\n",
    "palnoisr_pal_bias = []\n",
    "palnoisr_neutral_bias = []\n",
    "\n",
    "for ed in pal:\n",
    "    if ed not in israel:\n",
    "        palnoisr.append(ed)\n",
    "        if ed in sum_biases:\n",
    "            art_bias = classify_editor(sum_biases[ed], threshold, skew)\n",
    "            if art_bias == 'i':\n",
    "                palnoisr_isr_bias.append(ed)\n",
    "            elif art_bias == 'p':\n",
    "                palnoisr_pal_bias.append(ed)\n",
    "            elif art_bias == 'n':\n",
    "                palnoisr_neutral_bias.append(ed)\n",
    "        else:\n",
    "            palnoisr_unclassified.append(ed)\n",
    "        \n",
    "total = len(palnoisr)\n",
    "print(\"PALESTINE NOT ISRAEL:\")  \n",
    "print(\"Total:\", total) \n",
    "print(\"Israeli bias:\", len(palnoisr_isr_bias), \"{:.02f}%\".format(len(palnoisr_isr_bias)/total*100)) \n",
    "print(\"Palestinian bias:\", len(palnoisr_pal_bias), \"{:.02f}%\".format(len(palnoisr_pal_bias)/total*100))\n",
    "print(\"Neutral bias:\", len(palnoisr_neutral_bias), \"{:.02f}%\".format(len(palnoisr_neutral_bias)/total*100))\n",
    "print(\"Unclassified:\", len(palnoisr_unclassified), \"{:.02f}%\".format(len(palnoisr_unclassified)/total*100))\n",
    "print(\"\")  "
   ]
  },
  {
   "cell_type": "code",
   "execution_count": 11,
   "metadata": {
    "collapsed": false
   },
   "outputs": [
    {
     "name": "stdout",
     "output_type": "stream",
     "text": [
      "184\n"
     ]
    }
   ],
   "source": [
    "# Number of WikiProject Palestine members in talk pages\n",
    "total = len(set(talk_editors + list(pal)))\n",
    "print(len(talk_editors) + len(pal) - total)"
   ]
  },
  {
   "cell_type": "code",
   "execution_count": 9,
   "metadata": {
    "collapsed": false
   },
   "outputs": [
    {
     "name": "stdout",
     "output_type": "stream",
     "text": [
      "6604\n"
     ]
    }
   ],
   "source": [
    "# Build list of talk page editors\n",
    "talk_csvpath = '/home/michael/school/cprose_research/wp/wikipedia/data/ipc_utf8_talkpages.csv'\n",
    "talk_editors = []\n",
    "\n",
    "with open(talk_csvpath, 'r') as csvfile:\n",
    "    reader = csv.reader(csvfile, delimiter=',')\n",
    "    \n",
    "    # Skip first row\n",
    "    next(reader)\n",
    "    \n",
    "    for row in reader:\n",
    "        username = row[3]\n",
    "        if not username in talk_editors:\n",
    "            talk_editors.append(username)\n",
    "\n",
    "print(len(talk_editors))"
   ]
  },
  {
   "cell_type": "code",
   "execution_count": 13,
   "metadata": {
    "collapsed": false
   },
   "outputs": [
    {
     "name": "stdout",
     "output_type": "stream",
     "text": [
      "105\n"
     ]
    }
   ],
   "source": [
    "# Number of WikiProject Israel Palestine Collaboration members in talk pages\n",
    "total = len(set(talk_editors + list(collab)))\n",
    "print(len(talk_editors) + len(collab) - total)"
   ]
  },
  {
   "cell_type": "code",
   "execution_count": 33,
   "metadata": {
    "collapsed": false
   },
   "outputs": [
    {
     "name": "stdout",
     "output_type": "stream",
     "text": [
      "Number of collab editors in Israel: 73\n",
      "Number of collab editors in Palestine: 68\n"
     ]
    }
   ],
   "source": [
    "# Number of collab editors in either Pal or Israel\n",
    "collab_isr = len(set(list(collab) + list(israel)))\n",
    "print(\"Number of collab editors in Israel: {:d}\".format(len(collab) + len(israel) - collab_isr))\n",
    "collab_pal = len(set(list(collab) + list(pal)))\n",
    "print(\"Number of collab editors in Palestine: {:d}\".format(len(collab) + len(pal) - collab_pal))"
   ]
  },
  {
   "cell_type": "code",
   "execution_count": 34,
   "metadata": {
    "collapsed": false
   },
   "outputs": [
    {
     "name": "stdout",
     "output_type": "stream",
     "text": [
      "Number of shared Israel/Pal editors: 132\n"
     ]
    }
   ],
   "source": [
    "# Number of shared editors bw Pal and Israel\n",
    "isr_pal = len(set(list(pal) + list(israel)))\n",
    "print(\"Number of shared Israel/Pal editors: {:d}\".format(len(pal) + len(israel) - isr_pal))"
   ]
  },
  {
   "cell_type": "code",
   "execution_count": 36,
   "metadata": {
    "collapsed": false
   },
   "outputs": [
    {
     "name": "stdout",
     "output_type": "stream",
     "text": [
      "Number of shared Israel/Pal editors: 132\n",
      "Number of shared editors bw all 3: 55\n"
     ]
    }
   ],
   "source": [
    "# Number of shared editors\n",
    "isr_pal = []\n",
    "for isr_ed in israel:\n",
    "    if isr_ed in pal:\n",
    "        isr_pal.append(isr_ed)\n",
    "print(\"Number of shared Israel/Pal editors: {:d}\".format(len(isr_pal)))\n",
    "      \n",
    "all3 = []\n",
    "for ed in isr_pal:\n",
    "    if ed in collab:\n",
    "        all3.append(ed)\n",
    "print(\"Number of shared editors bw all 3: {:d}\".format(len(all3)))"
   ]
  },
  {
   "cell_type": "code",
   "execution_count": 9,
   "metadata": {
    "collapsed": false
   },
   "outputs": [
    {
     "name": "stdout",
     "output_type": "stream",
     "text": [
      "130\n"
     ]
    }
   ],
   "source": [
    "# Compare category and project page members\n",
    "print(len(set(proj_israel + proj_israel_cat)))"
   ]
  },
  {
   "cell_type": "code",
   "execution_count": 14,
   "metadata": {
    "collapsed": false
   },
   "outputs": [
    {
     "name": "stdout",
     "output_type": "stream",
     "text": [
      "470\n"
     ]
    }
   ],
   "source": [
    "# Compare project page members and page editors\n",
    "print(len(set(proj_israel_memberpage + proj_israel_page_editors)))"
   ]
  },
  {
   "cell_type": "code",
   "execution_count": 15,
   "metadata": {
    "collapsed": false
   },
   "outputs": [
    {
     "name": "stdout",
     "output_type": "stream",
     "text": [
      "478\n"
     ]
    }
   ],
   "source": [
    "# Compare category and page editors\n",
    "print(len(set(proj_israel_cat + proj_israel_page_editors)))"
   ]
  },
  {
   "cell_type": "code",
   "execution_count": 19,
   "metadata": {
    "collapsed": false
   },
   "outputs": [
    {
     "name": "stdout",
     "output_type": "stream",
     "text": [
      "279\n"
     ]
    }
   ],
   "source": [
    "# Number of Project Israel members in talk pages\n",
    "total = len(set(talk_editors + list(proj_israel)))\n",
    "print(len(talk_editors) + len(proj_israel) - total)"
   ]
  }
 ],
 "metadata": {
  "kernelspec": {
   "display_name": "Python 3",
   "language": "python",
   "name": "python3"
  },
  "language_info": {
   "codemirror_mode": {
    "name": "ipython",
    "version": 3
   },
   "file_extension": ".py",
   "mimetype": "text/x-python",
   "name": "python",
   "nbconvert_exporter": "python",
   "pygments_lexer": "ipython3",
   "version": "3.5.2"
  }
 },
 "nbformat": 4,
 "nbformat_minor": 0
}
