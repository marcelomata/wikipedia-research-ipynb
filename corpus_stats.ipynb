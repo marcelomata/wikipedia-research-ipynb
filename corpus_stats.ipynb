{
 "cells": [
  {
   "cell_type": "code",
   "execution_count": 24,
   "metadata": {
    "collapsed": true
   },
   "outputs": [],
   "source": [
    "import csv, json\n",
    "import statistics as stats\n",
    "\n",
    "from IPython.core.debugger import Tracer; debug_here = Tracer()"
   ]
  },
  {
   "cell_type": "code",
   "execution_count": 9,
   "metadata": {
    "collapsed": false,
    "scrolled": true
   },
   "outputs": [
    {
     "name": "stdout",
     "output_type": "stream",
     "text": [
      "0.0 k\n",
      "10.0 k\n",
      "20.0 k\n",
      "30.0 k\n",
      "40.0 k\n",
      "50.0 k\n",
      "60.0 k\n",
      "70.0 k\n",
      "80.0 k\n",
      "90.0 k\n",
      "100.0 k\n",
      "110.0 k\n",
      "120.0 k\n",
      "130.0 k\n",
      "140.0 k\n",
      "150.0 k\n",
      "160.0 k\n",
      "170.0 k\n",
      "180.0 k\n",
      "190.0 k\n",
      "200.0 k\n",
      "210.0 k\n",
      "220.0 k\n",
      "230.0 k\n",
      "240.0 k\n",
      "250.0 k\n",
      "260.0 k\n",
      "270.0 k\n",
      "280.0 k\n",
      "290.0 k\n",
      "300.0 k\n",
      "310.0 k\n",
      "320.0 k\n",
      "330.0 k\n",
      "340.0 k\n",
      "350.0 k\n",
      "360.0 k\n",
      "370.0 k\n",
      "380.0 k\n",
      "390.0 k\n",
      "400.0 k\n",
      "410.0 k\n",
      "420.0 k\n",
      "430.0 k\n",
      "440.0 k\n",
      "450.0 k\n",
      "460.0 k\n",
      "470.0 k\n",
      "480.0 k\n",
      "490.0 k\n",
      "500.0 k\n",
      "510.0 k\n",
      "520.0 k\n",
      "530.0 k\n",
      "540.0 k\n",
      "550.0 k\n",
      "560.0 k\n",
      "570.0 k\n",
      "580.0 k\n",
      "590.0 k\n",
      "600.0 k\n",
      "610.0 k\n",
      "620.0 k\n",
      "630.0 k\n",
      "640.0 k\n",
      "650.0 k\n",
      "660.0 k\n",
      "670.0 k\n",
      "680.0 k\n",
      "690.0 k\n",
      "700.0 k\n",
      "710.0 k\n",
      "720.0 k\n",
      "730.0 k\n",
      "740.0 k\n",
      "750.0 k\n",
      "760.0 k\n",
      "770.0 k\n",
      "780.0 k\n",
      "790.0 k\n",
      "800.0 k\n",
      "810.0 k\n",
      "820.0 k\n",
      "830.0 k\n",
      "840.0 k\n",
      "850.0 k\n",
      "860.0 k\n",
      "870.0 k\n",
      "880.0 k\n",
      "890.0 k\n",
      "900.0 k\n",
      "910.0 k\n",
      "920.0 k\n",
      "930.0 k\n",
      "940.0 k\n",
      "950.0 k\n",
      "960.0 k\n",
      "970.0 k\n",
      "980.0 k\n",
      "990.0 k\n",
      "1000.0 k\n",
      "1010.0 k\n",
      "1020.0 k\n",
      "1030.0 k\n",
      "1040.0 k\n",
      "1050.0 k\n",
      "1060.0 k\n",
      "1070.0 k\n",
      "1080.0 k\n",
      "All revisions per word bias 0.030902631556059473 0.07463263426873754\n",
      "All revisions bias 205.42728556154051 481.9699447788102\n"
     ]
    },
    {
     "ename": "TypeError",
     "evalue": "can't convert type 'list' to numerator/denominator",
     "output_type": "error",
     "traceback": [
      "\u001b[1;31m---------------------------------------------------------------------------\u001b[0m",
      "\u001b[1;31mTypeError\u001b[0m                                 Traceback (most recent call last)",
      "\u001b[1;32m<ipython-input-9-b40f7b646177>\u001b[0m in \u001b[0;36m<module>\u001b[1;34m()\u001b[0m\n\u001b[0;32m     35\u001b[0m     \u001b[0mprint\u001b[0m\u001b[1;33m(\u001b[0m\u001b[1;34m\"All revisions per word bias\"\u001b[0m\u001b[1;33m,\u001b[0m \u001b[0mstats\u001b[0m\u001b[1;33m.\u001b[0m\u001b[0mmean\u001b[0m\u001b[1;33m(\u001b[0m\u001b[0mallrev_pbias\u001b[0m\u001b[1;33m)\u001b[0m\u001b[1;33m,\u001b[0m \u001b[0mstats\u001b[0m\u001b[1;33m.\u001b[0m\u001b[0mstdev\u001b[0m\u001b[1;33m(\u001b[0m\u001b[0mallrev_pbias\u001b[0m\u001b[1;33m)\u001b[0m\u001b[1;33m)\u001b[0m\u001b[1;33m\u001b[0m\u001b[0m\n\u001b[0;32m     36\u001b[0m     \u001b[0mprint\u001b[0m\u001b[1;33m(\u001b[0m\u001b[1;34m\"All revisions bias\"\u001b[0m\u001b[1;33m,\u001b[0m \u001b[0mstats\u001b[0m\u001b[1;33m.\u001b[0m\u001b[0mmean\u001b[0m\u001b[1;33m(\u001b[0m\u001b[0mallrev_bias\u001b[0m\u001b[1;33m)\u001b[0m\u001b[1;33m,\u001b[0m \u001b[0mstats\u001b[0m\u001b[1;33m.\u001b[0m\u001b[0mstdev\u001b[0m\u001b[1;33m(\u001b[0m\u001b[0mallrev_bias\u001b[0m\u001b[1;33m)\u001b[0m\u001b[1;33m)\u001b[0m\u001b[1;33m\u001b[0m\u001b[0m\n\u001b[1;32m---> 37\u001b[1;33m     \u001b[0mprint\u001b[0m\u001b[1;33m(\u001b[0m\u001b[1;34m\"Stable revisions per word bias\"\u001b[0m\u001b[1;33m,\u001b[0m \u001b[0mstats\u001b[0m\u001b[1;33m.\u001b[0m\u001b[0mmean\u001b[0m\u001b[1;33m(\u001b[0m\u001b[0mstable_pbias\u001b[0m\u001b[1;33m)\u001b[0m\u001b[1;33m,\u001b[0m \u001b[0mstats\u001b[0m\u001b[1;33m.\u001b[0m\u001b[0mstdev\u001b[0m\u001b[1;33m(\u001b[0m\u001b[0mstable_pbias\u001b[0m\u001b[1;33m)\u001b[0m\u001b[1;33m)\u001b[0m\u001b[1;33m\u001b[0m\u001b[0m\n\u001b[0m\u001b[0;32m     38\u001b[0m     \u001b[0mprint\u001b[0m\u001b[1;33m(\u001b[0m\u001b[1;34m\"Stable revisions bias\"\u001b[0m\u001b[1;33m,\u001b[0m \u001b[0mstats\u001b[0m\u001b[1;33m.\u001b[0m\u001b[0mmean\u001b[0m\u001b[1;33m(\u001b[0m\u001b[0mstable_bias\u001b[0m\u001b[1;33m)\u001b[0m\u001b[1;33m,\u001b[0m \u001b[0mstats\u001b[0m\u001b[1;33m.\u001b[0m\u001b[0mstdev\u001b[0m\u001b[1;33m(\u001b[0m\u001b[0mstable_bias\u001b[0m\u001b[1;33m)\u001b[0m\u001b[1;33m)\u001b[0m\u001b[1;33m\u001b[0m\u001b[0m\n",
      "\u001b[1;32m/usr/lib/python3.4/statistics.py\u001b[0m in \u001b[0;36mmean\u001b[1;34m(data)\u001b[0m\n\u001b[0;32m    291\u001b[0m     \u001b[1;32mif\u001b[0m \u001b[0mn\u001b[0m \u001b[1;33m<\u001b[0m \u001b[1;36m1\u001b[0m\u001b[1;33m:\u001b[0m\u001b[1;33m\u001b[0m\u001b[0m\n\u001b[0;32m    292\u001b[0m         \u001b[1;32mraise\u001b[0m \u001b[0mStatisticsError\u001b[0m\u001b[1;33m(\u001b[0m\u001b[1;34m'mean requires at least one data point'\u001b[0m\u001b[1;33m)\u001b[0m\u001b[1;33m\u001b[0m\u001b[0m\n\u001b[1;32m--> 293\u001b[1;33m     \u001b[1;32mreturn\u001b[0m \u001b[0m_sum\u001b[0m\u001b[1;33m(\u001b[0m\u001b[0mdata\u001b[0m\u001b[1;33m)\u001b[0m\u001b[1;33m/\u001b[0m\u001b[0mn\u001b[0m\u001b[1;33m\u001b[0m\u001b[0m\n\u001b[0m\u001b[0;32m    294\u001b[0m \u001b[1;33m\u001b[0m\u001b[0m\n\u001b[0;32m    295\u001b[0m \u001b[1;33m\u001b[0m\u001b[0m\n",
      "\u001b[1;32m/usr/lib/python3.4/statistics.py\u001b[0m in \u001b[0;36m_sum\u001b[1;34m(data, start)\u001b[0m\n\u001b[0;32m    160\u001b[0m     \u001b[1;32mfor\u001b[0m \u001b[0mx\u001b[0m \u001b[1;32min\u001b[0m \u001b[0mdata\u001b[0m\u001b[1;33m:\u001b[0m\u001b[1;33m\u001b[0m\u001b[0m\n\u001b[0;32m    161\u001b[0m         \u001b[0m_check_type\u001b[0m\u001b[1;33m(\u001b[0m\u001b[0mtype\u001b[0m\u001b[1;33m(\u001b[0m\u001b[0mx\u001b[0m\u001b[1;33m)\u001b[0m\u001b[1;33m,\u001b[0m \u001b[0mallowed_types\u001b[0m\u001b[1;33m)\u001b[0m\u001b[1;33m\u001b[0m\u001b[0m\n\u001b[1;32m--> 162\u001b[1;33m         \u001b[0mn\u001b[0m\u001b[1;33m,\u001b[0m \u001b[0md\u001b[0m \u001b[1;33m=\u001b[0m \u001b[0mexact_ratio\u001b[0m\u001b[1;33m(\u001b[0m\u001b[0mx\u001b[0m\u001b[1;33m)\u001b[0m\u001b[1;33m\u001b[0m\u001b[0m\n\u001b[0m\u001b[0;32m    163\u001b[0m         \u001b[0mpartials\u001b[0m\u001b[1;33m[\u001b[0m\u001b[0md\u001b[0m\u001b[1;33m]\u001b[0m \u001b[1;33m=\u001b[0m \u001b[0mpartials_get\u001b[0m\u001b[1;33m(\u001b[0m\u001b[0md\u001b[0m\u001b[1;33m,\u001b[0m \u001b[1;36m0\u001b[0m\u001b[1;33m)\u001b[0m \u001b[1;33m+\u001b[0m \u001b[0mn\u001b[0m\u001b[1;33m\u001b[0m\u001b[0m\n\u001b[0;32m    164\u001b[0m     \u001b[1;31m# Find the expected result type. If allowed_types has only one item, it\u001b[0m\u001b[1;33m\u001b[0m\u001b[1;33m\u001b[0m\u001b[0m\n",
      "\u001b[1;32m/usr/lib/python3.4/statistics.py\u001b[0m in \u001b[0;36m_exact_ratio\u001b[1;34m(x)\u001b[0m\n\u001b[0;32m    216\u001b[0m                 \u001b[1;32mexcept\u001b[0m \u001b[0mAttributeError\u001b[0m\u001b[1;33m:\u001b[0m\u001b[1;33m\u001b[0m\u001b[0m\n\u001b[0;32m    217\u001b[0m                     \u001b[0mmsg\u001b[0m \u001b[1;33m=\u001b[0m \u001b[1;34m\"can't convert type '{}' to numerator/denominator\"\u001b[0m\u001b[1;33m\u001b[0m\u001b[0m\n\u001b[1;32m--> 218\u001b[1;33m                     \u001b[1;32mraise\u001b[0m \u001b[0mTypeError\u001b[0m\u001b[1;33m(\u001b[0m\u001b[0mmsg\u001b[0m\u001b[1;33m.\u001b[0m\u001b[0mformat\u001b[0m\u001b[1;33m(\u001b[0m\u001b[0mtype\u001b[0m\u001b[1;33m(\u001b[0m\u001b[0mx\u001b[0m\u001b[1;33m)\u001b[0m\u001b[1;33m.\u001b[0m\u001b[0m__name__\u001b[0m\u001b[1;33m)\u001b[0m\u001b[1;33m)\u001b[0m \u001b[1;32mfrom\u001b[0m \u001b[1;32mNone\u001b[0m\u001b[1;33m\u001b[0m\u001b[0m\n\u001b[0m\u001b[0;32m    219\u001b[0m     \u001b[1;32mexcept\u001b[0m \u001b[1;33m(\u001b[0m\u001b[0mOverflowError\u001b[0m\u001b[1;33m,\u001b[0m \u001b[0mValueError\u001b[0m\u001b[1;33m)\u001b[0m\u001b[1;33m:\u001b[0m\u001b[1;33m\u001b[0m\u001b[0m\n\u001b[0;32m    220\u001b[0m         \u001b[1;31m# INF or NAN\u001b[0m\u001b[1;33m\u001b[0m\u001b[1;33m\u001b[0m\u001b[0m\n",
      "\u001b[1;31mTypeError\u001b[0m: can't convert type 'list' to numerator/denominator"
     ]
    }
   ],
   "source": [
    "# Mean, stddev of article bias\n",
    "# Get article lengths\n",
    "artlens = {}\n",
    "with open('/home/michael/school/cprose_research/wp/wikipedia/data/article_lengths.csv') as csvfile:\n",
    "    for row in csv.reader(csvfile):\n",
    "        artlens[tuple(row[:2])] = row[-1]\n",
    "\n",
    "csvpath = '/home/michael/school/cprose_research/wp/wikipedia/data/ipc_article_biases.csv'\n",
    "allrev_pbias = []\n",
    "allrev_bias = []\n",
    "stable_pbias = []\n",
    "stable_bias = []\n",
    "with open(csvpath) as csvfile:\n",
    "    prev = False # Previous row was added to stable edits\n",
    "    reader = csv.DictReader(csvfile)\n",
    "    for i, row in enumerate(reader):\n",
    "        if i % 10000 == 0:\n",
    "            print(i/1000, 'k')\n",
    "        allrev_bias.append(float(row['bias']))\n",
    "        artlen = int(artlens[(row['Article'], row['Timestamp'])])\n",
    "        allrev_pbias.append(float(row['bias'])/artlen)\n",
    "        rv = True if int(row['Tag indicates revert']) or int(row['Version identical to previous revision']) else False\n",
    "        #vandal = True if int(row['vandalism_comment']) else False\n",
    "\n",
    "        if rv: # Take away edit that was reverted\n",
    "            if prev:\n",
    "                stable_pbias = stable_pbias[:-1]\n",
    "                stable_bias = stable_bias[:-1]\n",
    "                prev = False\n",
    "\n",
    "        else:\n",
    "            stable_pbias.append(float(row['bias'])/artlen)\n",
    "            stable_bias.append(float(row['bias']))\n",
    "            prev = True\n",
    "\n",
    "    print(\"All revisions per word bias\", stats.mean(allrev_pbias), stats.stdev(allrev_pbias))\n",
    "    print(\"All revisions bias\", stats.mean(allrev_bias), stats.stdev(allrev_bias))\n",
    "    print(\"Stable revisions per word bias\", stats.mean(stable_pbias), stats.stdev(stable_pbias))\n",
    "    print(\"Stable revisions bias\", stats.mean(stable_bias), stats.stdev(stable_bias))"
   ]
  },
  {
   "cell_type": "code",
   "execution_count": 18,
   "metadata": {
    "collapsed": false,
    "scrolled": true
   },
   "outputs": [
    {
     "name": "stdout",
     "output_type": "stream",
     "text": [
      "0.0 k\n",
      "10.0 k\n",
      "20.0 k\n",
      "30.0 k\n",
      "40.0 k\n",
      "50.0 k\n",
      "60.0 k\n",
      "70.0 k\n",
      "80.0 k\n",
      "90.0 k\n",
      "100.0 k\n",
      "110.0 k\n",
      "120.0 k\n",
      "130.0 k\n",
      "140.0 k\n",
      "150.0 k\n",
      "160.0 k\n",
      "170.0 k\n",
      "180.0 k\n",
      "190.0 k\n",
      "200.0 k\n",
      "210.0 k\n",
      "220.0 k\n",
      "230.0 k\n",
      "240.0 k\n",
      "250.0 k\n",
      "260.0 k\n",
      "270.0 k\n",
      "280.0 k\n",
      "290.0 k\n",
      "300.0 k\n",
      "310.0 k\n",
      "320.0 k\n",
      "330.0 k\n",
      "340.0 k\n",
      "350.0 k\n",
      "360.0 k\n",
      "370.0 k\n",
      "380.0 k\n",
      "390.0 k\n",
      "400.0 k\n",
      "410.0 k\n",
      "420.0 k\n",
      "430.0 k\n",
      "440.0 k\n",
      "450.0 k\n",
      "460.0 k\n",
      "470.0 k\n",
      "480.0 k\n",
      "490.0 k\n",
      "500.0 k\n",
      "510.0 k\n",
      "520.0 k\n",
      "530.0 k\n",
      "540.0 k\n",
      "550.0 k\n",
      "560.0 k\n",
      "570.0 k\n",
      "580.0 k\n",
      "590.0 k\n",
      "600.0 k\n",
      "610.0 k\n",
      "620.0 k\n",
      "630.0 k\n",
      "640.0 k\n",
      "650.0 k\n",
      "660.0 k\n",
      "670.0 k\n",
      "680.0 k\n",
      "690.0 k\n",
      "700.0 k\n",
      "710.0 k\n",
      "720.0 k\n",
      "730.0 k\n",
      "740.0 k\n",
      "750.0 k\n",
      "760.0 k\n",
      "770.0 k\n",
      "780.0 k\n",
      "790.0 k\n",
      "800.0 k\n",
      "810.0 k\n",
      "820.0 k\n",
      "830.0 k\n",
      "840.0 k\n",
      "850.0 k\n",
      "860.0 k\n",
      "870.0 k\n",
      "880.0 k\n",
      "890.0 k\n",
      "900.0 k\n",
      "910.0 k\n",
      "920.0 k\n",
      "930.0 k\n",
      "940.0 k\n",
      "950.0 k\n",
      "960.0 k\n",
      "970.0 k\n",
      "980.0 k\n",
      "990.0 k\n",
      "1000.0 k\n",
      "1010.0 k\n",
      "1020.0 k\n",
      "1030.0 k\n",
      "1040.0 k\n",
      "1050.0 k\n",
      "1060.0 k\n",
      "1070.0 k\n",
      "1080.0 k\n",
      "267776\n"
     ]
    }
   ],
   "source": [
    "# Check stable edits figures\n",
    "csvpath = '/home/michael/school/cprose_research/wp/wikipedia/data/ipc_article_biases.csv'\n",
    "rvposs = 0\n",
    "with open(csvpath) as csvfile:\n",
    "    reader = csv.DictReader(csvfile)\n",
    "    for i, row in enumerate(reader):\n",
    "        if i % 10000 == 0:\n",
    "            print(i/1000, 'k')\n",
    "        rv = True if int(row['Tag indicates revert']) or int(row['Version identical to previous revision']) else False\n",
    "        if rv:\n",
    "            rvposs += 1\n",
    "            \n",
    "print(rvposs)"
   ]
  },
  {
   "cell_type": "code",
   "execution_count": 19,
   "metadata": {
    "collapsed": false
   },
   "outputs": [
    {
     "data": {
      "text/plain": [
       "535552"
      ]
     },
     "execution_count": 19,
     "metadata": {},
     "output_type": "execute_result"
    }
   ],
   "source": [
    "rvposs *2"
   ]
  },
  {
   "cell_type": "code",
   "execution_count": 20,
   "metadata": {
    "collapsed": false
   },
   "outputs": [
    {
     "data": {
      "text/plain": [
       "552720"
      ]
     },
     "execution_count": 20,
     "metadata": {},
     "output_type": "execute_result"
    }
   ],
   "source": [
    "len(allrev_bias)-rvposs*2"
   ]
  },
  {
   "cell_type": "code",
   "execution_count": 21,
   "metadata": {
    "collapsed": false
   },
   "outputs": [
    {
     "data": {
      "text/plain": [
       "459458"
      ]
     },
     "execution_count": 21,
     "metadata": {},
     "output_type": "execute_result"
    }
   ],
   "source": [
    "len(allrev_bias)-len(stable_bias)"
   ]
  },
  {
   "cell_type": "code",
   "execution_count": 10,
   "metadata": {
    "collapsed": false
   },
   "outputs": [
    {
     "data": {
      "text/plain": [
       "628814"
      ]
     },
     "execution_count": 10,
     "metadata": {},
     "output_type": "execute_result"
    }
   ],
   "source": [
    "len(stable_bias)"
   ]
  },
  {
   "cell_type": "code",
   "execution_count": 11,
   "metadata": {
    "collapsed": false
   },
   "outputs": [
    {
     "data": {
      "text/plain": [
       "1088272"
      ]
     },
     "execution_count": 11,
     "metadata": {},
     "output_type": "execute_result"
    }
   ],
   "source": [
    "len(allrev_bias)"
   ]
  },
  {
   "cell_type": "code",
   "execution_count": 23,
   "metadata": {
    "collapsed": false
   },
   "outputs": [
    {
     "name": "stdout",
     "output_type": "stream",
     "text": [
      "-26172.401380475247\n",
      "199439.2034095215\n",
      "-1791.5251472376146\n",
      "58914.32927276586\n",
      "-2.7255847970775995\n",
      "53.71680576523285\n",
      "-2.7255847970775995\n",
      "2.733447117530803\n"
     ]
    }
   ],
   "source": [
    "print(min(allrev_bias))\n",
    "print(max(allrev_bias))\n",
    "print(min(stable_bias))\n",
    "print(max(stable_bias))\n",
    "print(min(allrev_pbias))\n",
    "print(max(allrev_pbias))\n",
    "print(min(stable_pbias))\n",
    "print(max(stable_pbias))"
   ]
  },
  {
   "cell_type": "code",
   "execution_count": 25,
   "metadata": {
    "collapsed": true
   },
   "outputs": [],
   "source": [
    "with open('/home/michael/school/cprose_research/wp/wikipedia/data/rev_bias.json', 'w') as out:\n",
    "    json.dump(allrev_bias, out)\n",
    "with open('/home/michael/school/cprose_research/wp/wikipedia/data/rev_perword_bias.json', 'w') as out:\n",
    "    json.dump(allrev_pbias, out)\n",
    "with open('/home/michael/school/cprose_research/wp/wikipedia/data/stable_bias.json', 'w') as out:\n",
    "    json.dump(stable_bias, out)\n",
    "with open('/home/michael/school/cprose_research/wp/wikipedia/data/stable_perword_bias.json', 'w') as out:\n",
    "    json.dump(stable_pbias, out)"
   ]
  },
  {
   "cell_type": "code",
   "execution_count": 12,
   "metadata": {
    "collapsed": false
   },
   "outputs": [
    {
     "data": {
      "text/plain": [
       "1.9356056268811284"
      ]
     },
     "execution_count": 12,
     "metadata": {},
     "output_type": "execute_result"
    }
   ],
   "source": [
    "stable_bias[0]"
   ]
  },
  {
   "cell_type": "code",
   "execution_count": 13,
   "metadata": {
    "collapsed": false
   },
   "outputs": [
    {
     "data": {
      "text/plain": [
       "[0.0439910369745711]"
      ]
     },
     "execution_count": 13,
     "metadata": {},
     "output_type": "execute_result"
    }
   ],
   "source": [
    "stable_pbias[0]"
   ]
  },
  {
   "cell_type": "code",
   "execution_count": 14,
   "metadata": {
    "collapsed": false
   },
   "outputs": [
    {
     "data": {
      "text/plain": [
       "0.0439910369745711"
      ]
     },
     "execution_count": 14,
     "metadata": {},
     "output_type": "execute_result"
    }
   ],
   "source": [
    "stable_pbias = [n[0] for n in stable_pbias]\n",
    "stable_pbias[0]"
   ]
  },
  {
   "cell_type": "code",
   "execution_count": 15,
   "metadata": {
    "collapsed": false
   },
   "outputs": [
    {
     "name": "stdout",
     "output_type": "stream",
     "text": [
      "Stable revisions per word bias 0.03118317951361018 0.047064603434934925\n",
      "Stable revisions bias 211.31415164158182 358.8161406179722\n"
     ]
    }
   ],
   "source": [
    "print(\"Stable revisions per word bias\", stats.mean(stable_pbias), stats.stdev(stable_pbias))\n",
    "print(\"Stable revisions bias\", stats.mean(stable_bias), stats.stdev(stable_bias))"
   ]
  },
  {
   "cell_type": "code",
   "execution_count": 6,
   "metadata": {
    "collapsed": false
   },
   "outputs": [
    {
     "name": "stdout",
     "output_type": "stream",
     "text": [
      "Revisions 1088277\n",
      "Editors 205177\n",
      "Reverts 154994 0.1424214607126678\n",
      "Number of tokens 6647243704\n"
     ]
    }
   ],
   "source": [
    "eds = []\n",
    "rows = []\n",
    "\n",
    "csvpath = '/home/michael/school/cprose_research/wp/wikipedia/data/citations_reverts.csv'\n",
    "lenpath = '/home/michael/school/cprose_research/wp/wikipedia/data/article_lengths.csv'\n",
    "with open(csvpath) as csvfile:\n",
    "    rows = [row for row in csv.DictReader(csvfile)]\n",
    "    print(\"Revisions\", len(rows))\n",
    "    eds = set([row['editor'] for row in rows])\n",
    "    print(\"Editors\", len(eds))\n",
    "    rv = [row for row in rows if int(row['revert_md5']) or int(row['revert_comment'])]\n",
    "    print(\"Reverts\", len(rv), len(rv)/len(rows))\n",
    "    \n",
    "with open(lenpath) as csvfile:\n",
    "    print(\"Number of tokens\", sum(int(row['article_length']) for row in csv.DictReader(csvfile)))"
   ]
  }
 ],
 "metadata": {
  "kernelspec": {
   "display_name": "Python 3",
   "language": "python",
   "name": "python3"
  },
  "language_info": {
   "codemirror_mode": {
    "name": "ipython",
    "version": 3
   },
   "file_extension": ".py",
   "mimetype": "text/x-python",
   "name": "python",
   "nbconvert_exporter": "python",
   "pygments_lexer": "ipython3",
   "version": "3.4.3+"
  }
 },
 "nbformat": 4,
 "nbformat_minor": 0
}
