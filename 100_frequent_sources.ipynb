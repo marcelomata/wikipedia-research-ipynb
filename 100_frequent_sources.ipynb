{
 "cells": [
  {
   "cell_type": "code",
   "execution_count": 1,
   "metadata": {
    "collapsed": false
   },
   "outputs": [],
   "source": [
    "import pandas as pd\n",
    "from IPython.core.debugger import Tracer; debug_here = Tracer()"
   ]
  },
  {
   "cell_type": "code",
   "execution_count": 7,
   "metadata": {
    "collapsed": false,
    "scrolled": true
   },
   "outputs": [
    {
     "data": {
      "text/plain": [
       "['ABC',\n",
       " 'Al Jazeera',\n",
       " 'Al-Ahram',\n",
       " 'Amnesty International',\n",
       " 'Anti-Defamation League',\n",
       " 'Arutz Sheva (Israel News)',\n",
       " 'Asia Times',\n",
       " 'Australian Broadcasting Company',\n",
       " \"B'Tselem\",\n",
       " 'BBC',\n",
       " 'Benny Morris',\n",
       " 'Bloomberg',\n",
       " 'Boston Globe',\n",
       " 'CBS',\n",
       " 'CIA',\n",
       " 'CNN',\n",
       " 'Canadian Broadcasting Company',\n",
       " 'Christian Science Monitor',\n",
       " 'Committee for Accuracy in Middle East Reporting in America',\n",
       " 'Council on Foreign Relations',\n",
       " 'CounterPunch',\n",
       " 'Daily Star (Lebanon)',\n",
       " 'Democracy Now',\n",
       " 'Der Spiegel',\n",
       " 'Economist',\n",
       " 'Efraim Karsh',\n",
       " 'Electronic Intifada',\n",
       " 'Encyclopedia Britannica',\n",
       " 'European Union',\n",
       " 'Federation of American Scientists',\n",
       " 'Financial Times',\n",
       " 'Forbes',\n",
       " 'Foundation for Middle East Peace',\n",
       " 'Fox News',\n",
       " 'France 24',\n",
       " 'Freedom House',\n",
       " 'Front Page Magazine',\n",
       " 'GlobalSecurity.org',\n",
       " 'Haaretz',\n",
       " 'Honest Reporting',\n",
       " 'Huffington Post',\n",
       " 'Human Rights Watch',\n",
       " 'International Court of Justice',\n",
       " 'International Herald Tribune (International New York Times)',\n",
       " 'Iran Press TV',\n",
       " 'Israel Insider',\n",
       " 'Israeli Central Bureau of Statistics',\n",
       " 'Israeli Knesset',\n",
       " 'Israeli Ministry of Foreign Affairs',\n",
       " 'James P Jankowski',\n",
       " 'Jerusalem Center for Public Affairs',\n",
       " 'Jerusalem Post',\n",
       " 'Jewish Encyclopedia',\n",
       " 'Jewish Telegraphic Agency',\n",
       " 'Jewish Virtual Library',\n",
       " 'Los Angeles Times',\n",
       " 'MSNBC',\n",
       " \"Ma'an News\",\n",
       " 'Maariv-NRG',\n",
       " 'Meir Amit Intelligence and Terrorism Information Center',\n",
       " 'MidEastWeb',\n",
       " 'Middle East Forum',\n",
       " 'Middle East Media Research Institute',\n",
       " 'NPR',\n",
       " 'New York Review of Books',\n",
       " 'New York Sun',\n",
       " 'New York Times',\n",
       " 'PBS',\n",
       " 'Palestine Facts',\n",
       " 'Palestine Remembered',\n",
       " 'Palestinian Central Bureau of Statistics',\n",
       " 'Rashid Khalidi',\n",
       " 'Red Cross',\n",
       " 'Reuters',\n",
       " 'Reuters Humanitarian News',\n",
       " 'Salon.com',\n",
       " 'San Francisco Chronicle',\n",
       " 'Sydney Morning Herald',\n",
       " 'The Atlantic',\n",
       " 'The Forward',\n",
       " 'The Guardian',\n",
       " 'The Independent',\n",
       " 'The Nation',\n",
       " 'The Telegraph',\n",
       " 'Time',\n",
       " 'Times of Israel',\n",
       " 'Times of London',\n",
       " 'UN',\n",
       " 'US State Dept',\n",
       " 'USA Today',\n",
       " 'United Press International',\n",
       " 'Voice of America',\n",
       " 'Wall Street Journal',\n",
       " 'Washington Institute',\n",
       " 'Washington Post',\n",
       " 'Washington Times',\n",
       " 'Xinhuanet News',\n",
       " 'Yahoo News',\n",
       " 'Yale University',\n",
       " 'Ynet']"
      ]
     },
     "execution_count": 7,
     "metadata": {},
     "output_type": "execute_result"
    }
   ],
   "source": [
    "# Get 100 most frequent citations\n",
    "freqpath = '/home/michael/school/research/wp/wikipedia/data/citations_annotated.csv'\n",
    "freq = pd.read_csv(freqpath)\n",
    "#crit = freq['name'].map(lambda x: isinstance(x, str))\n",
    "#freq100 = freq[crit]\n",
    "freq100 = freq.loc[:99,:]\n",
    "freq100.sort_values(['name'])['name'].tolist()"
   ]
  }
 ],
 "metadata": {
  "kernelspec": {
   "display_name": "Python 3",
   "language": "python",
   "name": "python3"
  },
  "language_info": {
   "codemirror_mode": {
    "name": "ipython",
    "version": 3
   },
   "file_extension": ".py",
   "mimetype": "text/x-python",
   "name": "python",
   "nbconvert_exporter": "python",
   "pygments_lexer": "ipython3",
   "version": "3.5.1+"
  }
 },
 "nbformat": 4,
 "nbformat_minor": 0
}
