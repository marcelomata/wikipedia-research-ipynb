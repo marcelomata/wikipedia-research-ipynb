{
 "cells": [
  {
   "cell_type": "code",
   "execution_count": 55,
   "metadata": {
    "collapsed": true
   },
   "outputs": [],
   "source": [
    "import urllib.request\n",
    "import urllib.parse\n",
    "import json\n",
    "import re\n",
    "import csv"
   ]
  },
  {
   "cell_type": "code",
   "execution_count": 9,
   "metadata": {
    "collapsed": false
   },
   "outputs": [
    {
     "data": {
      "text/plain": [
       "'https://en.wikipedia.org/w/api.php?action=query&titles=User:Almaqdisi&prop=revisions&rvprop=content&format=json'"
      ]
     },
     "execution_count": 9,
     "metadata": {},
     "output_type": "execute_result"
    }
   ],
   "source": [
    "url = \"https://en.wikipedia.org/w/api.php?action=query&titles={:s}&prop=revisions&rvprop=content&format=json\"\n",
    "\n",
    "userurl = url.format(\"User:Almaqdisi\")\n",
    "userurl"
   ]
  },
  {
   "cell_type": "code",
   "execution_count": 14,
   "metadata": {
    "collapsed": false
   },
   "outputs": [
    {
     "name": "stdout",
     "output_type": "stream",
     "text": [
      "{\"batchcomplete\":\"\",\"query\":{\"pages\":{\"7036440\":{\"pageid\":7036440,\"ns\":2,\"title\":\"User:Almaqdisi\",\"revisions\":[{\"contentformat\":\"text/x-wiki\",\"contentmodel\":\"wikitext\",\"*\":\"{{busy|[[User:Almaqdisi|'''Almaqdisi''']] <sup><small><font color=\\\"DarkBlue\\\">[[User_talk:Almaqdisi|talk to me]]</font></small></sup>}}\\n{{Userboxtop|Professional Background|left}}\\n{{user degree/PhD}}\\n{{User IEEE}}\\n{{Userbox\\n  |border-c = #000\\n  |border-s = 2\\n  |id-c     = #fff\\n  |id-s     = 12\\n  |id-fc    = #000\\n  |info-c   = #DCDCDC\\n  |info-s   = 8\\n  |info-fc  = #000\\n  |id       = Bio\\n  |info     = This user appears in ''[[Who's Who in America]]'' \\u00ae\\n}}\\n{{Userbox\\n  |border-c = #000\\n  |border-s = 2\\n  |id-c     = #fff\\n  |id-s     = 12\\n  |id-fc    = #000\\n  |info-c   = #DCDCDC\\n  |info-s   = 8\\n  |info-fc  = #000\\n  |id       = Bio\\n  |info     = This user appears in ''[[Who's Who in the World]]'' \\u00ae\\n}}\\n{{User:Scepia/published book}}\\n{{User:Scepia/published academic journal}}\\n{{Userboxbottom}}\\n\\n{{Babel|ar-3|en-5|fr-2|he-1|tr-3|zh-0}}\\n\\n{{Boxboxtop|Personal box}}\\n<div class=\\\"plainlinks\\\" style=\\\"float: left; border:solid {{{1|black}}} 1px; margin: 1px;\\\">\\n{| cellspacing=\\\"0\\\" style=\\\"width: 238px; background: #f99;\\\"\\n| style=\\\"width: 45px; height: 45px; background: white; text-align: center; font-size: {{{5|20}}}pt; color: black;\\\" | '''@'''\\n| style=\\\"font-size: 8pt; padding: 4pt; line-height: 1.25em; color: black;\\\" | This user can be reached '''[[Special:Emailuser/{{BASEPAGENAMEE}}|by email]]'''.\\n|}</div>\\n{{userbox|gray|white|[[Image:Mount-of-Olives_w_effects.jpg|45px]]|This user was born atop the '''[[Mount of Olives]]'''.}}\\n{{User:UBX/user NPR}}\\n{{User:Scepia/politics}}\\n{{user mathematician-4}}\\n{{User Physics Subject}}\\n{{User:UBX/Lines}}\\n{{User:UBX/travel}}\\n{{user:UBX/hobby:Electronics}}\\n{{User:UBX/Alcohol-0}}\\n{{User:Ginkgo100/Userboxes/User non-smoker}}\\n{{User:UBX/User likes Starbucks}}\\n{{User:UBX/tea}}\\n{{User:UBX/cappuccino}}\\n{{User wireless supplier}}\\n{{Userboxbottom}}\"}]}}}}\n"
     ]
    }
   ],
   "source": [
    "userpage =  urllib.request.urlopen(userurl).read().decode('utf-8')\n",
    "print(userpage)"
   ]
  },
  {
   "cell_type": "code",
   "execution_count": 17,
   "metadata": {
    "collapsed": false
   },
   "outputs": [
    {
     "data": {
      "text/plain": [
       "dict_keys(['query', 'batchcomplete'])"
      ]
     },
     "execution_count": 17,
     "metadata": {},
     "output_type": "execute_result"
    }
   ],
   "source": [
    "pagedict = json.loads(userpage)\n",
    "pagedict.keys()"
   ]
  },
  {
   "cell_type": "code",
   "execution_count": 27,
   "metadata": {
    "collapsed": false
   },
   "outputs": [
    {
     "data": {
      "text/plain": [
       "'{{busy|[[User:Almaqdisi|\\'\\'\\'Almaqdisi\\'\\'\\']] <sup><small><font color=\"DarkBlue\">[[User_talk:Almaqdisi|talk to me]]</font></small></sup>}}\\n{{Userboxtop|Professional Background|left}}\\n{{user degree/PhD}}\\n{{User IEEE}}\\n{{Userbox\\n  |border-c = #000\\n  |border-s = 2\\n  |id-c     = #fff\\n  |id-s     = 12\\n  |id-fc    = #000\\n  |info-c   = #DCDCDC\\n  |info-s   = 8\\n  |info-fc  = #000\\n  |id       = Bio\\n  |info     = This user appears in \\'\\'[[Who\\'s Who in America]]\\'\\' ®\\n}}\\n{{Userbox\\n  |border-c = #000\\n  |border-s = 2\\n  |id-c     = #fff\\n  |id-s     = 12\\n  |id-fc    = #000\\n  |info-c   = #DCDCDC\\n  |info-s   = 8\\n  |info-fc  = #000\\n  |id       = Bio\\n  |info     = This user appears in \\'\\'[[Who\\'s Who in the World]]\\'\\' ®\\n}}\\n{{User:Scepia/published book}}\\n{{User:Scepia/published academic journal}}\\n{{Userboxbottom}}\\n\\n{{Babel|ar-3|en-5|fr-2|he-1|tr-3|zh-0}}\\n\\n{{Boxboxtop|Personal box}}\\n<div class=\"plainlinks\" style=\"float: left; border:solid {{{1|black}}} 1px; margin: 1px;\">\\n{| cellspacing=\"0\" style=\"width: 238px; background: #f99;\"\\n| style=\"width: 45px; height: 45px; background: white; text-align: center; font-size: {{{5|20}}}pt; color: black;\" | \\'\\'\\'@\\'\\'\\'\\n| style=\"font-size: 8pt; padding: 4pt; line-height: 1.25em; color: black;\" | This user can be reached \\'\\'\\'[[Special:Emailuser/{{BASEPAGENAMEE}}|by email]]\\'\\'\\'.\\n|}</div>\\n{{userbox|gray|white|[[Image:Mount-of-Olives_w_effects.jpg|45px]]|This user was born atop the \\'\\'\\'[[Mount of Olives]]\\'\\'\\'.}}\\n{{User:UBX/user NPR}}\\n{{User:Scepia/politics}}\\n{{user mathematician-4}}\\n{{User Physics Subject}}\\n{{User:UBX/Lines}}\\n{{User:UBX/travel}}\\n{{user:UBX/hobby:Electronics}}\\n{{User:UBX/Alcohol-0}}\\n{{User:Ginkgo100/Userboxes/User non-smoker}}\\n{{User:UBX/User likes Starbucks}}\\n{{User:UBX/tea}}\\n{{User:UBX/cappuccino}}\\n{{User wireless supplier}}\\n{{Userboxbottom}}'"
      ]
     },
     "execution_count": 27,
     "metadata": {},
     "output_type": "execute_result"
    }
   ],
   "source": [
    "pagedict['query']['pages']['7036440']['revisions'][0]['*']"
   ]
  },
  {
   "cell_type": "code",
   "execution_count": 29,
   "metadata": {
    "collapsed": false
   },
   "outputs": [],
   "source": [
    "content = pagedict['query']['pages'][list(pagedict['query']['pages'].keys())[0]]['revisions'][0]['*']"
   ]
  },
  {
   "cell_type": "code",
   "execution_count": 46,
   "metadata": {
    "collapsed": false
   },
   "outputs": [
    {
     "data": {
      "text/plain": [
       "'ar-3|en-5|fr-2|he-1|tr-3|zh-0'"
      ]
     },
     "execution_count": 46,
     "metadata": {},
     "output_type": "execute_result"
    }
   ],
   "source": [
    "#p = re.compile(r'\\{\\{Babel\\|<langinfo>\\}\\}')\n",
    "p = re.compile(r'Babel\\|(?P<langinfo>.*)\\}\\}')\n",
    "m = p.search(content)\n",
    "langinfo = m.group('langinfo')\n",
    "langinfo"
   ]
  },
  {
   "cell_type": "code",
   "execution_count": null,
   "metadata": {
    "collapsed": true
   },
   "outputs": [],
   "source": [
    "user_langs = {}"
   ]
  },
  {
   "cell_type": "code",
   "execution_count": 50,
   "metadata": {
    "collapsed": false
   },
   "outputs": [
    {
     "name": "stdout",
     "output_type": "stream",
     "text": [
      "6604\n"
     ]
    }
   ],
   "source": [
    "# Build list of talk page editors\n",
    "talk_csvpath = '/home/michael/school/cprose_research/wp/wikipedia/data/ipc_utf8_talkpages.csv'\n",
    "talk_editors = []\n",
    "\n",
    "with open(talk_csvpath, 'r') as csvfile:\n",
    "    reader = csv.reader(csvfile, delimiter=',')\n",
    "    \n",
    "    # Skip first row\n",
    "    next(reader)\n",
    "    \n",
    "    for row in reader:\n",
    "        username = row[3]\n",
    "        if not username in talk_editors:\n",
    "            talk_editors.append(username)\n",
    "\n",
    "print(len(talk_editors))"
   ]
  },
  {
   "cell_type": "code",
   "execution_count": 56,
   "metadata": {
    "collapsed": false
   },
   "outputs": [
    {
     "data": {
      "text/plain": [
       "572"
      ]
     },
     "execution_count": 56,
     "metadata": {},
     "output_type": "execute_result"
    }
   ],
   "source": [
    "editor_langinfo = {}\n",
    "\n",
    "url = \"https://en.wikipedia.org/w/api.php?action=query&titles={:s}&prop=revisions&rvprop=content&format=json\"\n",
    "\n",
    "# Extract lang info for each editor\n",
    "for editor in talk_editors:\n",
    "    userurl = url.format(\"User:{:s}\".format(urllib.parse.quote(editor)))\n",
    "    userpage =  urllib.request.urlopen(userurl).read().decode('utf-8')\n",
    "    #pagedict = json.loads(userpage)\n",
    "    #content = pagedict['query']['pages'][list(pagedict['query']['pages'].keys())[0]]['revisions'][0]['*']\n",
    "    p = re.compile(r'Babel\\|(?P<langinfo>.*)\\}\\}')\n",
    "    #m = p.search(content)\n",
    "    m = p.search(userpage)\n",
    "    if m:\n",
    "        langinfo = m.group('langinfo')\n",
    "        editor_langinfo[editor] = langinfo\n",
    "\n",
    "len(editor_langinfo)"
   ]
  }
 ],
 "metadata": {
  "kernelspec": {
   "display_name": "Python 3",
   "language": "python",
   "name": "python3"
  },
  "language_info": {
   "codemirror_mode": {
    "name": "ipython",
    "version": 3
   },
   "file_extension": ".py",
   "mimetype": "text/x-python",
   "name": "python",
   "nbconvert_exporter": "python",
   "pygments_lexer": "ipython3",
   "version": "3.5.2"
  }
 },
 "nbformat": 4,
 "nbformat_minor": 0
}
