{
 "cells": [
  {
   "cell_type": "code",
   "execution_count": 1,
   "metadata": {
    "collapsed": true
   },
   "outputs": [],
   "source": [
    "from collections import Counter\n",
    "import csv\n",
    "import pandas as pd\n",
    "from IPython.core.debugger import Tracer; debug_here = Tracer()\n",
    "\n",
    "annotate = set()"
   ]
  },
  {
   "cell_type": "code",
   "execution_count": 10,
   "metadata": {
    "collapsed": false
   },
   "outputs": [
    {
     "name": "stdout",
     "output_type": "stream",
     "text": [
      "5537\n"
     ]
    }
   ],
   "source": [
    "# Talk page usernames\n",
    "talk_csvpath = '/home/michael/school/research/wp/wikipedia/data/talk/ipc_utf8_talkpages.csv'\n",
    "talk_counter = Counter()\n",
    "\n",
    "with open(talk_csvpath, 'r') as csvfile:\n",
    "    reader = csv.reader(csvfile, delimiter=',')\n",
    "    for row in reader:\n",
    "        talk_counter[row[3]] += 1\n",
    "\n",
    "# print(talk_counter.most_common())\n",
    "print(len(talk_counter))"
   ]
  },
  {
   "cell_type": "code",
   "execution_count": 3,
   "metadata": {
    "collapsed": false
   },
   "outputs": [
    {
     "data": {
      "text/plain": [
       "199370"
      ]
     },
     "execution_count": 3,
     "metadata": {},
     "output_type": "execute_result"
    }
   ],
   "source": [
    "# ARTICLE USERNAMES\n",
    "art_filepath = '/home/michael/school/research/wp/wikipedia/data/ipc_article_biases.csv'\n",
    "\n",
    "article_usernames = []\n",
    "\n",
    "with open(art_filepath, 'r') as csvfile:\n",
    "    reader = csv.reader(csvfile, delimiter=',')\n",
    "    next(reader)\n",
    "    for row in reader:\n",
    "        article_usernames.append(row[2])\n",
    "\n",
    "article_counter = Counter(article_usernames)\n",
    "len(article_counter)"
   ]
  },
  {
   "cell_type": "code",
   "execution_count": 4,
   "metadata": {
    "collapsed": false
   },
   "outputs": [
    {
     "data": {
      "text/plain": [
       "4371"
      ]
     },
     "execution_count": 4,
     "metadata": {},
     "output_type": "execute_result"
    }
   ],
   "source": [
    "# Editors in both article and talk pages\n",
    "both_usernames = []\n",
    "\n",
    "for name in article_counter.keys():\n",
    "    if name in talk_counter:\n",
    "        both_usernames.append(name)\n",
    "        \n",
    "len(both_usernames)"
   ]
  },
  {
   "cell_type": "code",
   "execution_count": 5,
   "metadata": {
    "collapsed": false,
    "scrolled": true
   },
   "outputs": [
    {
     "name": "stdout",
     "output_type": "stream",
     "text": [
      "3 2050\n",
      "4 1537\n",
      "5 1225\n",
      "6 994\n",
      "7 864\n",
      "8 776\n",
      "9 689\n",
      "10 614\n",
      "11 546\n",
      "12 506\n",
      "13 470\n",
      "14 449\n",
      "15 410\n"
     ]
    }
   ],
   "source": [
    "# Filter by number of talk page contributions\n",
    "thresholds = range(3,16)\n",
    "talk_eds = {}\n",
    "\n",
    "for t in thresholds:\n",
    "    talk_eds[t] = [ed for ed in talk_counter if talk_counter[ed] >= t]\n",
    "    print(t, len(talk_eds[t]))"
   ]
  },
  {
   "cell_type": "code",
   "execution_count": 15,
   "metadata": {
    "collapsed": false
   },
   "outputs": [
    {
     "data": {
      "text/plain": [
       "1150"
      ]
     },
     "execution_count": 15,
     "metadata": {},
     "output_type": "execute_result"
    }
   ],
   "source": [
    "threshold = 5\n",
    "annotate = set(talk_eds[threshold]).intersection(both_usernames)\n",
    "len(annotate)"
   ]
  },
  {
   "cell_type": "code",
   "execution_count": 16,
   "metadata": {
    "collapsed": false,
    "scrolled": true
   },
   "outputs": [
    {
     "data": {
      "text/plain": [
       "381"
      ]
     },
     "execution_count": 16,
     "metadata": {},
     "output_type": "execute_result"
    }
   ],
   "source": [
    "# Filter by editors with citations\n",
    "citation_csvpath = '/home/michael/school/research/wp/wikipedia/data/editor_citation_matrix.csv'\n",
    "ed_cite = pd.read_csv(citation_csvpath, index_col=0)\n",
    "ed_cite\n",
    "\n",
    "ed_cites = Counter() \n",
    "for name, row in ed_cite.iterrows():\n",
    "    ed_cites[name] = sum(row.values)\n",
    "    \n",
    "annotate = set(annotate).intersection(set(ed for ed in ed_cites if ed_cites[ed] >= 3))\n",
    "len(annotate)"
   ]
  },
  {
   "cell_type": "code",
   "execution_count": 17,
   "metadata": {
    "collapsed": false
   },
   "outputs": [
    {
     "data": {
      "text/plain": [
       "358"
      ]
     },
     "execution_count": 17,
     "metadata": {},
     "output_type": "execute_result"
    }
   ],
   "source": [
    "# Filter by editors who appear in at least one thread with other editors in annotate\n",
    "talk_data = pd.read_csv(talk_csvpath)\n",
    "eds_in_conversation = set()\n",
    "prev_thread = ''\n",
    "thread_eds = set()\n",
    "for i,row in talk_data.iterrows():\n",
    "    if row['thread_title'] == prev_thread:\n",
    "        if row['username'] in annotate:\n",
    "            thread_eds.add(row['username'])\n",
    "    else:\n",
    "        if len(thread_eds) > 1:\n",
    "            eds_in_conversation |= thread_eds\n",
    "        thread_eds = set()\n",
    "    prev_thread = row['thread_title']\n",
    "\n",
    "len(eds_in_conversation)"
   ]
  }
 ],
 "metadata": {
  "kernelspec": {
   "display_name": "Python 3",
   "language": "python",
   "name": "python3"
  },
  "language_info": {
   "codemirror_mode": {
    "name": "ipython",
    "version": 3
   },
   "file_extension": ".py",
   "mimetype": "text/x-python",
   "name": "python",
   "nbconvert_exporter": "python",
   "pygments_lexer": "ipython3",
   "version": "3.5.2"
  }
 },
 "nbformat": 4,
 "nbformat_minor": 0
}
