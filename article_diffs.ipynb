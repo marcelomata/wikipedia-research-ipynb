{
 "cells": [
  {
   "cell_type": "code",
   "execution_count": 3,
   "metadata": {
    "collapsed": false
   },
   "outputs": [],
   "source": [
    "#import pandas as pd\n",
    "import csv\n",
    "import os\n",
    "import difflib\n",
    "from collections import Counter\n",
    "from nltk import word_tokenize\n",
    "import sys\n",
    "import re\n",
    "from urllib.parse import urlsplit\n",
    "csv.field_size_limit(sys.maxsize)\n",
    "\n",
    "from IPython.core.debugger import Tracer; debug_here = Tracer()\n",
    "\n",
    "def preprocess(intext):\n",
    "    \n",
    "    text = intext\n",
    "    \n",
    "    # Fix strange sentence splitting issue for sentences\n",
    "    for m in re.findall(r'[a-z]\\.[A-Z]', text):\n",
    "        rep = '. '.join(m.split('.'))\n",
    "        text = text.replace(m, rep)\n",
    "        \n",
    "    # Fix strange sentence splitting issue for sentence + url\n",
    "    for m in re.findall(r'[a-z]\\.http', text):\n",
    "        rep = '. '.join(m.split('.'))\n",
    "        text = text.replace(m, rep)\n",
    "        \n",
    "    # Add spaces around pipes for image wiki markup\n",
    "    text = text.replace('|', ' | ')\n",
    "        \n",
    "    # Process URLs--just remove http for tokenizer\n",
    "    for url in re.findall(urlpat, intext):\n",
    "        host = urlsplit(url).netloc\n",
    "        text = text.replace(url, host)\n",
    "        \n",
    "    return text"
   ]
  },
  {
   "cell_type": "code",
   "execution_count": 7,
   "metadata": {
    "collapsed": false,
    "scrolled": true
   },
   "outputs": [
    {
     "name": "stdout",
     "output_type": "stream",
     "text": [
      "gaza_war.tsv\n",
      "0.0 k\n",
      "1.0 k\n"
     ]
    },
    {
     "ename": "KeyboardInterrupt",
     "evalue": "",
     "output_type": "error",
     "traceback": [
      "\u001b[1;31m\u001b[0m",
      "\u001b[1;31mKeyboardInterrupt\u001b[0mTraceback (most recent call last)",
      "\u001b[1;32m<ipython-input-7-e69ab4b48ccc>\u001b[0m in \u001b[0;36m<module>\u001b[1;34m()\u001b[0m\n\u001b[0;32m     25\u001b[0m                 \u001b[0madds\u001b[0m \u001b[1;33m=\u001b[0m \u001b[1;34m' '\u001b[0m\u001b[1;33m.\u001b[0m\u001b[0mjoin\u001b[0m\u001b[1;33m(\u001b[0m\u001b[0mlist\u001b[0m\u001b[1;33m(\u001b[0m\u001b[0maddc\u001b[0m\u001b[1;33m.\u001b[0m\u001b[0melements\u001b[0m\u001b[1;33m(\u001b[0m\u001b[1;33m)\u001b[0m\u001b[1;33m)\u001b[0m\u001b[1;33m)\u001b[0m\u001b[1;33m\u001b[0m\u001b[0m\n\u001b[0;32m     26\u001b[0m \u001b[1;31m#                 adds = ' '.join(word_tokenize(' '.join(list(addc.elements()))))\u001b[0m\u001b[1;33m\u001b[0m\u001b[1;33m\u001b[0m\u001b[0m\n\u001b[1;32m---> 27\u001b[1;33m                 \u001b[0mdelc\u001b[0m \u001b[1;33m=\u001b[0m \u001b[0mprevc\u001b[0m \u001b[1;33m-\u001b[0m \u001b[0mtextc\u001b[0m\u001b[1;33m\u001b[0m\u001b[0m\n\u001b[0m\u001b[0;32m     28\u001b[0m                 \u001b[0mdels\u001b[0m \u001b[1;33m=\u001b[0m \u001b[1;34m' '\u001b[0m\u001b[1;33m.\u001b[0m\u001b[0mjoin\u001b[0m\u001b[1;33m(\u001b[0m\u001b[0mlist\u001b[0m\u001b[1;33m(\u001b[0m\u001b[0mdelc\u001b[0m\u001b[1;33m.\u001b[0m\u001b[0melements\u001b[0m\u001b[1;33m(\u001b[0m\u001b[1;33m)\u001b[0m\u001b[1;33m)\u001b[0m\u001b[1;33m)\u001b[0m\u001b[1;33m\u001b[0m\u001b[0m\n\u001b[0;32m     29\u001b[0m \u001b[1;31m#                 dels = ' '.join(word_tokenize(' '.join(list(delc.elements()))))\u001b[0m\u001b[1;33m\u001b[0m\u001b[1;33m\u001b[0m\u001b[0m\n",
      "\u001b[1;32m/usr/lib/python3.5/collections/__init__.py\u001b[0m in \u001b[0;36m__sub__\u001b[1;34m(self, other)\u001b[0m\n\u001b[0;32m    713\u001b[0m             \u001b[1;32mreturn\u001b[0m \u001b[0mNotImplemented\u001b[0m\u001b[1;33m\u001b[0m\u001b[0m\n\u001b[0;32m    714\u001b[0m         \u001b[0mresult\u001b[0m \u001b[1;33m=\u001b[0m \u001b[0mCounter\u001b[0m\u001b[1;33m(\u001b[0m\u001b[1;33m)\u001b[0m\u001b[1;33m\u001b[0m\u001b[0m\n\u001b[1;32m--> 715\u001b[1;33m         \u001b[1;32mfor\u001b[0m \u001b[0melem\u001b[0m\u001b[1;33m,\u001b[0m \u001b[0mcount\u001b[0m \u001b[1;32min\u001b[0m \u001b[0mself\u001b[0m\u001b[1;33m.\u001b[0m\u001b[0mitems\u001b[0m\u001b[1;33m(\u001b[0m\u001b[1;33m)\u001b[0m\u001b[1;33m:\u001b[0m\u001b[1;33m\u001b[0m\u001b[0m\n\u001b[0m\u001b[0;32m    716\u001b[0m             \u001b[0mnewcount\u001b[0m \u001b[1;33m=\u001b[0m \u001b[0mcount\u001b[0m \u001b[1;33m-\u001b[0m \u001b[0mother\u001b[0m\u001b[1;33m[\u001b[0m\u001b[0melem\u001b[0m\u001b[1;33m]\u001b[0m\u001b[1;33m\u001b[0m\u001b[0m\n\u001b[0;32m    717\u001b[0m             \u001b[1;32mif\u001b[0m \u001b[0mnewcount\u001b[0m \u001b[1;33m>\u001b[0m \u001b[1;36m0\u001b[0m\u001b[1;33m:\u001b[0m\u001b[1;33m\u001b[0m\u001b[0m\n",
      "\u001b[1;31mKeyboardInterrupt\u001b[0m: "
     ]
    }
   ],
   "source": [
    "# Calculate diff with counter\n",
    "art_dirpath = '/home/michael/school/research/wp/wp_articles/article_revisions'\n",
    "diff_dirpath = '/home/michael/school/research/wp/wp_articles/article_diffs'\n",
    "\n",
    "urlpat = r'https?:\\/\\/(?:www\\.)?[^ ]*'\n",
    "\n",
    "for f in os.listdir(art_dirpath)[:1]:\n",
    "    print(f)\n",
    "    fpath = os.path.join(art_dirpath, f)\n",
    "    with open(fpath) as csvfile:\n",
    "        r = csv.reader(csvfile, delimiter='\\t')\n",
    "        prevc = Counter()\n",
    "        with open(os.path.join(diff_dirpath, f[:-4]+'_diff.csv'), 'w') as outfile:\n",
    "            w = csv.writer(outfile)\n",
    "            w.writerow(['article_name', 'timestamp', 'additions', 'deletions', 'editor', 'edit_comment'])\n",
    "            for i, row in enumerate(r):\n",
    "                if i % 1000 == 0:\n",
    "                    print(i/1000, 'k')\n",
    "#                 textc = Counter(word_tokenize(row[2]))\n",
    "                \n",
    "                text = preprocess(row[2])\n",
    "        \n",
    "                textc = Counter(text.split())\n",
    "                addc = textc - prevc\n",
    "                adds = ' '.join(list(addc.elements()))\n",
    "#                 adds = ' '.join(word_tokenize(' '.join(list(addc.elements()))))\n",
    "                delc = prevc - textc\n",
    "                dels = ' '.join(list(delc.elements()))\n",
    "#                 dels = ' '.join(word_tokenize(' '.join(list(delc.elements()))))\n",
    "                \n",
    "                if adds or dels:\n",
    "                    line = row[:2] + [adds, dels] + row[3:]\n",
    "                    w.writerow(line)\n",
    "                    prevc = textc\n",
    "            \n",
    "        print(\"Wrote diff file for {:s} in {:s}\".format(f, diff_dirpath))"
   ]
  },
  {
   "cell_type": "code",
   "execution_count": 20,
   "metadata": {
    "collapsed": false
   },
   "outputs": [
    {
     "name": "stdout",
     "output_type": "stream",
     "text": [
      "gaza_war.tsv\n",
      "0.0 k\n",
      "0.1 k\n",
      "0.2 k\n",
      "0.3 k\n",
      "0.4 k\n",
      "0.5 k\n",
      "0.6 k\n",
      "0.7 k\n",
      "0.8 k\n",
      "0.9 k\n",
      "1.0 k\n"
     ]
    },
    {
     "ename": "KeyboardInterrupt",
     "evalue": "",
     "output_type": "error",
     "traceback": [
      "\u001b[1;31m\u001b[0m",
      "\u001b[1;31mKeyboardInterrupt\u001b[0mTraceback (most recent call last)",
      "\u001b[1;32m<ipython-input-20-adc0aba4d6e4>\u001b[0m in \u001b[0;36m<module>\u001b[1;34m()\u001b[0m\n\u001b[0;32m     18\u001b[0m                 \u001b[0madds\u001b[0m \u001b[1;33m=\u001b[0m \u001b[1;34m''\u001b[0m\u001b[1;33m\u001b[0m\u001b[0m\n\u001b[0;32m     19\u001b[0m                 \u001b[0mdels\u001b[0m \u001b[1;33m=\u001b[0m \u001b[1;34m''\u001b[0m\u001b[1;33m\u001b[0m\u001b[0m\n\u001b[1;32m---> 20\u001b[1;33m                 \u001b[1;32mfor\u001b[0m \u001b[0mitem\u001b[0m \u001b[1;32min\u001b[0m \u001b[0ms\u001b[0m\u001b[1;33m.\u001b[0m\u001b[0mget_opcodes\u001b[0m\u001b[1;33m(\u001b[0m\u001b[1;33m)\u001b[0m\u001b[1;33m:\u001b[0m\u001b[1;33m\u001b[0m\u001b[0m\n\u001b[0m\u001b[0;32m     21\u001b[0m                     \u001b[1;31m# Additions\u001b[0m\u001b[1;33m\u001b[0m\u001b[1;33m\u001b[0m\u001b[0m\n\u001b[0;32m     22\u001b[0m                     \u001b[1;32mif\u001b[0m \u001b[0mitem\u001b[0m\u001b[1;33m[\u001b[0m\u001b[1;36m0\u001b[0m\u001b[1;33m]\u001b[0m \u001b[1;33m==\u001b[0m \u001b[1;34m'insert'\u001b[0m \u001b[1;32mor\u001b[0m \u001b[0mitem\u001b[0m\u001b[1;33m[\u001b[0m\u001b[1;36m0\u001b[0m\u001b[1;33m]\u001b[0m \u001b[1;33m==\u001b[0m \u001b[1;34m'replace'\u001b[0m\u001b[1;33m:\u001b[0m\u001b[1;33m\u001b[0m\u001b[0m\n",
      "\u001b[1;32m/usr/lib/python3.5/difflib.py\u001b[0m in \u001b[0;36mget_opcodes\u001b[1;34m(self)\u001b[0m\n\u001b[0;32m    548\u001b[0m         \u001b[0mi\u001b[0m \u001b[1;33m=\u001b[0m \u001b[0mj\u001b[0m \u001b[1;33m=\u001b[0m \u001b[1;36m0\u001b[0m\u001b[1;33m\u001b[0m\u001b[0m\n\u001b[0;32m    549\u001b[0m         \u001b[0mself\u001b[0m\u001b[1;33m.\u001b[0m\u001b[0mopcodes\u001b[0m \u001b[1;33m=\u001b[0m \u001b[0manswer\u001b[0m \u001b[1;33m=\u001b[0m \u001b[1;33m[\u001b[0m\u001b[1;33m]\u001b[0m\u001b[1;33m\u001b[0m\u001b[0m\n\u001b[1;32m--> 550\u001b[1;33m         \u001b[1;32mfor\u001b[0m \u001b[0mai\u001b[0m\u001b[1;33m,\u001b[0m \u001b[0mbj\u001b[0m\u001b[1;33m,\u001b[0m \u001b[0msize\u001b[0m \u001b[1;32min\u001b[0m \u001b[0mself\u001b[0m\u001b[1;33m.\u001b[0m\u001b[0mget_matching_blocks\u001b[0m\u001b[1;33m(\u001b[0m\u001b[1;33m)\u001b[0m\u001b[1;33m:\u001b[0m\u001b[1;33m\u001b[0m\u001b[0m\n\u001b[0m\u001b[0;32m    551\u001b[0m             \u001b[1;31m# invariant:  we've pumped out correct diffs to change\u001b[0m\u001b[1;33m\u001b[0m\u001b[1;33m\u001b[0m\u001b[0m\n\u001b[0;32m    552\u001b[0m             \u001b[1;31m# a[:i] into b[:j], and the next matching block is\u001b[0m\u001b[1;33m\u001b[0m\u001b[1;33m\u001b[0m\u001b[0m\n",
      "\u001b[1;32m/usr/lib/python3.5/difflib.py\u001b[0m in \u001b[0;36mget_matching_blocks\u001b[1;34m(self)\u001b[0m\n\u001b[0;32m    477\u001b[0m         \u001b[1;32mwhile\u001b[0m \u001b[0mqueue\u001b[0m\u001b[1;33m:\u001b[0m\u001b[1;33m\u001b[0m\u001b[0m\n\u001b[0;32m    478\u001b[0m             \u001b[0malo\u001b[0m\u001b[1;33m,\u001b[0m \u001b[0mahi\u001b[0m\u001b[1;33m,\u001b[0m \u001b[0mblo\u001b[0m\u001b[1;33m,\u001b[0m \u001b[0mbhi\u001b[0m \u001b[1;33m=\u001b[0m \u001b[0mqueue\u001b[0m\u001b[1;33m.\u001b[0m\u001b[0mpop\u001b[0m\u001b[1;33m(\u001b[0m\u001b[1;33m)\u001b[0m\u001b[1;33m\u001b[0m\u001b[0m\n\u001b[1;32m--> 479\u001b[1;33m             \u001b[0mi\u001b[0m\u001b[1;33m,\u001b[0m \u001b[0mj\u001b[0m\u001b[1;33m,\u001b[0m \u001b[0mk\u001b[0m \u001b[1;33m=\u001b[0m \u001b[0mx\u001b[0m \u001b[1;33m=\u001b[0m \u001b[0mself\u001b[0m\u001b[1;33m.\u001b[0m\u001b[0mfind_longest_match\u001b[0m\u001b[1;33m(\u001b[0m\u001b[0malo\u001b[0m\u001b[1;33m,\u001b[0m \u001b[0mahi\u001b[0m\u001b[1;33m,\u001b[0m \u001b[0mblo\u001b[0m\u001b[1;33m,\u001b[0m \u001b[0mbhi\u001b[0m\u001b[1;33m)\u001b[0m\u001b[1;33m\u001b[0m\u001b[0m\n\u001b[0m\u001b[0;32m    480\u001b[0m             \u001b[1;31m# a[alo:i] vs b[blo:j] unknown\u001b[0m\u001b[1;33m\u001b[0m\u001b[1;33m\u001b[0m\u001b[0m\n\u001b[0;32m    481\u001b[0m             \u001b[1;31m# a[i:i+k] same as b[j:j+k]\u001b[0m\u001b[1;33m\u001b[0m\u001b[1;33m\u001b[0m\u001b[0m\n",
      "\u001b[1;32m/usr/lib/python3.5/difflib.py\u001b[0m in \u001b[0;36mfind_longest_match\u001b[1;34m(self, alo, ahi, blo, bhi)\u001b[0m\n\u001b[0;32m    397\u001b[0m         \u001b[0mj2len\u001b[0m \u001b[1;33m=\u001b[0m \u001b[1;33m{\u001b[0m\u001b[1;33m}\u001b[0m\u001b[1;33m\u001b[0m\u001b[0m\n\u001b[0;32m    398\u001b[0m         \u001b[0mnothing\u001b[0m \u001b[1;33m=\u001b[0m \u001b[1;33m[\u001b[0m\u001b[1;33m]\u001b[0m\u001b[1;33m\u001b[0m\u001b[0m\n\u001b[1;32m--> 399\u001b[1;33m         \u001b[1;32mfor\u001b[0m \u001b[0mi\u001b[0m \u001b[1;32min\u001b[0m \u001b[0mrange\u001b[0m\u001b[1;33m(\u001b[0m\u001b[0malo\u001b[0m\u001b[1;33m,\u001b[0m \u001b[0mahi\u001b[0m\u001b[1;33m)\u001b[0m\u001b[1;33m:\u001b[0m\u001b[1;33m\u001b[0m\u001b[0m\n\u001b[0m\u001b[0;32m    400\u001b[0m             \u001b[1;31m# look at all instances of a[i] in b; note that because\u001b[0m\u001b[1;33m\u001b[0m\u001b[1;33m\u001b[0m\u001b[0m\n\u001b[0;32m    401\u001b[0m             \u001b[1;31m# b2j has no junk keys, the loop is skipped if a[i] is junk\u001b[0m\u001b[1;33m\u001b[0m\u001b[1;33m\u001b[0m\u001b[0m\n",
      "\u001b[1;31mKeyboardInterrupt\u001b[0m: "
     ]
    }
   ],
   "source": [
    "# Calculate diff with difflib\n",
    "art_dirpath = '/home/michael/school/research/wp/wp_articles/article_revisions'\n",
    "diff_dirpath = '/home/michael/school/research/wp/wp_articles/article_diffs'\n",
    "\n",
    "for f in os.listdir(art_dirpath)[:1]:\n",
    "    print(f)\n",
    "    fpath = os.path.join(art_dirpath, f)\n",
    "    with open(fpath) as csvfile:\n",
    "        r = csv.reader(csvfile, delimiter='\\t')\n",
    "        prev = ''\n",
    "        with open(os.path.join(diff_dirpath, f[:-4]+'_diff.csv'), 'w') as outfile:\n",
    "            w = csv.writer(outfile)\n",
    "            w.writerow(['article_name', 'timestamp', 'additions', 'deletions', 'editor', 'edit_comment'])\n",
    "            for i, row in enumerate(r):\n",
    "                if i % 100 == 0:\n",
    "                    print(i/1000, 'k')\n",
    "                text = row[2]\n",
    "                s = difflib.SequenceMatcher(lambda x: x in \" \\t\", prev, text)\n",
    "                adds = ''\n",
    "                dels = ''\n",
    "                for item in s.get_opcodes():\n",
    "                    # Additions\n",
    "                    if item[0] == 'insert' or item[0] == 'replace':\n",
    "                        adds += text[item[3]:item[4]]\n",
    "\n",
    "                    # Deletions\n",
    "                    if item[0] == 'delete' or item[0] == 'replace':\n",
    "                        dels += text[item[1]:item[2]]\n",
    "\n",
    "                w.writerow([row[:2] + [adds, dels] + row[3:]])\n",
    "                prev = text\n",
    "            \n",
    "        print(\"Wrote diff file for {:s}\".format(f))"
   ]
  }
 ],
 "metadata": {
  "kernelspec": {
   "display_name": "Python 3",
   "language": "python",
   "name": "python3"
  },
  "language_info": {
   "codemirror_mode": {
    "name": "ipython",
    "version": 3
   },
   "file_extension": ".py",
   "mimetype": "text/x-python",
   "name": "python",
   "nbconvert_exporter": "python",
   "pygments_lexer": "ipython3",
   "version": "3.5.1+"
  }
 },
 "nbformat": 4,
 "nbformat_minor": 0
}
