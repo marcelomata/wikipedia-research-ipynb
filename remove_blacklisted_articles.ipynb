{
 "cells": [
  {
   "cell_type": "code",
   "execution_count": 3,
   "metadata": {
    "collapsed": false
   },
   "outputs": [
    {
     "data": {
      "text/plain": [
       "9223372036854775807"
      ]
     },
     "execution_count": 3,
     "metadata": {},
     "output_type": "execute_result"
    }
   ],
   "source": [
    "import csv\n",
    "import os\n",
    "import shutil\n",
    "import sys\n",
    "\n",
    "datadir = '/home/michael/school/research/wp/wikipedia/data/'\n",
    "wpdir = '/home/michael/school/research/wp/'\n",
    "csv.field_size_limit(sys.maxsize)"
   ]
  },
  {
   "cell_type": "code",
   "execution_count": 4,
   "metadata": {
    "collapsed": false
   },
   "outputs": [
    {
     "name": "stdout",
     "output_type": "stream",
     "text": [
      "166\n",
      "1998\n"
     ]
    }
   ],
   "source": [
    "# Read in blacklist and articles lists\n",
    "blacklist_csvpath = '/home/michael/school/research/wp/wikipedia/data/blacklist.csv'\n",
    "articles_csvpath = '/home/michael/school/research/wp/wikipedia/data/ipc_articles_2014.tsv'\n",
    "\n",
    "blacklist = []\n",
    "\n",
    "ipclist = []\n",
    "\n",
    "with open(blacklist_csvpath, 'r') as blfile:\n",
    "    reader = csv.reader(blfile)\n",
    "    blacklist = [row[0] for row in reader]\n",
    "    \n",
    "with open(articles_csvpath, 'r') as artfile:\n",
    "    reader = csv.reader(artfile)\n",
    "    ipclist = [row[0] for row in reader if not row[0] in blacklist]\n",
    "    \n",
    "print(len(blacklist))\n",
    "print(len(ipclist))"
   ]
  },
  {
   "cell_type": "code",
   "execution_count": 5,
   "metadata": {
    "collapsed": false
   },
   "outputs": [
    {
     "name": "stdout",
     "output_type": "stream",
     "text": [
      "436\n"
     ]
    }
   ],
   "source": [
    "# Remove blacklisted articles from csv files with header row, article name first col\n",
    "arts = [\n",
    "#     os.path.join(datadir, 'article_source_biases.csv'),\n",
    "#        os.path.join(datadir, 'citations_reverts.csv'),\n",
    "#         os.path.join(datadir, 'article_lengths.csv'),\n",
    "#         os.path.join(datadir, 'ipc_article_diffs.csv'),\n",
    "#         os.path.join(datadir, 'revert_threads_scores.csv'),\n",
    "        os.path.join(wpdir, 'revert_talk_threads_unique_7days.csv'),\n",
    "#        os.path.join(datadir, 'ipc_article_biases.csv')\n",
    "       ]\n",
    "\n",
    "for art in arts:\n",
    "    artnames = list()\n",
    "    new_lines = []\n",
    "    old_csvpath = art + '_old'\n",
    "    shutil.copy(art, old_csvpath)\n",
    "\n",
    "    with open(art, 'r') as old:\n",
    "        reader = csv.reader(old)\n",
    "        hdr = next(reader)\n",
    "        for row in reader:\n",
    "            art_name = row[0]\n",
    "            if art_name not in blacklist:\n",
    "                artnames.append(art_name)\n",
    "                new_lines.append(row)\n",
    "\n",
    "    with open(art, 'w') as new:\n",
    "        writer = csv.writer(new)\n",
    "        writer.writerow(hdr)\n",
    "        for row in new_lines:\n",
    "            writer.writerow(row)\n",
    "            \n",
    "    print(len(set(artnames)))"
   ]
  },
  {
   "cell_type": "code",
   "execution_count": 6,
   "metadata": {
    "collapsed": false
   },
   "outputs": [
    {
     "name": "stdout",
     "output_type": "stream",
     "text": [
      "1385\n",
      "1385\n"
     ]
    }
   ],
   "source": [
    "# Remove blacklisted articles from csv files with header row, article name second col\n",
    "arts = [os.path.join(datadir, 'talk', 'ipc_talkpages_byarticle.csv'),\n",
    "       os.path.join(datadir, 'talk', 'ipc_utf8_talkpages.csv')]\n",
    "\n",
    "for art in arts:\n",
    "    artnames = list()\n",
    "    new_lines = []\n",
    "    old_csvpath = art + '_old'\n",
    "    shutil.copy(art, old_csvpath)\n",
    "\n",
    "    with open(art, 'r') as old:\n",
    "        reader = csv.reader(old)\n",
    "        for row in reader:\n",
    "            art_name = row[1]\n",
    "            if art_name not in blacklist:\n",
    "                artnames.append(art_name)\n",
    "                new_lines.append(row)\n",
    "\n",
    "    with open(art, 'w') as new:\n",
    "        writer = csv.writer(new)\n",
    "        for row in new_lines:\n",
    "            writer.writerow(row)\n",
    "            \n",
    "    print(len(set(artnames)))"
   ]
  },
  {
   "cell_type": "code",
   "execution_count": 8,
   "metadata": {
    "collapsed": false
   },
   "outputs": [
    {
     "name": "stdout",
     "output_type": "stream",
     "text": [
      "Moved file abraham.csv\n",
      "Moved file assault_rifle.csv\n"
     ]
    }
   ],
   "source": [
    "# Remove blacklisted articles from a dir (citations)\n",
    "blacklist_norm = [f.lower().replace(' ', '_') for f in blacklist]\n",
    "rmpath = '/home/michael/school/research/wp/wp_articles/citations/'\n",
    "mvpath = '/home/michael/school/research/wp/wp_articles/citations_blacklisted/'\n",
    "\n",
    "for f in os.listdir(rmpath):\n",
    "    if f[:-4] in blacklist_norm:\n",
    "        p = os.path.join(rmpath, f)\n",
    "        os.renames(p, os.path.join(mvpath, f))\n",
    "        print(\"Moved file {:s}\".format(f))"
   ]
  },
  {
   "cell_type": "code",
   "execution_count": 3,
   "metadata": {
    "collapsed": true
   },
   "outputs": [],
   "source": [
    "# Remove blacklisted articles from csv files with name of column 'Article'\n",
    "arts = []\n",
    "#arts = [os.path.join(datadir, 'IPC_userBiases.csv')]\n",
    "#arts = [os.path.join(datadir, 'article_bias_wiki.csv')]\n",
    "arts = [os.path.join(datadir, 'IPC_userBiases_wiki.csv')]\n",
    "\n",
    "fieldnames = []\n",
    "for art in arts:\n",
    "    artnames = list()\n",
    "    new_lines = []\n",
    "    old_csvpath = art + '_old'\n",
    "    shutil.copy(art, old_csvpath)\n",
    "\n",
    "    with open(art, 'r') as old:\n",
    "        reader = csv.DictReader(old)\n",
    "        fieldnames = reader.fieldnames\n",
    "        for row in reader:\n",
    "            art_name = row['Article']\n",
    "            if art_name not in blacklist:\n",
    "                artnames.append(art_name)\n",
    "                new_lines.append(row)\n",
    "\n",
    "for art in arts:\n",
    "    with open(art, 'w') as new:\n",
    "        writer = csv.DictWriter(new, fieldnames=reader.fieldnames)\n",
    "        writer.writeheader()\n",
    "        for i, row in enumerate(new_lines):\n",
    "            if None in row.keys():\n",
    "                print(i, row.keys())\n",
    "                break\n",
    "            writer.writerow(row)\n",
    "            \n",
    "    print(len(set(artnames)))"
   ]
  },
  {
   "cell_type": "code",
   "execution_count": 3,
   "metadata": {
    "collapsed": false
   },
   "outputs": [],
   "source": [
    "# Write new ipc_articles.tsv\n",
    "shutil.copy(articles_csvpath, articles_csvpath + '_old')\n",
    "with open(articles_csvpath, 'w') as out:\n",
    "    writer = csv.writer(out)\n",
    "    writer.writerows([name] for name in ipclist)"
   ]
  },
  {
   "cell_type": "code",
   "execution_count": 10,
   "metadata": {
    "collapsed": false
   },
   "outputs": [
    {
     "name": "stdout",
     "output_type": "stream",
     "text": [
      "2032\n"
     ]
    }
   ],
   "source": [
    "# Remove blacklisted articles from tsv files with no header row, article name first col\n",
    "arts = [os.path.join(datadir, 'ipc_articles_latest.tsv')]\n",
    "\n",
    "for art in arts:\n",
    "    artnames = list()\n",
    "    new_lines = []\n",
    "    old_csvpath = art + '_old'\n",
    "    shutil.copy(art, old_csvpath)\n",
    "\n",
    "    with open(art, 'r') as old:\n",
    "        reader = csv.reader(old, delimiter='\\t')\n",
    "        for row in reader:\n",
    "            art_name = row[0]\n",
    "            if art_name not in blacklist:\n",
    "                artnames.append(art_name)\n",
    "                new_lines.append(row)\n",
    "\n",
    "    with open(art, 'w') as new:\n",
    "        writer = csv.writer(new)\n",
    "        for row in new_lines:\n",
    "            writer.writerow(row)\n",
    "            \n",
    "    print(len(set(artnames)))"
   ]
  }
 ],
 "metadata": {
  "kernelspec": {
   "display_name": "Python 3",
   "language": "python",
   "name": "python3"
  },
  "language_info": {
   "codemirror_mode": {
    "name": "ipython",
    "version": 3
   },
   "file_extension": ".py",
   "mimetype": "text/x-python",
   "name": "python",
   "nbconvert_exporter": "python",
   "pygments_lexer": "ipython3",
   "version": "3.5.2"
  }
 },
 "nbformat": 4,
 "nbformat_minor": 0
}
